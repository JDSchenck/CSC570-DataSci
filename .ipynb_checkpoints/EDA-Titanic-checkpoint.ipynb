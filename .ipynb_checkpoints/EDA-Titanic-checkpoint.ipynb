{
 "cells": [
  {
   "cell_type": "markdown",
   "metadata": {},
   "source": [
    "# Titanic Survival Outcomes - An Exploratory Data Analysis\n",
    "---\n",
    "\n",
    "Prepared By: Jason Schenck  \n",
    "Date: January 30th 2017  \n",
    "CSC-570 Data Science Essentials\n",
    "\n",
    "\n",
    "<br>\n",
    "<big>Table Of Contents</big>\n",
    "\n",
    "---\n",
    "* **[1 Introduction][Introduction]**\n",
    "   * [1.1][1.1] _Survival On The Titanic_\n",
    "   * [1.2][1.2] _Data Overview & Explanations_\n",
    "   * [1.3][1.3] _Exploratory Data Analysis (EDA) Defined_\n",
    "   * [1.4][1.4] _Process/Procedure & Methodology_\n",
    "   \n",
    "   <br>\n",
    "* **[2 Feature Analysis][Feature Analysis]**\n",
    "   * [2.1][2.1] _Categorical/Nominal_\n",
    "     * [2.1.1][2.1.1] Survived\n",
    "     * [2.1.2][2.1.2] Pclass\n",
    "     * [2.1.3][2.1.3] Name\n",
    "     * [2.1.4][2.1.4] Sex\n",
    "     * [2.1.5][2.1.5] Ticket\n",
    "     * [2.1.6][2.1.6] Cabin\n",
    "     * [2.1.7][2.1.7] Embarked\n",
    "   \n",
    "   * [2.2][2.2] _Continuous/Discrete_\n",
    "     * [2.2.1][2.2.1] Age\n",
    "     * [2.2.2][2.2.2] SibSp\n",
    "     * [2.2.3][2.2.3] Parch\n",
    "     * [2.2.4][2.2.4] Fare\n",
    "     * [2.2.5][2.2.5] PassengerId\n",
    "     \n",
    "     <br>\n",
    "* **[3 Missing Values][Missing Values]**\n",
    "   * [3.1][3.1] _Variables Of Concern_\n",
    "     * [3.1.1][3.1.1] Age\n",
    "     * [3.1.2][3.1.2] Cabin\n",
    "     * [3.1.3][3.1.3] Embarked\n",
    "   \n",
    "   <br>\n",
    "* **[4 Insights, Observations, and Questions][Insights]**\n",
    "   * [4.1][4.1] _Women & Children_\n",
    "   * [4.2][4.2] _Wealth vs Poverty_\n",
    "   * [4.3][4.3] _Name Data Analysis (Titles & Ethnicities)_\n",
    "   * [4.4][4.4] _Repeated Ticket Values_\n",
    "   * [4.5][4.5] _Classifying Accomdation Classes From Cabin Distribution_\n",
    "\n",
    "[Introduction]: #1-Introduction\n",
    "[1.1]: #1.1-Survival-On-The-Titanic\n",
    "[1.2]: #1.2-Data-Overview-&-Explanations\n",
    "[1.3]: #1.3-Exploratory-Data-Analysis-(EDA)-Defined\n",
    "[1.4]: #1.4-Process/Procedure-&-Methodology\n",
    "[Feature Analysis]: #2-Feature-Analysis\n",
    "[2.1]: #2.1-Categorical/Nominal\n",
    "[2.1.1]: #2.1.1-Survived\n",
    "[2.1.2]: #2.1.2-Pclass\n",
    "[2.1.3]: #2.1.3-Name\n",
    "[2.1.4]: #2.1.4-Sex\n",
    "[2.1.5]: #2.1.5-Ticket\n",
    "[2.1.6]: #2.1.6-Cabin\n",
    "[2.1.7]: #2.1.7-Embarked\n",
    "[2.2]: #2.2-Continuous\n",
    "[2.2.1]: #2.2.1-Age\n",
    "[2.2.2]: #2.2.2-SibSp\n",
    "[2.2.3]: #2.2.3-Parch\n",
    "[2.2.4]: #2.2.4-Fare\n",
    "[2.2.5]: #2.2.5-PassengerId\n",
    "[Missing Values]: #3-Missing-Values\n",
    "[3.1]: #3.1-Variables-Of-Concern\n",
    "[3.1.1]: #3.1.1-Age\n",
    "[3.1.2]: #3.1.2-Cabin\n",
    "[3.1.3]: #3.1.3-Embarked\n",
    "[Insights]: #4-Insights,-Observations,-&-Questions\n",
    "[4.1]: #4.1-Women-&-Children\n",
    "[4.2]: #4.2-Wealth-vs-Poverty\n",
    "[4.3]: #4.3-Name-Data-Analysis-(Titles-&-Ethnicities)\n",
    "[4.4]: #4.4-Repeated-Ticket-Values\n",
    "[4.5]: #4.5-Classifying-Accomdation-Classes-From-Cabin-Distribution\n",
    "\n",
    "\n",
    "<br>\n",
    "<div class=\"alert alert-success\">\n",
    "<b>Data Source</b> [Kaggle: Titanic Machine Learning from Disaster](https://www.kaggle.com/c/titanic)\n",
    "</div>\n",
    "\n",
    "---"
   ]
  },
  {
   "cell_type": "markdown",
   "metadata": {},
   "source": [
    "## 1 Introduction\n",
    "---"
   ]
  },
  {
   "cell_type": "markdown",
   "metadata": {},
   "source": [
    "My name is Jason Schenck, and I'm currently a graduate student at the University of Illinois at Springfield pursuing a MS CS degree with a focus mainly on data science, analytics, and artificial intelligence. This semester (Spring 2017) I was fortunate enough to gain entry to CSC570, Data Science Essentials, under the direction of Professor Mike Bernico who is an established practicing data scientist in the field. I'm very excited for the opportunity and wealth of knowledge that will surely be gained over the course of the next few months as I progress through this challenging semester!\n",
    "\n",
    "For my first assignment, I will be performing an exploratory data analysis on the Titanic dataset provided by Kaggle which contains observations of passengers who were aboard the ship at the time of sinking. Over the next 12 weeks I intend to build upon this study and construct a successful machine learning model which will be able to predict what sorts of people were likely to survive this tragedy.  "
   ]
  },
  {
   "cell_type": "markdown",
   "metadata": {},
   "source": [
    "### 1.1 Survival On The Titanic"
   ]
  },
  {
   "cell_type": "markdown",
   "metadata": {},
   "source": [
    "Kaggle provides the following description of the challenge and analysis of this assignment:\n",
    "\n",
    ">The sinking of the RMS Titanic is one of the most infamous shipwrecks in history.  On April 15, 1912, during her maiden voyage, the Titanic sank after colliding with an iceberg, killing 1502 out of 2224 passengers and crew. This sensational tragedy shocked the international community and led to better safety regulations for ships.\n",
    "\n",
    ">One of the reasons that the shipwreck led to such loss of life was that there were not enough lifeboats for the passengers and crew. Although there was some element of luck involved in surviving the sinking, some groups of people were more likely to survive than others, such as women, children, and the upper-class.\n",
    "\n",
    ">In this challenge, we ask you to complete the analysis of what sorts of people were likely to survive. In particular, we ask you to apply the tools of machine learning to predict which passengers survived the tragedy."
   ]
  },
  {
   "cell_type": "markdown",
   "metadata": {},
   "source": [
    "### 1.2 Data Overview & Explanations"
   ]
  },
  {
   "cell_type": "markdown",
   "metadata": {},
   "source": [
    "Variable descriptions and details pertaining to the train and test datasets are provided by [**Kaggle**](https://www.kaggle.com/c/titanic/data):\n",
    "\n",
    "> \n",
    "<code>VARIABLE DESCRIPTIONS:\n",
    "survival        Survival\n",
    "                (0 = No; 1 = Yes)\n",
    "pclass          Passenger Class\n",
    "                (1 = 1st; 2 = 2nd; 3 = 3rd)\n",
    "name            Name\n",
    "sex             Sex\n",
    "age             Age\n",
    "sibsp           Number of Siblings/Spouses Aboard\n",
    "parch           Number of Parents/Children Aboard\n",
    "ticket          Ticket Number\n",
    "fare            Passenger Fare\n",
    "cabin           Cabin\n",
    "embarked        Port of Embarkation\n",
    "                (C = Cherbourg; Q = Queenstown; S = Southampton)  \n",
    "SPECIAL NOTES:\n",
    "Pclass is a proxy for socio-economic status (SES)\n",
    " 1st ~ Upper; 2nd ~ Middle; 3rd ~ Lower  \n",
    "\n",
    ">Age is in Years; Fractional if Age less than One (1)\n",
    " If the Age is Estimated, it is in the form xx.5  \n",
    "With respect to the family relation variables (i.e. sibsp and parch)\n",
    "some relations were ignored.  The following are the definitions used\n",
    "for sibsp and parch.  \n",
    "\n",
    ">Sibling:  Brother, Sister, Stepbrother, or Stepsister of Passenger Aboard Titanic\n",
    "Spouse:   Husband or Wife of Passenger Aboard Titanic (Mistresses and Fiances Ignored)\n",
    "Parent:   Mother or Father of Passenger Aboard Titanic\n",
    "Child:    Son, Daughter, Stepson, or Stepdaughter of Passenger Aboard Titanic  \n",
    "\n",
    ">Other family relatives excluded from this study include cousins,\n",
    "nephews/nieces, aunts/uncles, and in-laws.  Some children travelled\n",
    "only with a nanny, therefore parch=0 for them.  As well, some\n",
    "travelled with very close friends or neighbors in a village, however,\n",
    "the definitions do not support such relations.</code>\n",
    ">"
   ]
  },
  {
   "cell_type": "markdown",
   "metadata": {},
   "source": [
    "### 1.3 Exploratory Data Analysis (EDA) Defined"
   ]
  },
  {
   "cell_type": "markdown",
   "metadata": {},
   "source": [
    "An exploratory data analysis, or EDA, is the process of studying and learning about the data in our sample prior to testing a hypothesis. Each dependent variable is observed, classified, and inspected for relationships that may have an impact on the outcome of our dependent variable. In this case the dependent variable that we are trying to model prediction for is 'Survived', that is we are trying to determine which, if any, of our independent features of passengers have the highest influence over the outcome of whether or not a passenger was likely to survive or not at the time the Titanic sank. \n"
   ]
  },
  {
   "cell_type": "markdown",
   "metadata": {},
   "source": [
    "### 1.4 Process/Procedure & Methodology"
   ]
  },
  {
   "cell_type": "markdown",
   "metadata": {
    "collapsed": false
   },
   "source": [
    "To perform my EDA, I will inspect each variable/feature and first determine which variables are dependent versus independent and whether each one is categorical or continuous in nature. Then I will note the appropriate observations for each accordingly:\n",
    "\n",
    "* **For Categorical/Nominal Variables** \n",
    "  * What are the categories?  \n",
    "  * How many categories?\n",
    "  * Distribution analysis and visualization\n",
    "  * Are there any missing values?\n",
    "* **For Continuous Variables**\n",
    "  * Descriptive statistics: min, max, mean, standard deviation, etc.\n",
    "  * Distribution analysis and visualization\n",
    "  * Are there any missing values?\n",
    "* **For Both**\n",
    "  * What observations can be made from the distribution analysis?\n",
    "  * Can this variable be related in some way to any other idependent variable?\n",
    "  * Can this variable be related in some way to our dependent variable?\n"
   ]
  },
  {
   "cell_type": "markdown",
   "metadata": {},
   "source": [
    "## 2 Feature Analysis\n",
    "---"
   ]
  },
  {
   "cell_type": "markdown",
   "metadata": {},
   "source": [
    "### 2.1 Categorical/Nominal"
   ]
  },
  {
   "cell_type": "markdown",
   "metadata": {},
   "source": [
    "#### 2.1.1 Survived"
   ]
  },
  {
   "cell_type": "code",
   "execution_count": 747,
   "metadata": {
    "collapsed": false
   },
   "outputs": [
    {
     "name": "stdout",
     "output_type": "stream",
     "text": [
      "Populating the interactive namespace from numpy and matplotlib\n"
     ]
    }
   ],
   "source": [
    "# Required imports for Pandas and inline graph plots\n",
    "import pandas as pd\n",
    "import numpy as np\n",
    "%pylab inline"
   ]
  },
  {
   "cell_type": "code",
   "execution_count": 748,
   "metadata": {
    "collapsed": false
   },
   "outputs": [],
   "source": [
    "# Create a new dataframe 'df' by reading in our data file train.csv\n",
    "df = pd.read_csv(\"train.csv\")"
   ]
  },
  {
   "cell_type": "code",
   "execution_count": 749,
   "metadata": {
    "collapsed": false
   },
   "outputs": [
    {
     "data": {
      "text/html": [
       "<div>\n",
       "<table border=\"1\" class=\"dataframe\">\n",
       "  <thead>\n",
       "    <tr style=\"text-align: right;\">\n",
       "      <th></th>\n",
       "      <th>PassengerId</th>\n",
       "      <th>Survived</th>\n",
       "      <th>Pclass</th>\n",
       "      <th>Name</th>\n",
       "      <th>Sex</th>\n",
       "      <th>Age</th>\n",
       "      <th>SibSp</th>\n",
       "      <th>Parch</th>\n",
       "      <th>Ticket</th>\n",
       "      <th>Fare</th>\n",
       "      <th>Cabin</th>\n",
       "      <th>Embarked</th>\n",
       "    </tr>\n",
       "  </thead>\n",
       "  <tbody>\n",
       "    <tr>\n",
       "      <th>0</th>\n",
       "      <td>1</td>\n",
       "      <td>0</td>\n",
       "      <td>3</td>\n",
       "      <td>Braund, Mr. Owen Harris</td>\n",
       "      <td>male</td>\n",
       "      <td>22.0</td>\n",
       "      <td>1</td>\n",
       "      <td>0</td>\n",
       "      <td>A/5 21171</td>\n",
       "      <td>7.2500</td>\n",
       "      <td>NaN</td>\n",
       "      <td>S</td>\n",
       "    </tr>\n",
       "    <tr>\n",
       "      <th>1</th>\n",
       "      <td>2</td>\n",
       "      <td>1</td>\n",
       "      <td>1</td>\n",
       "      <td>Cumings, Mrs. John Bradley (Florence Briggs Th...</td>\n",
       "      <td>female</td>\n",
       "      <td>38.0</td>\n",
       "      <td>1</td>\n",
       "      <td>0</td>\n",
       "      <td>PC 17599</td>\n",
       "      <td>71.2833</td>\n",
       "      <td>C85</td>\n",
       "      <td>C</td>\n",
       "    </tr>\n",
       "    <tr>\n",
       "      <th>2</th>\n",
       "      <td>3</td>\n",
       "      <td>1</td>\n",
       "      <td>3</td>\n",
       "      <td>Heikkinen, Miss. Laina</td>\n",
       "      <td>female</td>\n",
       "      <td>26.0</td>\n",
       "      <td>0</td>\n",
       "      <td>0</td>\n",
       "      <td>STON/O2. 3101282</td>\n",
       "      <td>7.9250</td>\n",
       "      <td>NaN</td>\n",
       "      <td>S</td>\n",
       "    </tr>\n",
       "    <tr>\n",
       "      <th>3</th>\n",
       "      <td>4</td>\n",
       "      <td>1</td>\n",
       "      <td>1</td>\n",
       "      <td>Futrelle, Mrs. Jacques Heath (Lily May Peel)</td>\n",
       "      <td>female</td>\n",
       "      <td>35.0</td>\n",
       "      <td>1</td>\n",
       "      <td>0</td>\n",
       "      <td>113803</td>\n",
       "      <td>53.1000</td>\n",
       "      <td>C123</td>\n",
       "      <td>S</td>\n",
       "    </tr>\n",
       "    <tr>\n",
       "      <th>4</th>\n",
       "      <td>5</td>\n",
       "      <td>0</td>\n",
       "      <td>3</td>\n",
       "      <td>Allen, Mr. William Henry</td>\n",
       "      <td>male</td>\n",
       "      <td>35.0</td>\n",
       "      <td>0</td>\n",
       "      <td>0</td>\n",
       "      <td>373450</td>\n",
       "      <td>8.0500</td>\n",
       "      <td>NaN</td>\n",
       "      <td>S</td>\n",
       "    </tr>\n",
       "  </tbody>\n",
       "</table>\n",
       "</div>"
      ],
      "text/plain": [
       "   PassengerId  Survived  Pclass  \\\n",
       "0            1         0       3   \n",
       "1            2         1       1   \n",
       "2            3         1       3   \n",
       "3            4         1       1   \n",
       "4            5         0       3   \n",
       "\n",
       "                                                Name     Sex   Age  SibSp  \\\n",
       "0                            Braund, Mr. Owen Harris    male  22.0      1   \n",
       "1  Cumings, Mrs. John Bradley (Florence Briggs Th...  female  38.0      1   \n",
       "2                             Heikkinen, Miss. Laina  female  26.0      0   \n",
       "3       Futrelle, Mrs. Jacques Heath (Lily May Peel)  female  35.0      1   \n",
       "4                           Allen, Mr. William Henry    male  35.0      0   \n",
       "\n",
       "   Parch            Ticket     Fare Cabin Embarked  \n",
       "0      0         A/5 21171   7.2500   NaN        S  \n",
       "1      0          PC 17599  71.2833   C85        C  \n",
       "2      0  STON/O2. 3101282   7.9250   NaN        S  \n",
       "3      0            113803  53.1000  C123        S  \n",
       "4      0            373450   8.0500   NaN        S  "
      ]
     },
     "execution_count": 749,
     "metadata": {},
     "output_type": "execute_result"
    }
   ],
   "source": [
    "# Let's take our first look at the first 5 rows of data\n",
    "df.head()"
   ]
  },
  {
   "cell_type": "code",
   "execution_count": 750,
   "metadata": {
    "collapsed": false
   },
   "outputs": [
    {
     "data": {
      "text/plain": [
       "(891, 12)"
      ]
     },
     "execution_count": 750,
     "metadata": {},
     "output_type": "execute_result"
    }
   ],
   "source": [
    "# Inspect the 'shape' of the dataframe, print (# observations/rows, # variables/features/columns)\n",
    "df.shape"
   ]
  },
  {
   "cell_type": "markdown",
   "metadata": {},
   "source": [
    "'Survived' is a binary categorical feature that is going to play a major role in this analysis as it indicates whether a passenger survived or not."
   ]
  },
  {
   "cell_type": "code",
   "execution_count": 751,
   "metadata": {
    "collapsed": false
   },
   "outputs": [
    {
     "data": {
      "text/plain": [
       "0    549\n",
       "1    342\n",
       "Name: Survived, dtype: int64"
      ]
     },
     "execution_count": 751,
     "metadata": {},
     "output_type": "execute_result"
    }
   ],
   "source": [
    "# Ensure only two categories exist (Survived = 1 or Died = 0), and find the count of each.\n",
    "df.Survived.value_counts()"
   ]
  },
  {
   "cell_type": "code",
   "execution_count": 752,
   "metadata": {
    "collapsed": false
   },
   "outputs": [
    {
     "data": {
      "text/plain": [
       "<matplotlib.axes._subplots.AxesSubplot at 0x1227090f0>"
      ]
     },
     "execution_count": 752,
     "metadata": {},
     "output_type": "execute_result"
    },
    {
     "data": {
      "image/png": "[encoded data removed]",
      "text/plain": [
       "<matplotlib.figure.Figure at 0x122707da0>"
      ]
     },
     "metadata": {},
     "output_type": "display_data"
    }
   ],
   "source": [
    "# Visualization of distribution of survivors(1) vs non-survivors(0)\n",
    "df.Survived.value_counts().plot(kind='barh', title=\"Survival Distribution (1 -> Yes, 0 -> No)\")"
   ]
  },
  {
   "cell_type": "code",
   "execution_count": 753,
   "metadata": {
    "collapsed": false
   },
   "outputs": [
    {
     "data": {
      "text/html": [
       "<div>\n",
       "<table border=\"1\" class=\"dataframe\">\n",
       "  <thead>\n",
       "    <tr style=\"text-align: right;\">\n",
       "      <th></th>\n",
       "      <th>PassengerId</th>\n",
       "      <th>Survived</th>\n",
       "      <th>Pclass</th>\n",
       "      <th>Name</th>\n",
       "      <th>Sex</th>\n",
       "      <th>Age</th>\n",
       "      <th>SibSp</th>\n",
       "      <th>Parch</th>\n",
       "      <th>Ticket</th>\n",
       "      <th>Fare</th>\n",
       "      <th>Cabin</th>\n",
       "      <th>Embarked</th>\n",
       "    </tr>\n",
       "  </thead>\n",
       "  <tbody>\n",
       "  </tbody>\n",
       "</table>\n",
       "</div>"
      ],
      "text/plain": [
       "Empty DataFrame\n",
       "Columns: [PassengerId, Survived, Pclass, Name, Sex, Age, SibSp, Parch, Ticket, Fare, Cabin, Embarked]\n",
       "Index: []"
      ]
     },
     "execution_count": 753,
     "metadata": {},
     "output_type": "execute_result"
    }
   ],
   "source": [
    "# Checking for missing values\n",
    "df[df.Survived.isnull()]"
   ]
  },
  {
   "cell_type": "markdown",
   "metadata": {},
   "source": [
    "'Survived' looks pretty good so far, as we would expect the analysis shows only two categories present 1 or 0 (survived, died), and we have no missing values which is great since it's crucial that we know for sure whether a passsenger survived or not. The value count and distribution tell us that most people didn't survive the sinking, which is also good news since that aligns with the actual event stats. I'm going to come back to 'Survived' later on to perform more observations and calculations since this is the dependent variable that I will be trying to model. With that in mind, I'm going to find the percentage of survival overall given 891 passengers in our sample and only 342 survived and store it for future use."
   ]
  },
  {
   "cell_type": "code",
   "execution_count": 754,
   "metadata": {
    "collapsed": false
   },
   "outputs": [
    {
     "name": "stdout",
     "output_type": "stream",
     "text": [
      "0.3838383838383838\n"
     ]
    }
   ],
   "source": [
    "# Finding & storing the total % Survival of all passengers\n",
    "survived_percent = 342/891.0\n",
    "print(survived_percent)"
   ]
  },
  {
   "cell_type": "markdown",
   "metadata": {},
   "source": [
    "**Summary Survived**  \n",
    "Pretty straightforward here, this is the dependent variable of our study. Two categories: Did the passenger survive (1) or not (0)? From my EDA I conclude that it is a binary categorical feature. The distribution reflects approximately 38.38% of passengers in our sample survived which aligns with the historical population data of the actual event. Also, no missing values. I'll be looking more into 'Survived' again in my later section on insights/observations, for example considering the distribution of survival by gender, class, age, etc., but for now let's move on."
   ]
  },
  {
   "cell_type": "markdown",
   "metadata": {},
   "source": [
    "#### 2.1.2 Pclass"
   ]
  },
  {
   "cell_type": "markdown",
   "metadata": {},
   "source": [
    "According to our variable documentation, 'Pclass' should be a categorical variable which tells us which class a passenger was in: 1 - 1st, 2 - 2nd, or 3- 3rd class.  \n",
    "Let's test that real quick, and make sure everything looks good."
   ]
  },
  {
   "cell_type": "code",
   "execution_count": 755,
   "metadata": {
    "collapsed": false
   },
   "outputs": [
    {
     "data": {
      "text/plain": [
       "3    491\n",
       "1    216\n",
       "2    184\n",
       "Name: Pclass, dtype: int64"
      ]
     },
     "execution_count": 755,
     "metadata": {},
     "output_type": "execute_result"
    }
   ],
   "source": [
    "# Ensure only 3 categories exist (1,2,3 class), and find the count of each.\n",
    "df.Pclass.value_counts()"
   ]
  },
  {
   "cell_type": "code",
   "execution_count": 756,
   "metadata": {
    "collapsed": false
   },
   "outputs": [
    {
     "data": {
      "text/plain": [
       "<matplotlib.axes._subplots.AxesSubplot at 0x12270cc50>"
      ]
     },
     "execution_count": 756,
     "metadata": {},
     "output_type": "execute_result"
    },
    {
     "data": {
      "image/png": "[encoded data removed]",
      "text/plain": [
       "<matplotlib.figure.Figure at 0x139904e48>"
      ]
     },
     "metadata": {},
     "output_type": "display_data"
    }
   ],
   "source": [
    "# Since we have 3 categories this time, i'll check out a pie chart first\n",
    "df.Pclass.value_counts().plot(kind='pie', title='Distribution of Passenger Class (1st, 2nd, or 3rd)')"
   ]
  },
  {
   "cell_type": "code",
   "execution_count": 757,
   "metadata": {
    "collapsed": false
   },
   "outputs": [
    {
     "data": {
      "text/plain": [
       "<matplotlib.axes._subplots.AxesSubplot at 0x12270db38>"
      ]
     },
     "execution_count": 757,
     "metadata": {},
     "output_type": "execute_result"
    },
    {
     "data": {
      "image/png": "[encoded data removed]",
      "text/plain": [
       "<matplotlib.figure.Figure at 0x139aa0668>"
      ]
     },
     "metadata": {},
     "output_type": "display_data"
    }
   ],
   "source": [
    "# With class 1 and 2 being pretty close in value the pie chart was a bit difficult to interpret, plot bar as well.\n",
    "df.Pclass.value_counts().plot(kind='barh',title='Distribution of Passenger Class (1st, 2nd, or 3rd)')"
   ]
  },
  {
   "cell_type": "code",
   "execution_count": 758,
   "metadata": {
    "collapsed": false
   },
   "outputs": [
    {
     "data": {
      "text/html": [
       "<div>\n",
       "<table border=\"1\" class=\"dataframe\">\n",
       "  <thead>\n",
       "    <tr style=\"text-align: right;\">\n",
       "      <th></th>\n",
       "      <th>PassengerId</th>\n",
       "      <th>Survived</th>\n",
       "      <th>Pclass</th>\n",
       "      <th>Name</th>\n",
       "      <th>Sex</th>\n",
       "      <th>Age</th>\n",
       "      <th>SibSp</th>\n",
       "      <th>Parch</th>\n",
       "      <th>Ticket</th>\n",
       "      <th>Fare</th>\n",
       "      <th>Cabin</th>\n",
       "      <th>Embarked</th>\n",
       "    </tr>\n",
       "  </thead>\n",
       "  <tbody>\n",
       "  </tbody>\n",
       "</table>\n",
       "</div>"
      ],
      "text/plain": [
       "Empty DataFrame\n",
       "Columns: [PassengerId, Survived, Pclass, Name, Sex, Age, SibSp, Parch, Ticket, Fare, Cabin, Embarked]\n",
       "Index: []"
      ]
     },
     "execution_count": 758,
     "metadata": {},
     "output_type": "execute_result"
    }
   ],
   "source": [
    "# Any missing?\n",
    "df[df.Pclass.isnull()]"
   ]
  },
  {
   "cell_type": "markdown",
   "metadata": {},
   "source": [
    "This distribution looks interesting to me because we can see that an overwhelming majority of passengers appear to have been in 3rd class, yet there were more 1st class passengers than 2nd class passengers. Prior to visualization I would have expected the distribution to be in this order: 1st < 2nd < 3rd naturally. \n",
    "\n",
    "A few questions come to mind that I definitely want to investigate here. In regard to possible class and survival variable relationships, I'm going to calculate and store each class percent survived value.\n",
    "\n",
    "For me the elephant in the room here is 3rd class. What percent of the passengers did they represent? How did their majority representation play into the overall result of passenger survivorship on the Titanic? So many questions! "
   ]
  },
  {
   "cell_type": "code",
   "execution_count": 759,
   "metadata": {
    "collapsed": false
   },
   "outputs": [
    {
     "name": "stdout",
     "output_type": "stream",
     "text": [
      "Percent of 1st Class: 0.24242424242424243\n",
      "Percent of 2nd Class: 0.20650953984287318\n",
      "Percent of 3rd Class: 0.5510662177328844\n"
     ]
    }
   ],
   "source": [
    "# Find and store distribution percent for each class\n",
    "class1_percent = len(df[df.Pclass == 1]) / 891.0\n",
    "class2_percent = len(df[df.Pclass == 2]) / 891.0\n",
    "class3_percent = len(df[df.Pclass == 3]) / 891.0\n",
    "print('Percent of 1st Class:',class1_percent)\n",
    "print('Percent of 2nd Class:',class2_percent) \n",
    "print('Percent of 3rd Class:',class3_percent)\n",
    "\n",
    "# More than 55% of all passengers were in 3rd class, that's more than 1st (~24%) and 2nd (~21%) combined!\n",
    "\n"
   ]
  },
  {
   "cell_type": "code",
   "execution_count": 760,
   "metadata": {
    "collapsed": false
   },
   "outputs": [
    {
     "name": "stdout",
     "output_type": "stream",
     "text": [
      "Survival By Class - Counts\n",
      "\n",
      "1st Class\n",
      "1    136\n",
      "0     80\n",
      "Name: Survived, dtype: int64 \n",
      "\n",
      "2nd Class\n",
      "0    97\n",
      "1    87\n",
      "Name: Survived, dtype: int64 \n",
      "\n",
      "3rd Class\n",
      "0    372\n",
      "1    119\n",
      "Name: Survived, dtype: int64 \n",
      "\n"
     ]
    }
   ],
   "source": [
    "# Find value counts of survived by class\n",
    "print('Survival By Class - Counts\\n')\n",
    "\n",
    "print('1st Class')\n",
    "class1_num_survived = df[df.Pclass == 1].Survived.value_counts()\n",
    "print(class1_num_survived,'\\n')\n",
    "\n",
    "print('2nd Class')\n",
    "class2_num_survived = df[df.Pclass == 2].Survived.value_counts()\n",
    "print(class2_num_survived,'\\n')\n",
    "\n",
    "print('3rd Class')\n",
    "class3_num_survived = df[df.Pclass == 3].Survived.value_counts()\n",
    "print(class3_num_survived,'\\n')\n",
    "\n"
   ]
  },
  {
   "cell_type": "code",
   "execution_count": 761,
   "metadata": {
    "collapsed": false
   },
   "outputs": [
    {
     "name": "stdout",
     "output_type": "stream",
     "text": [
      "Survival - Pclass.Survived / Overall Survivors\n",
      "\n",
      "1st Class\n",
      "0.39766081871345027 \n",
      "\n",
      "2nd Class\n",
      "0.2543859649122807 \n",
      "\n",
      "3rd Class\n",
      "0.347953216374269\n"
     ]
    }
   ],
   "source": [
    "# Survival by Class - Percent (342 total survivors)\n",
    "# What percentage of survivors were a particular class?\n",
    "class1_survived_percent = 136 / 342.0\n",
    "class2_survived_percent = 87 / 342.0\n",
    "class3_survived_percent = 119 / 342.0\n",
    "\n",
    "print('Survival - Pclass.Survived / Overall Survivors\\n')  \n",
    "print('1st Class')\n",
    "print(class1_survived_percent,'\\n')  \n",
    "\n",
    "print('2nd Class')\n",
    "print(class2_survived_percent,'\\n')\n",
    "\n",
    "\n",
    "print('3rd Class')\n",
    "print(class3_survived_percent)"
   ]
  },
  {
   "cell_type": "markdown",
   "metadata": {},
   "source": [
    "This is definitely an area of very high concern! There were more than double the number of 3rd class passengers onboard the ship than 1st class passengers, yet even still despite those odds more 1st class passengers survived than 3rd.   "
   ]
  },
  {
   "cell_type": "markdown",
   "metadata": {},
   "source": [
    "**Summary Pclass**  \n",
    "This variable is categorical, with 3 categories 1st, 2nd, or 3rd class. No missing values. The distribution of passengers by Pclass was a very heavy majority of 3rd class passengers, accounting for more than than 1st and 2nd class combined! Upon closer inspection, this variable appears to be one of the most important factors affecting survival outcome so far! There were only ~24% of first class passengers meanwhile a whopping ~55% of the passengers were 3rd class, however when it comes to survival outcomes ~40% of 1st class passengers survived while only ~35% of 3rd class passengers survived.  "
   ]
  },
  {
   "cell_type": "markdown",
   "metadata": {},
   "source": [
    "#### 2.1.3 Name"
   ]
  },
  {
   "cell_type": "code",
   "execution_count": 762,
   "metadata": {
    "collapsed": false
   },
   "outputs": [
    {
     "data": {
      "text/plain": [
       "Taussig, Miss. Ruth                                                    1\n",
       "Webber, Miss. Susan                                                    1\n",
       "Newsom, Miss. Helen Monypeny                                           1\n",
       "Heikkinen, Miss. Laina                                                 1\n",
       "O'Driscoll, Miss. Bridget                                              1\n",
       "Persson, Mr. Ernst Ulrik                                               1\n",
       "Sedgwick, Mr. Charles Frederick Waddington                             1\n",
       "Weir, Col. John                                                        1\n",
       "Nosworthy, Mr. Richard Cater                                           1\n",
       "Eklund, Mr. Hans Linus                                                 1\n",
       "Doharr, Mr. Tannous                                                    1\n",
       "Lahoud, Mr. Sarkis                                                     1\n",
       "Kassem, Mr. Fared                                                      1\n",
       "Rintamaki, Mr. Matti                                                   1\n",
       "Ford, Miss. Doolina Margaret \"Daisy\"                                   1\n",
       "Van Impe, Miss. Catharina                                              1\n",
       "Johnston, Mr. Andrew G                                                 1\n",
       "Fynney, Mr. Joseph J                                                   1\n",
       "Johansson, Mr. Erik                                                    1\n",
       "Morrow, Mr. Thomas Rowan                                               1\n",
       "Laroche, Miss. Simonne Marie Anne Andree                               1\n",
       "Gillespie, Mr. William Henry                                           1\n",
       "Lester, Mr. James                                                      1\n",
       "Laleff, Mr. Kristo                                                     1\n",
       "Brown, Mrs. Thomas William Solomon (Elizabeth Catherine Ford)          1\n",
       "Shelley, Mrs. William (Imanita Parrish Hall)                           1\n",
       "Tornquist, Mr. William Henry                                           1\n",
       "Kelly, Miss. Mary                                                      1\n",
       "Masselmani, Mrs. Fatima                                                1\n",
       "Oreskovic, Mr. Luka                                                    1\n",
       "                                                                      ..\n",
       "Petroff, Mr. Nedelio                                                   1\n",
       "Sage, Miss. Constance Gladys                                           1\n",
       "de Pelsmaeker, Mr. Alfons                                              1\n",
       "Natsch, Mr. Charles H                                                  1\n",
       "Moubarek, Master. Halim Gonios (\"William George\")                      1\n",
       "Peuchen, Major. Arthur Godfrey                                         1\n",
       "Bjornstrom-Steffansson, Mr. Mauritz Hakan                              1\n",
       "Hawksford, Mr. Walter James                                            1\n",
       "Bryhl, Mr. Kurt Arnold Gottfrid                                        1\n",
       "Elias, Mr. Tannous                                                     1\n",
       "Astor, Mrs. John Jacob (Madeleine Talmadge Force)                      1\n",
       "McGovern, Miss. Mary                                                   1\n",
       "Saalfeld, Mr. Adolphe                                                  1\n",
       "Sharp, Mr. Percival James R                                            1\n",
       "Robert, Mrs. Edward Scott (Elisabeth Walton McMillan)                  1\n",
       "Lines, Miss. Mary Conover                                              1\n",
       "Jonkoff, Mr. Lalio                                                     1\n",
       "O'Connor, Mr. Maurice                                                  1\n",
       "Edvardsson, Mr. Gustaf Hjalmar                                         1\n",
       "de Messemaeker, Mrs. Guillaume Joseph (Emma)                           1\n",
       "Skoog, Master. Harald                                                  1\n",
       "Dooley, Mr. Patrick                                                    1\n",
       "Lulic, Mr. Nikola                                                      1\n",
       "Thayer, Mr. John Borland                                               1\n",
       "Boulos, Mr. Hanna                                                      1\n",
       "Svensson, Mr. Johan                                                    1\n",
       "Vander Cruyssen, Mr. Victor                                            1\n",
       "Daly, Mr. Eugene Patrick                                               1\n",
       "Lurette, Miss. Elise                                                   1\n",
       "Phillips, Miss. Kate Florence (\"Mrs Kate Louise Phillips Marshall\")    1\n",
       "Name: Name, dtype: int64"
      ]
     },
     "execution_count": 762,
     "metadata": {},
     "output_type": "execute_result"
    }
   ],
   "source": [
    "# Let's inspect the unique Name variable count\n",
    "df.Name.value_counts()"
   ]
  },
  {
   "cell_type": "markdown",
   "metadata": {},
   "source": [
    "Ok, so looks like each passenger has a unique name, let's just grab a total count on names in general and make sure we have 891. Also will do an `isnull()` check here too while i'm at it to make sure nothing is missing as just an extra precaution."
   ]
  },
  {
   "cell_type": "code",
   "execution_count": 763,
   "metadata": {
    "collapsed": false
   },
   "outputs": [
    {
     "name": "stdout",
     "output_type": "stream",
     "text": [
      "Num Names:  891\n"
     ]
    },
    {
     "data": {
      "text/html": [
       "<div>\n",
       "<table border=\"1\" class=\"dataframe\">\n",
       "  <thead>\n",
       "    <tr style=\"text-align: right;\">\n",
       "      <th></th>\n",
       "      <th>PassengerId</th>\n",
       "      <th>Survived</th>\n",
       "      <th>Pclass</th>\n",
       "      <th>Name</th>\n",
       "      <th>Sex</th>\n",
       "      <th>Age</th>\n",
       "      <th>SibSp</th>\n",
       "      <th>Parch</th>\n",
       "      <th>Ticket</th>\n",
       "      <th>Fare</th>\n",
       "      <th>Cabin</th>\n",
       "      <th>Embarked</th>\n",
       "    </tr>\n",
       "  </thead>\n",
       "  <tbody>\n",
       "  </tbody>\n",
       "</table>\n",
       "</div>"
      ],
      "text/plain": [
       "Empty DataFrame\n",
       "Columns: [PassengerId, Survived, Pclass, Name, Sex, Age, SibSp, Parch, Ticket, Fare, Cabin, Embarked]\n",
       "Index: []"
      ]
     },
     "execution_count": 763,
     "metadata": {},
     "output_type": "execute_result"
    }
   ],
   "source": [
    "# How many names?\n",
    "print('Num Names: ',len(df.Name.value_counts()))\n",
    "\n",
    "# Double check no missing values\n",
    "df[df.Name.isnull()]"
   ]
  },
  {
   "cell_type": "markdown",
   "metadata": {},
   "source": [
    "Checks out. Ok so 891 passengers, 891 unique names in our variable column, no missing values. This variable will be categorical. 891 categories (names). Knowing the distribution of names is 1 to 1 (name:passenger), it a plot of this would be meaningless and pretty ugly. However, I noticed something interesting about the data of 'Name' in general."
   ]
  },
  {
   "cell_type": "code",
   "execution_count": 764,
   "metadata": {
    "collapsed": false
   },
   "outputs": [
    {
     "data": {
      "text/plain": [
       "0                              Braund, Mr. Owen Harris\n",
       "1    Cumings, Mrs. John Bradley (Florence Briggs Th...\n",
       "2                               Heikkinen, Miss. Laina\n",
       "3         Futrelle, Mrs. Jacques Heath (Lily May Peel)\n",
       "4                             Allen, Mr. William Henry\n",
       "Name: Name, dtype: object"
      ]
     },
     "execution_count": 764,
     "metadata": {},
     "output_type": "execute_result"
    }
   ],
   "source": [
    "df.Name.head()"
   ]
  },
  {
   "cell_type": "code",
   "execution_count": 765,
   "metadata": {
    "collapsed": false
   },
   "outputs": [
    {
     "data": {
      "text/plain": [
       "886                       Montvila, Rev. Juozas\n",
       "887                Graham, Miss. Margaret Edith\n",
       "888    Johnston, Miss. Catherine Helen \"Carrie\"\n",
       "889                       Behr, Mr. Karl Howell\n",
       "890                         Dooley, Mr. Patrick\n",
       "Name: Name, dtype: object"
      ]
     },
     "execution_count": 765,
     "metadata": {},
     "output_type": "execute_result"
    }
   ],
   "source": [
    "df.Name.tail()"
   ]
  },
  {
   "cell_type": "markdown",
   "metadata": {},
   "source": [
    "**Summary Name**  \n",
    "Categorical, no missing values, no obvious distribution details.\n",
    "\n",
    "However, I noticed that this variable contains a string of passenger's name that includes the _title_ of the passenger. For example we see:\n",
    "* <b>Mr.</b> Owen Harris Braund\n",
    "* <b>Mrs.</b> Jacques Heath Futrelle\n",
    "* <b>Miss.</b> Catherine Helen Johnston\n",
    "\n",
    "The first part of a passengers name, their _title_, can reveal an important feature about _female_ passengers which may be useful in the future of this analysis: their marital status. \n",
    "* <b>Mrs.</b> implies married\n",
    "* <b>Miss.</b> implies unmarried\n",
    "\n",
    "Unfortunately both titles Ms. and Mr. are ambiguous and wouldn't reveal anything to us. This will be something that will be worth revisiting in future analysis."
   ]
  },
  {
   "cell_type": "markdown",
   "metadata": {},
   "source": [
    "#### 2.1.4 Sex"
   ]
  },
  {
   "cell_type": "code",
   "execution_count": 766,
   "metadata": {
    "collapsed": false
   },
   "outputs": [
    {
     "data": {
      "text/plain": [
       "male      577\n",
       "female    314\n",
       "Name: Sex, dtype: int64"
      ]
     },
     "execution_count": 766,
     "metadata": {},
     "output_type": "execute_result"
    }
   ],
   "source": [
    "# Show categories, and counts\n",
    "df.Sex.value_counts()"
   ]
  },
  {
   "cell_type": "code",
   "execution_count": 767,
   "metadata": {
    "collapsed": false
   },
   "outputs": [
    {
     "data": {
      "text/plain": [
       "<matplotlib.axes._subplots.AxesSubplot at 0x139aa78d0>"
      ]
     },
     "execution_count": 767,
     "metadata": {},
     "output_type": "execute_result"
    },
    {
     "data": {
      "image/png": "[encoded data removed]",
      "text/plain": [
       "<matplotlib.figure.Figure at 0x12fe2db70>"
      ]
     },
     "metadata": {},
     "output_type": "display_data"
    }
   ],
   "source": [
    "# Plot male vs female distribution\n",
    "df.Sex.value_counts().plot(kind='barh')"
   ]
  },
  {
   "cell_type": "code",
   "execution_count": 768,
   "metadata": {
    "collapsed": false
   },
   "outputs": [
    {
     "data": {
      "text/plain": [
       "<matplotlib.axes._subplots.AxesSubplot at 0x130083c50>"
      ]
     },
     "execution_count": 768,
     "metadata": {},
     "output_type": "execute_result"
    },
    {
     "data": {
      "image/png": "[encoded data removed]",
      "text/plain": [
       "<matplotlib.figure.Figure at 0x13023f780>"
      ]
     },
     "metadata": {},
     "output_type": "display_data"
    }
   ],
   "source": [
    "df.Sex.value_counts().plot(kind='pie', title='Distribution of Sex (Males vs Females)')"
   ]
  },
  {
   "cell_type": "code",
   "execution_count": 769,
   "metadata": {
    "collapsed": false
   },
   "outputs": [
    {
     "data": {
      "text/html": [
       "<div>\n",
       "<table border=\"1\" class=\"dataframe\">\n",
       "  <thead>\n",
       "    <tr style=\"text-align: right;\">\n",
       "      <th></th>\n",
       "      <th>PassengerId</th>\n",
       "      <th>Survived</th>\n",
       "      <th>Pclass</th>\n",
       "      <th>Name</th>\n",
       "      <th>Sex</th>\n",
       "      <th>Age</th>\n",
       "      <th>SibSp</th>\n",
       "      <th>Parch</th>\n",
       "      <th>Ticket</th>\n",
       "      <th>Fare</th>\n",
       "      <th>Cabin</th>\n",
       "      <th>Embarked</th>\n",
       "    </tr>\n",
       "  </thead>\n",
       "  <tbody>\n",
       "  </tbody>\n",
       "</table>\n",
       "</div>"
      ],
      "text/plain": [
       "Empty DataFrame\n",
       "Columns: [PassengerId, Survived, Pclass, Name, Sex, Age, SibSp, Parch, Ticket, Fare, Cabin, Embarked]\n",
       "Index: []"
      ]
     },
     "execution_count": 769,
     "metadata": {},
     "output_type": "execute_result"
    }
   ],
   "source": [
    "# Check for missing\n",
    "df[df.Sex.isnull()]"
   ]
  },
  {
   "cell_type": "markdown",
   "metadata": {},
   "source": [
    "'Sex' will be a very important variable in our study, as gender played a major role in the original tragedy of the Titanic in regard to evacuation of passengers. Females were given priority first to the limited number of lifeboats over males. Therefore, let's perform some stats on the distribution before moving on. I'd like to know what percentage exactly of males vs females and to store that for future use in survival analysis."
   ]
  },
  {
   "cell_type": "code",
   "execution_count": 770,
   "metadata": {
    "collapsed": false
   },
   "outputs": [
    {
     "name": "stdout",
     "output_type": "stream",
     "text": [
      "Males: 0.6475869809203143 \n",
      "\n",
      "Females: 0.35241301907968575\n"
     ]
    }
   ],
   "source": [
    "# Percent of male passengers\n",
    "males_percent = 577 / 891\n",
    "print('Males:', males_percent, '\\n')\n",
    "\n",
    "# Percent of female passengers\n",
    "females_percent = 314/891\n",
    "print('Females:', females_percent)"
   ]
  },
  {
   "cell_type": "markdown",
   "metadata": {},
   "source": [
    "**Summary Sex**  \n",
    "Sex is a categorical variable with two categories: male or female. There are no missing values. The distribution is majority male at ~64.76% and female at ~35.24%. I will be further analyzing this variable in relation to survivorship after EDA of the remaining variables, but I can already tell this will be interesting because it's obvious that females _probably_ had higher survival rates due to their precedence to the lifeboats, however the distribution above shows us that there were considerably more male passengers present overall."
   ]
  },
  {
   "cell_type": "markdown",
   "metadata": {},
   "source": [
    "#### 2.1.5 Ticket"
   ]
  },
  {
   "cell_type": "code",
   "execution_count": 771,
   "metadata": {
    "collapsed": false
   },
   "outputs": [
    {
     "data": {
      "text/plain": [
       "347082                7\n",
       "CA. 2343              7\n",
       "1601                  7\n",
       "347088                6\n",
       "CA 2144               6\n",
       "3101295               6\n",
       "S.O.C. 14879          5\n",
       "382652                5\n",
       "19950                 4\n",
       "2666                  4\n",
       "113760                4\n",
       "347077                4\n",
       "17421                 4\n",
       "W./C. 6608            4\n",
       "LINE                  4\n",
       "PC 17757              4\n",
       "4133                  4\n",
       "113781                4\n",
       "349909                4\n",
       "230080                3\n",
       "110413                3\n",
       "13502                 3\n",
       "C.A. 34651            3\n",
       "PC 17582              3\n",
       "C.A. 31921            3\n",
       "363291                3\n",
       "347742                3\n",
       "239853                3\n",
       "29106                 3\n",
       "PC 17572              3\n",
       "                     ..\n",
       "19947                 1\n",
       "2689                  1\n",
       "CA. 2314              1\n",
       "SC/Paris 2163         1\n",
       "2631                  1\n",
       "A./5. 3235            1\n",
       "2683                  1\n",
       "236853                1\n",
       "315094                1\n",
       "14313                 1\n",
       "W.E.P. 5734           1\n",
       "384461                1\n",
       "2697                  1\n",
       "PC 17754              1\n",
       "SOTON/O.Q. 3101311    1\n",
       "21440                 1\n",
       "382651                1\n",
       "PC 17318              1\n",
       "3101267               1\n",
       "347081                1\n",
       "112058                1\n",
       "W./C. 6609            1\n",
       "345767                1\n",
       "350048                1\n",
       "28220                 1\n",
       "SOTON/O.Q. 3101310    1\n",
       "239854                1\n",
       "336439                1\n",
       "11755                 1\n",
       "234686                1\n",
       "Name: Ticket, dtype: int64"
      ]
     },
     "execution_count": 771,
     "metadata": {},
     "output_type": "execute_result"
    }
   ],
   "source": [
    "# Show categories, and counts\n",
    "df.Ticket.value_counts()"
   ]
  },
  {
   "cell_type": "markdown",
   "metadata": {},
   "source": [
    "Hm, interesting to see that some tickets a repeated. I was expecting to see a 1 to 1 relationship again of 891 unique tickets. I'm going to plot for ticket count > 1 and see what that distribution looks like."
   ]
  },
  {
   "cell_type": "code",
   "execution_count": 772,
   "metadata": {
    "collapsed": false
   },
   "outputs": [
    {
     "name": "stdout",
     "output_type": "stream",
     "text": [
      "Number of repeated Ticket values: 134 \n",
      "\n",
      "\n",
      "Ticket Values Repeated: \n",
      "\n",
      "347082\n",
      "CA. 2343\n",
      "1601\n",
      "347088\n",
      "CA 2144\n",
      "3101295\n",
      "S.O.C. 14879\n",
      "382652\n",
      "19950\n",
      "2666\n",
      "113760\n",
      "347077\n",
      "17421\n",
      "W./C. 6608\n",
      "LINE\n",
      "PC 17757\n",
      "4133\n",
      "113781\n",
      "349909\n",
      "230080\n",
      "110413\n",
      "13502\n",
      "C.A. 34651\n",
      "PC 17582\n",
      "C.A. 31921\n",
      "363291\n",
      "347742\n",
      "239853\n",
      "29106\n",
      "PC 17572\n",
      "PC 17755\n",
      "371110\n",
      "SC/Paris 2123\n",
      "24160\n",
      "35273\n",
      "110152\n",
      "345773\n",
      "248727\n",
      "F.C.C. 13529\n",
      "PC 17760\n",
      "250649\n",
      "PC 17761\n",
      "26360\n",
      "364849\n",
      "C.A. 37671\n",
      "2668\n",
      "C.A. 2673\n",
      "S.O./P.P. 3\n",
      "W./C. 6607\n",
      "250655\n",
      "248738\n",
      "PC 17569\n",
      "345764\n",
      "36928\n",
      "220845\n",
      "P/PP 3381\n",
      "113776\n",
      "376564\n",
      "11767\n",
      "2659\n",
      "347080\n",
      "PP 9549\n",
      "250644\n",
      "WE/P 5735\n",
      "2653\n",
      "S.C./PARIS 2079\n",
      "113789\n",
      "36947\n",
      "19928\n",
      "349237\n",
      "A/4 48871\n",
      "11668\n",
      "2665\n",
      "16966\n",
      "243847\n",
      "54636\n",
      "7534\n",
      "PC 17477\n",
      "PC 17485\n",
      "A/5. 3336\n",
      "358585\n",
      "110465\n",
      "31027\n",
      "11967\n",
      "231919\n",
      "PC 17758\n",
      "392096\n",
      "2627\n",
      "230136\n",
      "3101278\n",
      "2651\n",
      "113505\n",
      "244252\n",
      "STON/O2. 3101279\n",
      "PC 17608\n",
      "113803\n",
      "2908\n",
      "364516\n",
      "19943\n",
      "237736\n",
      "C.A. 33112\n",
      "113806\n",
      "19996\n",
      "PC 17611\n",
      "13507\n",
      "29750\n",
      "35281\n",
      "347054\n",
      "250647\n",
      "PC 17593\n",
      "370365\n",
      "12749\n",
      "PC 17604\n",
      "19877\n",
      "113798\n",
      "28403\n",
      "17453\n",
      "230433\n",
      "239865\n",
      "17474\n",
      "2699\n",
      "113572\n",
      "2661\n",
      "2691\n",
      "111361\n",
      "36973\n",
      "PC 17558\n",
      "2678\n",
      "244367\n",
      "C.A. 2315\n",
      "11751\n",
      "370129\n",
      "367230\n",
      "367226\n"
     ]
    }
   ],
   "source": [
    "# Going to need to be a little creative here to get the tickets only where the count > 1. First i'll store the value_counts\n",
    "ticketCounts = df.Ticket.value_counts()\n",
    "# Now I can treat ticketCounts as an array, and store it. Then a for loop should do the trick for printing vertically. \n",
    "ticketsRepeated = ticketCounts[ticketCounts > 1].index.values\n",
    "\n",
    "# How many repeated ticket values?\n",
    "print('Number of repeated Ticket values:', len(ticketsRepeated), '\\n\\n')\n",
    "\n",
    "print('Ticket Values Repeated: \\n')\n",
    "for ticket in ticketsRepeated:\n",
    "    print(ticket)"
   ]
  },
  {
   "cell_type": "markdown",
   "metadata": {},
   "source": [
    "Ok, awesome. Now I have all of the tickets that were repeating and there were 134 of them out of 891. I have no clue as to why or what this could mean yet, however I am now adding this to my list of things to analyze further after basic EDA. I am very curious to find out as to why only 134/891 tickets had the same ticket value/name. There are two questions specifically that have come to mind now which I would like to record for future reference:\n",
    "\n",
    "* <b>Were passengers able to share tickets?</b>\n",
    " * Do the repeated tickets relate to couples: husband/wife with same ticket values?\n",
    " * Did children below a certain age not require their own ticket and share the same ticket as their parents? \n",
    "\n",
    "Definitely an area that needs further investigation. With the above saved list of repeated tickets, in future analysis I'll be able to pair those ticket values to the passengers they belonged to and find out."
   ]
  },
  {
   "cell_type": "markdown",
   "metadata": {},
   "source": [
    "Another area of interest worth noting here is that there may be more valuable data which can be extracted from these Ticket values. Many of them are are numerical sequences, but there are a lot of them as well which contain alphabetical abbreviations prior to the numbers, for example:\n",
    "* <b>CA.</b> 2343\n",
    "* <b>S.O.C.</b> 14879\n",
    "* <b>W./C.</b> 6608\n",
    "\n",
    "This is yet another area of interest which I will dive into later when we get to breaking these features apart and engineering new ones from the extracted data, but for now it was worth noting that there may be _something_ interesting about our passengers encoded in those ticket values."
   ]
  },
  {
   "cell_type": "markdown",
   "metadata": {},
   "source": [
    "Finally, before moving on, I'd like to know the total count of \"categories\" here. That is how many unique ticket values we have. This is challenging because so far I know that we have a total of 891 tickets where 134 of the values repeat, however those 134 may repeat anywhere from 2 to 7 times as we can see in the following count distribution:"
   ]
  },
  {
   "cell_type": "code",
   "execution_count": 773,
   "metadata": {
    "collapsed": false
   },
   "outputs": [
    {
     "data": {
      "text/plain": [
       "347082          7\n",
       "CA. 2343        7\n",
       "1601            7\n",
       "347088          6\n",
       "CA 2144         6\n",
       "3101295         6\n",
       "S.O.C. 14879    5\n",
       "382652          5\n",
       "19950           4\n",
       "2666            4\n",
       "113760          4\n",
       "347077          4\n",
       "17421           4\n",
       "W./C. 6608      4\n",
       "LINE            4\n",
       "PC 17757        4\n",
       "4133            4\n",
       "113781          4\n",
       "349909          4\n",
       "230080          3\n",
       "110413          3\n",
       "13502           3\n",
       "C.A. 34651      3\n",
       "PC 17582        3\n",
       "C.A. 31921      3\n",
       "363291          3\n",
       "347742          3\n",
       "239853          3\n",
       "29106           3\n",
       "PC 17572        3\n",
       "               ..\n",
       "13507           2\n",
       "29750           2\n",
       "35281           2\n",
       "347054          2\n",
       "250647          2\n",
       "PC 17593        2\n",
       "370365          2\n",
       "12749           2\n",
       "PC 17604        2\n",
       "19877           2\n",
       "113798          2\n",
       "28403           2\n",
       "17453           2\n",
       "230433          2\n",
       "239865          2\n",
       "17474           2\n",
       "2699            2\n",
       "113572          2\n",
       "2661            2\n",
       "2691            2\n",
       "111361          2\n",
       "36973           2\n",
       "PC 17558        2\n",
       "2678            2\n",
       "244367          2\n",
       "C.A. 2315       2\n",
       "11751           2\n",
       "370129          2\n",
       "367230          2\n",
       "367226          2\n",
       "Name: Ticket, dtype: int64"
      ]
     },
     "execution_count": 773,
     "metadata": {},
     "output_type": "execute_result"
    }
   ],
   "source": [
    "# Print counts for repeated ticket values via slicing\n",
    "df.Ticket.value_counts()[:134]"
   ]
  },
  {
   "cell_type": "markdown",
   "metadata": {},
   "source": [
    "I'll use a similar approach to finding the repeated tickets, to slice further by counts for each in the range 2-7, and with a little bit of math and loop should be able to sum what I'm looking for."
   ]
  },
  {
   "cell_type": "code",
   "execution_count": 774,
   "metadata": {
    "collapsed": false
   },
   "outputs": [
    {
     "name": "stdout",
     "output_type": "stream",
     "text": [
      "Sum of repeated ticket values: 344\n"
     ]
    }
   ],
   "source": [
    "# Previously defined, ticketsRepeated = all tickets > 1 repetition\n",
    "\n",
    "# Loop for every ticket with with count > 1 by slice, add to sumTicketsRepeated\n",
    "sumTicketsRepeated = 0\n",
    "for i in ticketCounts[:134]:\n",
    "    sumTicketsRepeated += i\n",
    "print('Sum of repeated ticket values:',sumTicketsRepeated)\n"
   ]
  },
  {
   "cell_type": "code",
   "execution_count": 775,
   "metadata": {
    "collapsed": false
   },
   "outputs": [
    {
     "data": {
      "text/html": [
       "<div>\n",
       "<table border=\"1\" class=\"dataframe\">\n",
       "  <thead>\n",
       "    <tr style=\"text-align: right;\">\n",
       "      <th></th>\n",
       "      <th>PassengerId</th>\n",
       "      <th>Survived</th>\n",
       "      <th>Pclass</th>\n",
       "      <th>Name</th>\n",
       "      <th>Sex</th>\n",
       "      <th>Age</th>\n",
       "      <th>SibSp</th>\n",
       "      <th>Parch</th>\n",
       "      <th>Ticket</th>\n",
       "      <th>Fare</th>\n",
       "      <th>Cabin</th>\n",
       "      <th>Embarked</th>\n",
       "    </tr>\n",
       "  </thead>\n",
       "  <tbody>\n",
       "  </tbody>\n",
       "</table>\n",
       "</div>"
      ],
      "text/plain": [
       "Empty DataFrame\n",
       "Columns: [PassengerId, Survived, Pclass, Name, Sex, Age, SibSp, Parch, Ticket, Fare, Cabin, Embarked]\n",
       "Index: []"
      ]
     },
     "execution_count": 775,
     "metadata": {},
     "output_type": "execute_result"
    }
   ],
   "source": [
    "# Double check for missing values\n",
    "df[df.Ticket.isnull()]"
   ]
  },
  {
   "cell_type": "markdown",
   "metadata": {},
   "source": [
    "**Summary Ticket**  \n",
    "Categorical. There are 891 Ticket values, no missing, and it is categorical variable with a total of 681 _unique_ categories. 134 of the unique values are repeated various times (2-7) and repeated values account for a total of 344 of the total number of tickets. I calculated and stored this information for future analysis as we may be able to extract a lot of valuable data from this variable in regard to passenger survival."
   ]
  },
  {
   "cell_type": "markdown",
   "metadata": {},
   "source": [
    "#### 2.1.6 Cabin"
   ]
  },
  {
   "cell_type": "code",
   "execution_count": 776,
   "metadata": {
    "collapsed": false
   },
   "outputs": [
    {
     "data": {
      "text/plain": [
       "C23 C25 C27    4\n",
       "G6             4\n",
       "B96 B98        4\n",
       "C22 C26        3\n",
       "D              3\n",
       "F2             3\n",
       "F33            3\n",
       "E101           3\n",
       "C125           2\n",
       "C124           2\n",
       "B51 B53 B55    2\n",
       "B77            2\n",
       "E121           2\n",
       "C52            2\n",
       "D35            2\n",
       "D26            2\n",
       "F4             2\n",
       "C2             2\n",
       "C92            2\n",
       "C126           2\n",
       "C65            2\n",
       "E24            2\n",
       "B5             2\n",
       "C123           2\n",
       "B28            2\n",
       "D17            2\n",
       "F G73          2\n",
       "C83            2\n",
       "C78            2\n",
       "E44            2\n",
       "              ..\n",
       "D56            1\n",
       "E10            1\n",
       "E36            1\n",
       "C32            1\n",
       "C54            1\n",
       "B86            1\n",
       "C7             1\n",
       "A23            1\n",
       "D10 D12        1\n",
       "C103           1\n",
       "E77            1\n",
       "E40            1\n",
       "C99            1\n",
       "E31            1\n",
       "A10            1\n",
       "C30            1\n",
       "E12            1\n",
       "D45            1\n",
       "E38            1\n",
       "D11            1\n",
       "C49            1\n",
       "C86            1\n",
       "C128           1\n",
       "D50            1\n",
       "D48            1\n",
       "B42            1\n",
       "E50            1\n",
       "A31            1\n",
       "C110           1\n",
       "C111           1\n",
       "Name: Cabin, dtype: int64"
      ]
     },
     "execution_count": 776,
     "metadata": {},
     "output_type": "execute_result"
    }
   ],
   "source": [
    "# Show categories, and counts\n",
    "df.Cabin.value_counts()"
   ]
  },
  {
   "cell_type": "code",
   "execution_count": 777,
   "metadata": {
    "collapsed": false
   },
   "outputs": [
    {
     "data": {
      "text/plain": [
       "147"
      ]
     },
     "execution_count": 777,
     "metadata": {},
     "output_type": "execute_result"
    }
   ],
   "source": [
    "# How many categories\n",
    "len(df.Cabin.value_counts())"
   ]
  },
  {
   "cell_type": "markdown",
   "metadata": {},
   "source": [
    "It appears cabin distribution isn't very widespread amongst our 891 passengers, we see there are only 147 total unique cabins. In further analysis, this variable can really reveal a lot about our passengers if we were to use this to classify passengers in to perhaps _accommodation classes_. By looking at the data above we can probably classify passenger's 'accommodation class' in the following way based on cabin value:\n",
    "\n",
    "* <b>Multiple passengers sharing one cabin</b>\n",
    " * This may be able to reveal some interesting insights such as couples, families, and poverty stricken passengers. An interesting thought that comes to mind is unmarried couples! Since our data as is would not otherwise indicate a possibility of an unmarried couple, this would be a great feature to engineer for finding this out.   \n",
    "\n",
    "\n",
    "* <b>Multiple passengers sharing multiple cabins</b>\n",
    " * This may be able to reveal large families traveling together (for example a party of 8 may have shared 3 cabins), wealth may be a factor of influence on this one as well which could be revealed.  \n",
    "\n",
    "\n",
    "* <b>Single passengers that occupied more than one cabin</b>\n",
    " * Now this one makes me very curious as to why. The data reveals at least a few cases where 1 passenger has the cabin attribute indicating more than one cabin value. This could be a danger zone tho, as our data set only contains 891 observations and doesn't account for every passenger. It would be possible that there are other passengers not in our dataset that may have also been sharing the same cabin values. Still worth noting and further investigating in the future.\n",
    " \n",
    "I've now added this to section 4, \"Insights, Observations, & Questions\", as a topic to further investigate."
   ]
  },
  {
   "cell_type": "code",
   "execution_count": 778,
   "metadata": {
    "collapsed": false
   },
   "outputs": [
    {
     "data": {
      "text/html": [
       "<div>\n",
       "<table border=\"1\" class=\"dataframe\">\n",
       "  <thead>\n",
       "    <tr style=\"text-align: right;\">\n",
       "      <th></th>\n",
       "      <th>PassengerId</th>\n",
       "      <th>Survived</th>\n",
       "      <th>Pclass</th>\n",
       "      <th>Name</th>\n",
       "      <th>Sex</th>\n",
       "      <th>Age</th>\n",
       "      <th>SibSp</th>\n",
       "      <th>Parch</th>\n",
       "      <th>Ticket</th>\n",
       "      <th>Fare</th>\n",
       "      <th>Cabin</th>\n",
       "      <th>Embarked</th>\n",
       "    </tr>\n",
       "  </thead>\n",
       "  <tbody>\n",
       "    <tr>\n",
       "      <th>0</th>\n",
       "      <td>1</td>\n",
       "      <td>0</td>\n",
       "      <td>3</td>\n",
       "      <td>Braund, Mr. Owen Harris</td>\n",
       "      <td>male</td>\n",
       "      <td>22.0</td>\n",
       "      <td>1</td>\n",
       "      <td>0</td>\n",
       "      <td>A/5 21171</td>\n",
       "      <td>7.2500</td>\n",
       "      <td>NaN</td>\n",
       "      <td>S</td>\n",
       "    </tr>\n",
       "    <tr>\n",
       "      <th>2</th>\n",
       "      <td>3</td>\n",
       "      <td>1</td>\n",
       "      <td>3</td>\n",
       "      <td>Heikkinen, Miss. Laina</td>\n",
       "      <td>female</td>\n",
       "      <td>26.0</td>\n",
       "      <td>0</td>\n",
       "      <td>0</td>\n",
       "      <td>STON/O2. 3101282</td>\n",
       "      <td>7.9250</td>\n",
       "      <td>NaN</td>\n",
       "      <td>S</td>\n",
       "    </tr>\n",
       "    <tr>\n",
       "      <th>4</th>\n",
       "      <td>5</td>\n",
       "      <td>0</td>\n",
       "      <td>3</td>\n",
       "      <td>Allen, Mr. William Henry</td>\n",
       "      <td>male</td>\n",
       "      <td>35.0</td>\n",
       "      <td>0</td>\n",
       "      <td>0</td>\n",
       "      <td>373450</td>\n",
       "      <td>8.0500</td>\n",
       "      <td>NaN</td>\n",
       "      <td>S</td>\n",
       "    </tr>\n",
       "    <tr>\n",
       "      <th>5</th>\n",
       "      <td>6</td>\n",
       "      <td>0</td>\n",
       "      <td>3</td>\n",
       "      <td>Moran, Mr. James</td>\n",
       "      <td>male</td>\n",
       "      <td>NaN</td>\n",
       "      <td>0</td>\n",
       "      <td>0</td>\n",
       "      <td>330877</td>\n",
       "      <td>8.4583</td>\n",
       "      <td>NaN</td>\n",
       "      <td>Q</td>\n",
       "    </tr>\n",
       "    <tr>\n",
       "      <th>7</th>\n",
       "      <td>8</td>\n",
       "      <td>0</td>\n",
       "      <td>3</td>\n",
       "      <td>Palsson, Master. Gosta Leonard</td>\n",
       "      <td>male</td>\n",
       "      <td>2.0</td>\n",
       "      <td>3</td>\n",
       "      <td>1</td>\n",
       "      <td>349909</td>\n",
       "      <td>21.0750</td>\n",
       "      <td>NaN</td>\n",
       "      <td>S</td>\n",
       "    </tr>\n",
       "    <tr>\n",
       "      <th>8</th>\n",
       "      <td>9</td>\n",
       "      <td>1</td>\n",
       "      <td>3</td>\n",
       "      <td>Johnson, Mrs. Oscar W (Elisabeth Vilhelmina Berg)</td>\n",
       "      <td>female</td>\n",
       "      <td>27.0</td>\n",
       "      <td>0</td>\n",
       "      <td>2</td>\n",
       "      <td>347742</td>\n",
       "      <td>11.1333</td>\n",
       "      <td>NaN</td>\n",
       "      <td>S</td>\n",
       "    </tr>\n",
       "    <tr>\n",
       "      <th>9</th>\n",
       "      <td>10</td>\n",
       "      <td>1</td>\n",
       "      <td>2</td>\n",
       "      <td>Nasser, Mrs. Nicholas (Adele Achem)</td>\n",
       "      <td>female</td>\n",
       "      <td>14.0</td>\n",
       "      <td>1</td>\n",
       "      <td>0</td>\n",
       "      <td>237736</td>\n",
       "      <td>30.0708</td>\n",
       "      <td>NaN</td>\n",
       "      <td>C</td>\n",
       "    </tr>\n",
       "    <tr>\n",
       "      <th>12</th>\n",
       "      <td>13</td>\n",
       "      <td>0</td>\n",
       "      <td>3</td>\n",
       "      <td>Saundercock, Mr. William Henry</td>\n",
       "      <td>male</td>\n",
       "      <td>20.0</td>\n",
       "      <td>0</td>\n",
       "      <td>0</td>\n",
       "      <td>A/5. 2151</td>\n",
       "      <td>8.0500</td>\n",
       "      <td>NaN</td>\n",
       "      <td>S</td>\n",
       "    </tr>\n",
       "    <tr>\n",
       "      <th>13</th>\n",
       "      <td>14</td>\n",
       "      <td>0</td>\n",
       "      <td>3</td>\n",
       "      <td>Andersson, Mr. Anders Johan</td>\n",
       "      <td>male</td>\n",
       "      <td>39.0</td>\n",
       "      <td>1</td>\n",
       "      <td>5</td>\n",
       "      <td>347082</td>\n",
       "      <td>31.2750</td>\n",
       "      <td>NaN</td>\n",
       "      <td>S</td>\n",
       "    </tr>\n",
       "    <tr>\n",
       "      <th>14</th>\n",
       "      <td>15</td>\n",
       "      <td>0</td>\n",
       "      <td>3</td>\n",
       "      <td>Vestrom, Miss. Hulda Amanda Adolfina</td>\n",
       "      <td>female</td>\n",
       "      <td>14.0</td>\n",
       "      <td>0</td>\n",
       "      <td>0</td>\n",
       "      <td>350406</td>\n",
       "      <td>7.8542</td>\n",
       "      <td>NaN</td>\n",
       "      <td>S</td>\n",
       "    </tr>\n",
       "    <tr>\n",
       "      <th>15</th>\n",
       "      <td>16</td>\n",
       "      <td>1</td>\n",
       "      <td>2</td>\n",
       "      <td>Hewlett, Mrs. (Mary D Kingcome)</td>\n",
       "      <td>female</td>\n",
       "      <td>55.0</td>\n",
       "      <td>0</td>\n",
       "      <td>0</td>\n",
       "      <td>248706</td>\n",
       "      <td>16.0000</td>\n",
       "      <td>NaN</td>\n",
       "      <td>S</td>\n",
       "    </tr>\n",
       "    <tr>\n",
       "      <th>16</th>\n",
       "      <td>17</td>\n",
       "      <td>0</td>\n",
       "      <td>3</td>\n",
       "      <td>Rice, Master. Eugene</td>\n",
       "      <td>male</td>\n",
       "      <td>2.0</td>\n",
       "      <td>4</td>\n",
       "      <td>1</td>\n",
       "      <td>382652</td>\n",
       "      <td>29.1250</td>\n",
       "      <td>NaN</td>\n",
       "      <td>Q</td>\n",
       "    </tr>\n",
       "    <tr>\n",
       "      <th>17</th>\n",
       "      <td>18</td>\n",
       "      <td>1</td>\n",
       "      <td>2</td>\n",
       "      <td>Williams, Mr. Charles Eugene</td>\n",
       "      <td>male</td>\n",
       "      <td>NaN</td>\n",
       "      <td>0</td>\n",
       "      <td>0</td>\n",
       "      <td>244373</td>\n",
       "      <td>13.0000</td>\n",
       "      <td>NaN</td>\n",
       "      <td>S</td>\n",
       "    </tr>\n",
       "    <tr>\n",
       "      <th>18</th>\n",
       "      <td>19</td>\n",
       "      <td>0</td>\n",
       "      <td>3</td>\n",
       "      <td>Vander Planke, Mrs. Julius (Emelia Maria Vande...</td>\n",
       "      <td>female</td>\n",
       "      <td>31.0</td>\n",
       "      <td>1</td>\n",
       "      <td>0</td>\n",
       "      <td>345763</td>\n",
       "      <td>18.0000</td>\n",
       "      <td>NaN</td>\n",
       "      <td>S</td>\n",
       "    </tr>\n",
       "    <tr>\n",
       "      <th>19</th>\n",
       "      <td>20</td>\n",
       "      <td>1</td>\n",
       "      <td>3</td>\n",
       "      <td>Masselmani, Mrs. Fatima</td>\n",
       "      <td>female</td>\n",
       "      <td>NaN</td>\n",
       "      <td>0</td>\n",
       "      <td>0</td>\n",
       "      <td>2649</td>\n",
       "      <td>7.2250</td>\n",
       "      <td>NaN</td>\n",
       "      <td>C</td>\n",
       "    </tr>\n",
       "    <tr>\n",
       "      <th>20</th>\n",
       "      <td>21</td>\n",
       "      <td>0</td>\n",
       "      <td>2</td>\n",
       "      <td>Fynney, Mr. Joseph J</td>\n",
       "      <td>male</td>\n",
       "      <td>35.0</td>\n",
       "      <td>0</td>\n",
       "      <td>0</td>\n",
       "      <td>239865</td>\n",
       "      <td>26.0000</td>\n",
       "      <td>NaN</td>\n",
       "      <td>S</td>\n",
       "    </tr>\n",
       "    <tr>\n",
       "      <th>22</th>\n",
       "      <td>23</td>\n",
       "      <td>1</td>\n",
       "      <td>3</td>\n",
       "      <td>McGowan, Miss. Anna \"Annie\"</td>\n",
       "      <td>female</td>\n",
       "      <td>15.0</td>\n",
       "      <td>0</td>\n",
       "      <td>0</td>\n",
       "      <td>330923</td>\n",
       "      <td>8.0292</td>\n",
       "      <td>NaN</td>\n",
       "      <td>Q</td>\n",
       "    </tr>\n",
       "    <tr>\n",
       "      <th>24</th>\n",
       "      <td>25</td>\n",
       "      <td>0</td>\n",
       "      <td>3</td>\n",
       "      <td>Palsson, Miss. Torborg Danira</td>\n",
       "      <td>female</td>\n",
       "      <td>8.0</td>\n",
       "      <td>3</td>\n",
       "      <td>1</td>\n",
       "      <td>349909</td>\n",
       "      <td>21.0750</td>\n",
       "      <td>NaN</td>\n",
       "      <td>S</td>\n",
       "    </tr>\n",
       "    <tr>\n",
       "      <th>25</th>\n",
       "      <td>26</td>\n",
       "      <td>1</td>\n",
       "      <td>3</td>\n",
       "      <td>Asplund, Mrs. Carl Oscar (Selma Augusta Emilia...</td>\n",
       "      <td>female</td>\n",
       "      <td>38.0</td>\n",
       "      <td>1</td>\n",
       "      <td>5</td>\n",
       "      <td>347077</td>\n",
       "      <td>31.3875</td>\n",
       "      <td>NaN</td>\n",
       "      <td>S</td>\n",
       "    </tr>\n",
       "    <tr>\n",
       "      <th>26</th>\n",
       "      <td>27</td>\n",
       "      <td>0</td>\n",
       "      <td>3</td>\n",
       "      <td>Emir, Mr. Farred Chehab</td>\n",
       "      <td>male</td>\n",
       "      <td>NaN</td>\n",
       "      <td>0</td>\n",
       "      <td>0</td>\n",
       "      <td>2631</td>\n",
       "      <td>7.2250</td>\n",
       "      <td>NaN</td>\n",
       "      <td>C</td>\n",
       "    </tr>\n",
       "    <tr>\n",
       "      <th>28</th>\n",
       "      <td>29</td>\n",
       "      <td>1</td>\n",
       "      <td>3</td>\n",
       "      <td>O'Dwyer, Miss. Ellen \"Nellie\"</td>\n",
       "      <td>female</td>\n",
       "      <td>NaN</td>\n",
       "      <td>0</td>\n",
       "      <td>0</td>\n",
       "      <td>330959</td>\n",
       "      <td>7.8792</td>\n",
       "      <td>NaN</td>\n",
       "      <td>Q</td>\n",
       "    </tr>\n",
       "    <tr>\n",
       "      <th>29</th>\n",
       "      <td>30</td>\n",
       "      <td>0</td>\n",
       "      <td>3</td>\n",
       "      <td>Todoroff, Mr. Lalio</td>\n",
       "      <td>male</td>\n",
       "      <td>NaN</td>\n",
       "      <td>0</td>\n",
       "      <td>0</td>\n",
       "      <td>349216</td>\n",
       "      <td>7.8958</td>\n",
       "      <td>NaN</td>\n",
       "      <td>S</td>\n",
       "    </tr>\n",
       "    <tr>\n",
       "      <th>30</th>\n",
       "      <td>31</td>\n",
       "      <td>0</td>\n",
       "      <td>1</td>\n",
       "      <td>Uruchurtu, Don. Manuel E</td>\n",
       "      <td>male</td>\n",
       "      <td>40.0</td>\n",
       "      <td>0</td>\n",
       "      <td>0</td>\n",
       "      <td>PC 17601</td>\n",
       "      <td>27.7208</td>\n",
       "      <td>NaN</td>\n",
       "      <td>C</td>\n",
       "    </tr>\n",
       "    <tr>\n",
       "      <th>32</th>\n",
       "      <td>33</td>\n",
       "      <td>1</td>\n",
       "      <td>3</td>\n",
       "      <td>Glynn, Miss. Mary Agatha</td>\n",
       "      <td>female</td>\n",
       "      <td>NaN</td>\n",
       "      <td>0</td>\n",
       "      <td>0</td>\n",
       "      <td>335677</td>\n",
       "      <td>7.7500</td>\n",
       "      <td>NaN</td>\n",
       "      <td>Q</td>\n",
       "    </tr>\n",
       "    <tr>\n",
       "      <th>33</th>\n",
       "      <td>34</td>\n",
       "      <td>0</td>\n",
       "      <td>2</td>\n",
       "      <td>Wheadon, Mr. Edward H</td>\n",
       "      <td>male</td>\n",
       "      <td>66.0</td>\n",
       "      <td>0</td>\n",
       "      <td>0</td>\n",
       "      <td>C.A. 24579</td>\n",
       "      <td>10.5000</td>\n",
       "      <td>NaN</td>\n",
       "      <td>S</td>\n",
       "    </tr>\n",
       "    <tr>\n",
       "      <th>34</th>\n",
       "      <td>35</td>\n",
       "      <td>0</td>\n",
       "      <td>1</td>\n",
       "      <td>Meyer, Mr. Edgar Joseph</td>\n",
       "      <td>male</td>\n",
       "      <td>28.0</td>\n",
       "      <td>1</td>\n",
       "      <td>0</td>\n",
       "      <td>PC 17604</td>\n",
       "      <td>82.1708</td>\n",
       "      <td>NaN</td>\n",
       "      <td>C</td>\n",
       "    </tr>\n",
       "    <tr>\n",
       "      <th>35</th>\n",
       "      <td>36</td>\n",
       "      <td>0</td>\n",
       "      <td>1</td>\n",
       "      <td>Holverson, Mr. Alexander Oskar</td>\n",
       "      <td>male</td>\n",
       "      <td>42.0</td>\n",
       "      <td>1</td>\n",
       "      <td>0</td>\n",
       "      <td>113789</td>\n",
       "      <td>52.0000</td>\n",
       "      <td>NaN</td>\n",
       "      <td>S</td>\n",
       "    </tr>\n",
       "    <tr>\n",
       "      <th>36</th>\n",
       "      <td>37</td>\n",
       "      <td>1</td>\n",
       "      <td>3</td>\n",
       "      <td>Mamee, Mr. Hanna</td>\n",
       "      <td>male</td>\n",
       "      <td>NaN</td>\n",
       "      <td>0</td>\n",
       "      <td>0</td>\n",
       "      <td>2677</td>\n",
       "      <td>7.2292</td>\n",
       "      <td>NaN</td>\n",
       "      <td>C</td>\n",
       "    </tr>\n",
       "    <tr>\n",
       "      <th>37</th>\n",
       "      <td>38</td>\n",
       "      <td>0</td>\n",
       "      <td>3</td>\n",
       "      <td>Cann, Mr. Ernest Charles</td>\n",
       "      <td>male</td>\n",
       "      <td>21.0</td>\n",
       "      <td>0</td>\n",
       "      <td>0</td>\n",
       "      <td>A./5. 2152</td>\n",
       "      <td>8.0500</td>\n",
       "      <td>NaN</td>\n",
       "      <td>S</td>\n",
       "    </tr>\n",
       "    <tr>\n",
       "      <th>38</th>\n",
       "      <td>39</td>\n",
       "      <td>0</td>\n",
       "      <td>3</td>\n",
       "      <td>Vander Planke, Miss. Augusta Maria</td>\n",
       "      <td>female</td>\n",
       "      <td>18.0</td>\n",
       "      <td>2</td>\n",
       "      <td>0</td>\n",
       "      <td>345764</td>\n",
       "      <td>18.0000</td>\n",
       "      <td>NaN</td>\n",
       "      <td>S</td>\n",
       "    </tr>\n",
       "    <tr>\n",
       "      <th>...</th>\n",
       "      <td>...</td>\n",
       "      <td>...</td>\n",
       "      <td>...</td>\n",
       "      <td>...</td>\n",
       "      <td>...</td>\n",
       "      <td>...</td>\n",
       "      <td>...</td>\n",
       "      <td>...</td>\n",
       "      <td>...</td>\n",
       "      <td>...</td>\n",
       "      <td>...</td>\n",
       "      <td>...</td>\n",
       "    </tr>\n",
       "    <tr>\n",
       "      <th>852</th>\n",
       "      <td>853</td>\n",
       "      <td>0</td>\n",
       "      <td>3</td>\n",
       "      <td>Boulos, Miss. Nourelain</td>\n",
       "      <td>female</td>\n",
       "      <td>9.0</td>\n",
       "      <td>1</td>\n",
       "      <td>1</td>\n",
       "      <td>2678</td>\n",
       "      <td>15.2458</td>\n",
       "      <td>NaN</td>\n",
       "      <td>C</td>\n",
       "    </tr>\n",
       "    <tr>\n",
       "      <th>854</th>\n",
       "      <td>855</td>\n",
       "      <td>0</td>\n",
       "      <td>2</td>\n",
       "      <td>Carter, Mrs. Ernest Courtenay (Lilian Hughes)</td>\n",
       "      <td>female</td>\n",
       "      <td>44.0</td>\n",
       "      <td>1</td>\n",
       "      <td>0</td>\n",
       "      <td>244252</td>\n",
       "      <td>26.0000</td>\n",
       "      <td>NaN</td>\n",
       "      <td>S</td>\n",
       "    </tr>\n",
       "    <tr>\n",
       "      <th>855</th>\n",
       "      <td>856</td>\n",
       "      <td>1</td>\n",
       "      <td>3</td>\n",
       "      <td>Aks, Mrs. Sam (Leah Rosen)</td>\n",
       "      <td>female</td>\n",
       "      <td>18.0</td>\n",
       "      <td>0</td>\n",
       "      <td>1</td>\n",
       "      <td>392091</td>\n",
       "      <td>9.3500</td>\n",
       "      <td>NaN</td>\n",
       "      <td>S</td>\n",
       "    </tr>\n",
       "    <tr>\n",
       "      <th>856</th>\n",
       "      <td>857</td>\n",
       "      <td>1</td>\n",
       "      <td>1</td>\n",
       "      <td>Wick, Mrs. George Dennick (Mary Hitchcock)</td>\n",
       "      <td>female</td>\n",
       "      <td>45.0</td>\n",
       "      <td>1</td>\n",
       "      <td>1</td>\n",
       "      <td>36928</td>\n",
       "      <td>164.8667</td>\n",
       "      <td>NaN</td>\n",
       "      <td>S</td>\n",
       "    </tr>\n",
       "    <tr>\n",
       "      <th>858</th>\n",
       "      <td>859</td>\n",
       "      <td>1</td>\n",
       "      <td>3</td>\n",
       "      <td>Baclini, Mrs. Solomon (Latifa Qurban)</td>\n",
       "      <td>female</td>\n",
       "      <td>24.0</td>\n",
       "      <td>0</td>\n",
       "      <td>3</td>\n",
       "      <td>2666</td>\n",
       "      <td>19.2583</td>\n",
       "      <td>NaN</td>\n",
       "      <td>C</td>\n",
       "    </tr>\n",
       "    <tr>\n",
       "      <th>859</th>\n",
       "      <td>860</td>\n",
       "      <td>0</td>\n",
       "      <td>3</td>\n",
       "      <td>Razi, Mr. Raihed</td>\n",
       "      <td>male</td>\n",
       "      <td>NaN</td>\n",
       "      <td>0</td>\n",
       "      <td>0</td>\n",
       "      <td>2629</td>\n",
       "      <td>7.2292</td>\n",
       "      <td>NaN</td>\n",
       "      <td>C</td>\n",
       "    </tr>\n",
       "    <tr>\n",
       "      <th>860</th>\n",
       "      <td>861</td>\n",
       "      <td>0</td>\n",
       "      <td>3</td>\n",
       "      <td>Hansen, Mr. Claus Peter</td>\n",
       "      <td>male</td>\n",
       "      <td>41.0</td>\n",
       "      <td>2</td>\n",
       "      <td>0</td>\n",
       "      <td>350026</td>\n",
       "      <td>14.1083</td>\n",
       "      <td>NaN</td>\n",
       "      <td>S</td>\n",
       "    </tr>\n",
       "    <tr>\n",
       "      <th>861</th>\n",
       "      <td>862</td>\n",
       "      <td>0</td>\n",
       "      <td>2</td>\n",
       "      <td>Giles, Mr. Frederick Edward</td>\n",
       "      <td>male</td>\n",
       "      <td>21.0</td>\n",
       "      <td>1</td>\n",
       "      <td>0</td>\n",
       "      <td>28134</td>\n",
       "      <td>11.5000</td>\n",
       "      <td>NaN</td>\n",
       "      <td>S</td>\n",
       "    </tr>\n",
       "    <tr>\n",
       "      <th>863</th>\n",
       "      <td>864</td>\n",
       "      <td>0</td>\n",
       "      <td>3</td>\n",
       "      <td>Sage, Miss. Dorothy Edith \"Dolly\"</td>\n",
       "      <td>female</td>\n",
       "      <td>NaN</td>\n",
       "      <td>8</td>\n",
       "      <td>2</td>\n",
       "      <td>CA. 2343</td>\n",
       "      <td>69.5500</td>\n",
       "      <td>NaN</td>\n",
       "      <td>S</td>\n",
       "    </tr>\n",
       "    <tr>\n",
       "      <th>864</th>\n",
       "      <td>865</td>\n",
       "      <td>0</td>\n",
       "      <td>2</td>\n",
       "      <td>Gill, Mr. John William</td>\n",
       "      <td>male</td>\n",
       "      <td>24.0</td>\n",
       "      <td>0</td>\n",
       "      <td>0</td>\n",
       "      <td>233866</td>\n",
       "      <td>13.0000</td>\n",
       "      <td>NaN</td>\n",
       "      <td>S</td>\n",
       "    </tr>\n",
       "    <tr>\n",
       "      <th>865</th>\n",
       "      <td>866</td>\n",
       "      <td>1</td>\n",
       "      <td>2</td>\n",
       "      <td>Bystrom, Mrs. (Karolina)</td>\n",
       "      <td>female</td>\n",
       "      <td>42.0</td>\n",
       "      <td>0</td>\n",
       "      <td>0</td>\n",
       "      <td>236852</td>\n",
       "      <td>13.0000</td>\n",
       "      <td>NaN</td>\n",
       "      <td>S</td>\n",
       "    </tr>\n",
       "    <tr>\n",
       "      <th>866</th>\n",
       "      <td>867</td>\n",
       "      <td>1</td>\n",
       "      <td>2</td>\n",
       "      <td>Duran y More, Miss. Asuncion</td>\n",
       "      <td>female</td>\n",
       "      <td>27.0</td>\n",
       "      <td>1</td>\n",
       "      <td>0</td>\n",
       "      <td>SC/PARIS 2149</td>\n",
       "      <td>13.8583</td>\n",
       "      <td>NaN</td>\n",
       "      <td>C</td>\n",
       "    </tr>\n",
       "    <tr>\n",
       "      <th>868</th>\n",
       "      <td>869</td>\n",
       "      <td>0</td>\n",
       "      <td>3</td>\n",
       "      <td>van Melkebeke, Mr. Philemon</td>\n",
       "      <td>male</td>\n",
       "      <td>NaN</td>\n",
       "      <td>0</td>\n",
       "      <td>0</td>\n",
       "      <td>345777</td>\n",
       "      <td>9.5000</td>\n",
       "      <td>NaN</td>\n",
       "      <td>S</td>\n",
       "    </tr>\n",
       "    <tr>\n",
       "      <th>869</th>\n",
       "      <td>870</td>\n",
       "      <td>1</td>\n",
       "      <td>3</td>\n",
       "      <td>Johnson, Master. Harold Theodor</td>\n",
       "      <td>male</td>\n",
       "      <td>4.0</td>\n",
       "      <td>1</td>\n",
       "      <td>1</td>\n",
       "      <td>347742</td>\n",
       "      <td>11.1333</td>\n",
       "      <td>NaN</td>\n",
       "      <td>S</td>\n",
       "    </tr>\n",
       "    <tr>\n",
       "      <th>870</th>\n",
       "      <td>871</td>\n",
       "      <td>0</td>\n",
       "      <td>3</td>\n",
       "      <td>Balkic, Mr. Cerin</td>\n",
       "      <td>male</td>\n",
       "      <td>26.0</td>\n",
       "      <td>0</td>\n",
       "      <td>0</td>\n",
       "      <td>349248</td>\n",
       "      <td>7.8958</td>\n",
       "      <td>NaN</td>\n",
       "      <td>S</td>\n",
       "    </tr>\n",
       "    <tr>\n",
       "      <th>873</th>\n",
       "      <td>874</td>\n",
       "      <td>0</td>\n",
       "      <td>3</td>\n",
       "      <td>Vander Cruyssen, Mr. Victor</td>\n",
       "      <td>male</td>\n",
       "      <td>47.0</td>\n",
       "      <td>0</td>\n",
       "      <td>0</td>\n",
       "      <td>345765</td>\n",
       "      <td>9.0000</td>\n",
       "      <td>NaN</td>\n",
       "      <td>S</td>\n",
       "    </tr>\n",
       "    <tr>\n",
       "      <th>874</th>\n",
       "      <td>875</td>\n",
       "      <td>1</td>\n",
       "      <td>2</td>\n",
       "      <td>Abelson, Mrs. Samuel (Hannah Wizosky)</td>\n",
       "      <td>female</td>\n",
       "      <td>28.0</td>\n",
       "      <td>1</td>\n",
       "      <td>0</td>\n",
       "      <td>P/PP 3381</td>\n",
       "      <td>24.0000</td>\n",
       "      <td>NaN</td>\n",
       "      <td>C</td>\n",
       "    </tr>\n",
       "    <tr>\n",
       "      <th>875</th>\n",
       "      <td>876</td>\n",
       "      <td>1</td>\n",
       "      <td>3</td>\n",
       "      <td>Najib, Miss. Adele Kiamie \"Jane\"</td>\n",
       "      <td>female</td>\n",
       "      <td>15.0</td>\n",
       "      <td>0</td>\n",
       "      <td>0</td>\n",
       "      <td>2667</td>\n",
       "      <td>7.2250</td>\n",
       "      <td>NaN</td>\n",
       "      <td>C</td>\n",
       "    </tr>\n",
       "    <tr>\n",
       "      <th>876</th>\n",
       "      <td>877</td>\n",
       "      <td>0</td>\n",
       "      <td>3</td>\n",
       "      <td>Gustafsson, Mr. Alfred Ossian</td>\n",
       "      <td>male</td>\n",
       "      <td>20.0</td>\n",
       "      <td>0</td>\n",
       "      <td>0</td>\n",
       "      <td>7534</td>\n",
       "      <td>9.8458</td>\n",
       "      <td>NaN</td>\n",
       "      <td>S</td>\n",
       "    </tr>\n",
       "    <tr>\n",
       "      <th>877</th>\n",
       "      <td>878</td>\n",
       "      <td>0</td>\n",
       "      <td>3</td>\n",
       "      <td>Petroff, Mr. Nedelio</td>\n",
       "      <td>male</td>\n",
       "      <td>19.0</td>\n",
       "      <td>0</td>\n",
       "      <td>0</td>\n",
       "      <td>349212</td>\n",
       "      <td>7.8958</td>\n",
       "      <td>NaN</td>\n",
       "      <td>S</td>\n",
       "    </tr>\n",
       "    <tr>\n",
       "      <th>878</th>\n",
       "      <td>879</td>\n",
       "      <td>0</td>\n",
       "      <td>3</td>\n",
       "      <td>Laleff, Mr. Kristo</td>\n",
       "      <td>male</td>\n",
       "      <td>NaN</td>\n",
       "      <td>0</td>\n",
       "      <td>0</td>\n",
       "      <td>349217</td>\n",
       "      <td>7.8958</td>\n",
       "      <td>NaN</td>\n",
       "      <td>S</td>\n",
       "    </tr>\n",
       "    <tr>\n",
       "      <th>880</th>\n",
       "      <td>881</td>\n",
       "      <td>1</td>\n",
       "      <td>2</td>\n",
       "      <td>Shelley, Mrs. William (Imanita Parrish Hall)</td>\n",
       "      <td>female</td>\n",
       "      <td>25.0</td>\n",
       "      <td>0</td>\n",
       "      <td>1</td>\n",
       "      <td>230433</td>\n",
       "      <td>26.0000</td>\n",
       "      <td>NaN</td>\n",
       "      <td>S</td>\n",
       "    </tr>\n",
       "    <tr>\n",
       "      <th>881</th>\n",
       "      <td>882</td>\n",
       "      <td>0</td>\n",
       "      <td>3</td>\n",
       "      <td>Markun, Mr. Johann</td>\n",
       "      <td>male</td>\n",
       "      <td>33.0</td>\n",
       "      <td>0</td>\n",
       "      <td>0</td>\n",
       "      <td>349257</td>\n",
       "      <td>7.8958</td>\n",
       "      <td>NaN</td>\n",
       "      <td>S</td>\n",
       "    </tr>\n",
       "    <tr>\n",
       "      <th>882</th>\n",
       "      <td>883</td>\n",
       "      <td>0</td>\n",
       "      <td>3</td>\n",
       "      <td>Dahlberg, Miss. Gerda Ulrika</td>\n",
       "      <td>female</td>\n",
       "      <td>22.0</td>\n",
       "      <td>0</td>\n",
       "      <td>0</td>\n",
       "      <td>7552</td>\n",
       "      <td>10.5167</td>\n",
       "      <td>NaN</td>\n",
       "      <td>S</td>\n",
       "    </tr>\n",
       "    <tr>\n",
       "      <th>883</th>\n",
       "      <td>884</td>\n",
       "      <td>0</td>\n",
       "      <td>2</td>\n",
       "      <td>Banfield, Mr. Frederick James</td>\n",
       "      <td>male</td>\n",
       "      <td>28.0</td>\n",
       "      <td>0</td>\n",
       "      <td>0</td>\n",
       "      <td>C.A./SOTON 34068</td>\n",
       "      <td>10.5000</td>\n",
       "      <td>NaN</td>\n",
       "      <td>S</td>\n",
       "    </tr>\n",
       "    <tr>\n",
       "      <th>884</th>\n",
       "      <td>885</td>\n",
       "      <td>0</td>\n",
       "      <td>3</td>\n",
       "      <td>Sutehall, Mr. Henry Jr</td>\n",
       "      <td>male</td>\n",
       "      <td>25.0</td>\n",
       "      <td>0</td>\n",
       "      <td>0</td>\n",
       "      <td>SOTON/OQ 392076</td>\n",
       "      <td>7.0500</td>\n",
       "      <td>NaN</td>\n",
       "      <td>S</td>\n",
       "    </tr>\n",
       "    <tr>\n",
       "      <th>885</th>\n",
       "      <td>886</td>\n",
       "      <td>0</td>\n",
       "      <td>3</td>\n",
       "      <td>Rice, Mrs. William (Margaret Norton)</td>\n",
       "      <td>female</td>\n",
       "      <td>39.0</td>\n",
       "      <td>0</td>\n",
       "      <td>5</td>\n",
       "      <td>382652</td>\n",
       "      <td>29.1250</td>\n",
       "      <td>NaN</td>\n",
       "      <td>Q</td>\n",
       "    </tr>\n",
       "    <tr>\n",
       "      <th>886</th>\n",
       "      <td>887</td>\n",
       "      <td>0</td>\n",
       "      <td>2</td>\n",
       "      <td>Montvila, Rev. Juozas</td>\n",
       "      <td>male</td>\n",
       "      <td>27.0</td>\n",
       "      <td>0</td>\n",
       "      <td>0</td>\n",
       "      <td>211536</td>\n",
       "      <td>13.0000</td>\n",
       "      <td>NaN</td>\n",
       "      <td>S</td>\n",
       "    </tr>\n",
       "    <tr>\n",
       "      <th>888</th>\n",
       "      <td>889</td>\n",
       "      <td>0</td>\n",
       "      <td>3</td>\n",
       "      <td>Johnston, Miss. Catherine Helen \"Carrie\"</td>\n",
       "      <td>female</td>\n",
       "      <td>NaN</td>\n",
       "      <td>1</td>\n",
       "      <td>2</td>\n",
       "      <td>W./C. 6607</td>\n",
       "      <td>23.4500</td>\n",
       "      <td>NaN</td>\n",
       "      <td>S</td>\n",
       "    </tr>\n",
       "    <tr>\n",
       "      <th>890</th>\n",
       "      <td>891</td>\n",
       "      <td>0</td>\n",
       "      <td>3</td>\n",
       "      <td>Dooley, Mr. Patrick</td>\n",
       "      <td>male</td>\n",
       "      <td>32.0</td>\n",
       "      <td>0</td>\n",
       "      <td>0</td>\n",
       "      <td>370376</td>\n",
       "      <td>7.7500</td>\n",
       "      <td>NaN</td>\n",
       "      <td>Q</td>\n",
       "    </tr>\n",
       "  </tbody>\n",
       "</table>\n",
       "<p>687 rows × 12 columns</p>\n",
       "</div>"
      ],
      "text/plain": [
       "     PassengerId  Survived  Pclass  \\\n",
       "0              1         0       3   \n",
       "2              3         1       3   \n",
       "4              5         0       3   \n",
       "5              6         0       3   \n",
       "7              8         0       3   \n",
       "8              9         1       3   \n",
       "9             10         1       2   \n",
       "12            13         0       3   \n",
       "13            14         0       3   \n",
       "14            15         0       3   \n",
       "15            16         1       2   \n",
       "16            17         0       3   \n",
       "17            18         1       2   \n",
       "18            19         0       3   \n",
       "19            20         1       3   \n",
       "20            21         0       2   \n",
       "22            23         1       3   \n",
       "24            25         0       3   \n",
       "25            26         1       3   \n",
       "26            27         0       3   \n",
       "28            29         1       3   \n",
       "29            30         0       3   \n",
       "30            31         0       1   \n",
       "32            33         1       3   \n",
       "33            34         0       2   \n",
       "34            35         0       1   \n",
       "35            36         0       1   \n",
       "36            37         1       3   \n",
       "37            38         0       3   \n",
       "38            39         0       3   \n",
       "..           ...       ...     ...   \n",
       "852          853         0       3   \n",
       "854          855         0       2   \n",
       "855          856         1       3   \n",
       "856          857         1       1   \n",
       "858          859         1       3   \n",
       "859          860         0       3   \n",
       "860          861         0       3   \n",
       "861          862         0       2   \n",
       "863          864         0       3   \n",
       "864          865         0       2   \n",
       "865          866         1       2   \n",
       "866          867         1       2   \n",
       "868          869         0       3   \n",
       "869          870         1       3   \n",
       "870          871         0       3   \n",
       "873          874         0       3   \n",
       "874          875         1       2   \n",
       "875          876         1       3   \n",
       "876          877         0       3   \n",
       "877          878         0       3   \n",
       "878          879         0       3   \n",
       "880          881         1       2   \n",
       "881          882         0       3   \n",
       "882          883         0       3   \n",
       "883          884         0       2   \n",
       "884          885         0       3   \n",
       "885          886         0       3   \n",
       "886          887         0       2   \n",
       "888          889         0       3   \n",
       "890          891         0       3   \n",
       "\n",
       "                                                  Name     Sex   Age  SibSp  \\\n",
       "0                              Braund, Mr. Owen Harris    male  22.0      1   \n",
       "2                               Heikkinen, Miss. Laina  female  26.0      0   \n",
       "4                             Allen, Mr. William Henry    male  35.0      0   \n",
       "5                                     Moran, Mr. James    male   NaN      0   \n",
       "7                       Palsson, Master. Gosta Leonard    male   2.0      3   \n",
       "8    Johnson, Mrs. Oscar W (Elisabeth Vilhelmina Berg)  female  27.0      0   \n",
       "9                  Nasser, Mrs. Nicholas (Adele Achem)  female  14.0      1   \n",
       "12                      Saundercock, Mr. William Henry    male  20.0      0   \n",
       "13                         Andersson, Mr. Anders Johan    male  39.0      1   \n",
       "14                Vestrom, Miss. Hulda Amanda Adolfina  female  14.0      0   \n",
       "15                    Hewlett, Mrs. (Mary D Kingcome)   female  55.0      0   \n",
       "16                                Rice, Master. Eugene    male   2.0      4   \n",
       "17                        Williams, Mr. Charles Eugene    male   NaN      0   \n",
       "18   Vander Planke, Mrs. Julius (Emelia Maria Vande...  female  31.0      1   \n",
       "19                             Masselmani, Mrs. Fatima  female   NaN      0   \n",
       "20                                Fynney, Mr. Joseph J    male  35.0      0   \n",
       "22                         McGowan, Miss. Anna \"Annie\"  female  15.0      0   \n",
       "24                       Palsson, Miss. Torborg Danira  female   8.0      3   \n",
       "25   Asplund, Mrs. Carl Oscar (Selma Augusta Emilia...  female  38.0      1   \n",
       "26                             Emir, Mr. Farred Chehab    male   NaN      0   \n",
       "28                       O'Dwyer, Miss. Ellen \"Nellie\"  female   NaN      0   \n",
       "29                                 Todoroff, Mr. Lalio    male   NaN      0   \n",
       "30                            Uruchurtu, Don. Manuel E    male  40.0      0   \n",
       "32                            Glynn, Miss. Mary Agatha  female   NaN      0   \n",
       "33                               Wheadon, Mr. Edward H    male  66.0      0   \n",
       "34                             Meyer, Mr. Edgar Joseph    male  28.0      1   \n",
       "35                      Holverson, Mr. Alexander Oskar    male  42.0      1   \n",
       "36                                    Mamee, Mr. Hanna    male   NaN      0   \n",
       "37                            Cann, Mr. Ernest Charles    male  21.0      0   \n",
       "38                  Vander Planke, Miss. Augusta Maria  female  18.0      2   \n",
       "..                                                 ...     ...   ...    ...   \n",
       "852                            Boulos, Miss. Nourelain  female   9.0      1   \n",
       "854      Carter, Mrs. Ernest Courtenay (Lilian Hughes)  female  44.0      1   \n",
       "855                         Aks, Mrs. Sam (Leah Rosen)  female  18.0      0   \n",
       "856         Wick, Mrs. George Dennick (Mary Hitchcock)  female  45.0      1   \n",
       "858              Baclini, Mrs. Solomon (Latifa Qurban)  female  24.0      0   \n",
       "859                                   Razi, Mr. Raihed    male   NaN      0   \n",
       "860                            Hansen, Mr. Claus Peter    male  41.0      2   \n",
       "861                        Giles, Mr. Frederick Edward    male  21.0      1   \n",
       "863                  Sage, Miss. Dorothy Edith \"Dolly\"  female   NaN      8   \n",
       "864                             Gill, Mr. John William    male  24.0      0   \n",
       "865                           Bystrom, Mrs. (Karolina)  female  42.0      0   \n",
       "866                       Duran y More, Miss. Asuncion  female  27.0      1   \n",
       "868                        van Melkebeke, Mr. Philemon    male   NaN      0   \n",
       "869                    Johnson, Master. Harold Theodor    male   4.0      1   \n",
       "870                                  Balkic, Mr. Cerin    male  26.0      0   \n",
       "873                        Vander Cruyssen, Mr. Victor    male  47.0      0   \n",
       "874              Abelson, Mrs. Samuel (Hannah Wizosky)  female  28.0      1   \n",
       "875                   Najib, Miss. Adele Kiamie \"Jane\"  female  15.0      0   \n",
       "876                      Gustafsson, Mr. Alfred Ossian    male  20.0      0   \n",
       "877                               Petroff, Mr. Nedelio    male  19.0      0   \n",
       "878                                 Laleff, Mr. Kristo    male   NaN      0   \n",
       "880       Shelley, Mrs. William (Imanita Parrish Hall)  female  25.0      0   \n",
       "881                                 Markun, Mr. Johann    male  33.0      0   \n",
       "882                       Dahlberg, Miss. Gerda Ulrika  female  22.0      0   \n",
       "883                      Banfield, Mr. Frederick James    male  28.0      0   \n",
       "884                             Sutehall, Mr. Henry Jr    male  25.0      0   \n",
       "885               Rice, Mrs. William (Margaret Norton)  female  39.0      0   \n",
       "886                              Montvila, Rev. Juozas    male  27.0      0   \n",
       "888           Johnston, Miss. Catherine Helen \"Carrie\"  female   NaN      1   \n",
       "890                                Dooley, Mr. Patrick    male  32.0      0   \n",
       "\n",
       "     Parch            Ticket      Fare Cabin Embarked  \n",
       "0        0         A/5 21171    7.2500   NaN        S  \n",
       "2        0  STON/O2. 3101282    7.9250   NaN        S  \n",
       "4        0            373450    8.0500   NaN        S  \n",
       "5        0            330877    8.4583   NaN        Q  \n",
       "7        1            349909   21.0750   NaN        S  \n",
       "8        2            347742   11.1333   NaN        S  \n",
       "9        0            237736   30.0708   NaN        C  \n",
       "12       0         A/5. 2151    8.0500   NaN        S  \n",
       "13       5            347082   31.2750   NaN        S  \n",
       "14       0            350406    7.8542   NaN        S  \n",
       "15       0            248706   16.0000   NaN        S  \n",
       "16       1            382652   29.1250   NaN        Q  \n",
       "17       0            244373   13.0000   NaN        S  \n",
       "18       0            345763   18.0000   NaN        S  \n",
       "19       0              2649    7.2250   NaN        C  \n",
       "20       0            239865   26.0000   NaN        S  \n",
       "22       0            330923    8.0292   NaN        Q  \n",
       "24       1            349909   21.0750   NaN        S  \n",
       "25       5            347077   31.3875   NaN        S  \n",
       "26       0              2631    7.2250   NaN        C  \n",
       "28       0            330959    7.8792   NaN        Q  \n",
       "29       0            349216    7.8958   NaN        S  \n",
       "30       0          PC 17601   27.7208   NaN        C  \n",
       "32       0            335677    7.7500   NaN        Q  \n",
       "33       0        C.A. 24579   10.5000   NaN        S  \n",
       "34       0          PC 17604   82.1708   NaN        C  \n",
       "35       0            113789   52.0000   NaN        S  \n",
       "36       0              2677    7.2292   NaN        C  \n",
       "37       0        A./5. 2152    8.0500   NaN        S  \n",
       "38       0            345764   18.0000   NaN        S  \n",
       "..     ...               ...       ...   ...      ...  \n",
       "852      1              2678   15.2458   NaN        C  \n",
       "854      0            244252   26.0000   NaN        S  \n",
       "855      1            392091    9.3500   NaN        S  \n",
       "856      1             36928  164.8667   NaN        S  \n",
       "858      3              2666   19.2583   NaN        C  \n",
       "859      0              2629    7.2292   NaN        C  \n",
       "860      0            350026   14.1083   NaN        S  \n",
       "861      0             28134   11.5000   NaN        S  \n",
       "863      2          CA. 2343   69.5500   NaN        S  \n",
       "864      0            233866   13.0000   NaN        S  \n",
       "865      0            236852   13.0000   NaN        S  \n",
       "866      0     SC/PARIS 2149   13.8583   NaN        C  \n",
       "868      0            345777    9.5000   NaN        S  \n",
       "869      1            347742   11.1333   NaN        S  \n",
       "870      0            349248    7.8958   NaN        S  \n",
       "873      0            345765    9.0000   NaN        S  \n",
       "874      0         P/PP 3381   24.0000   NaN        C  \n",
       "875      0              2667    7.2250   NaN        C  \n",
       "876      0              7534    9.8458   NaN        S  \n",
       "877      0            349212    7.8958   NaN        S  \n",
       "878      0            349217    7.8958   NaN        S  \n",
       "880      1            230433   26.0000   NaN        S  \n",
       "881      0            349257    7.8958   NaN        S  \n",
       "882      0              7552   10.5167   NaN        S  \n",
       "883      0  C.A./SOTON 34068   10.5000   NaN        S  \n",
       "884      0   SOTON/OQ 392076    7.0500   NaN        S  \n",
       "885      5            382652   29.1250   NaN        Q  \n",
       "886      0            211536   13.0000   NaN        S  \n",
       "888      2        W./C. 6607   23.4500   NaN        S  \n",
       "890      0            370376    7.7500   NaN        Q  \n",
       "\n",
       "[687 rows x 12 columns]"
      ]
     },
     "execution_count": 778,
     "metadata": {},
     "output_type": "execute_result"
    }
   ],
   "source": [
    "# Check missing values\n",
    "df[df.Cabin.isnull()]"
   ]
  },
  {
   "cell_type": "markdown",
   "metadata": {},
   "source": [
    "Ok, well this is unusual. Perhaps this variable will not be as interesting as I originally thought. There are 687 missing values for Cabin, ouch. That means..."
   ]
  },
  {
   "cell_type": "code",
   "execution_count": 779,
   "metadata": {
    "collapsed": false
   },
   "outputs": [
    {
     "name": "stdout",
     "output_type": "stream",
     "text": [
      "77.10437710437711 % of Cabin values are MISSING.\n"
     ]
    }
   ],
   "source": [
    "print(((687/891)*100), '% of Cabin values are MISSING.')"
   ]
  },
  {
   "cell_type": "markdown",
   "metadata": {},
   "source": [
    "**Summary of Cabin**  \n",
    "Cabin is categorical with 147 categories which represent the cabin identifier for our passengers. The problem with cabin is that way have 687, or ~77% of our observations, with missing values! Unfortunately, this this is going to limit the potential of analysis of Cabin, which could potentially reveal a lot of interesting facts about our passengers. \n"
   ]
  },
  {
   "cell_type": "markdown",
   "metadata": {},
   "source": [
    "#### 2.1.7 Embarked"
   ]
  },
  {
   "cell_type": "code",
   "execution_count": 780,
   "metadata": {
    "collapsed": false
   },
   "outputs": [
    {
     "data": {
      "text/plain": [
       "S    644\n",
       "C    168\n",
       "Q     77\n",
       "Name: Embarked, dtype: int64"
      ]
     },
     "execution_count": 780,
     "metadata": {},
     "output_type": "execute_result"
    }
   ],
   "source": [
    "# Show categories, and counts\n",
    "df.Embarked.value_counts()"
   ]
  },
  {
   "cell_type": "markdown",
   "metadata": {},
   "source": [
    "Looks like 3 categories here: 'S', 'C', and 'Q'. The definition of these labels can be found from the official description doc provided by Kaggle:\n",
    "\n",
    ">Embarked        Port of Embarkation\n",
    ">                (C = Cherbourg; Q = Queenstown; S = Southampton)\n",
    "\n",
    "So 'Embarked' will be indicating the passenger's port of embarkation, i.e. which port they boarded the ship from. Let's check the completness of the data here. "
   ]
  },
  {
   "cell_type": "code",
   "execution_count": 781,
   "metadata": {
    "collapsed": false
   },
   "outputs": [
    {
     "data": {
      "text/html": [
       "<div>\n",
       "<table border=\"1\" class=\"dataframe\">\n",
       "  <thead>\n",
       "    <tr style=\"text-align: right;\">\n",
       "      <th></th>\n",
       "      <th>PassengerId</th>\n",
       "      <th>Survived</th>\n",
       "      <th>Pclass</th>\n",
       "      <th>Name</th>\n",
       "      <th>Sex</th>\n",
       "      <th>Age</th>\n",
       "      <th>SibSp</th>\n",
       "      <th>Parch</th>\n",
       "      <th>Ticket</th>\n",
       "      <th>Fare</th>\n",
       "      <th>Cabin</th>\n",
       "      <th>Embarked</th>\n",
       "    </tr>\n",
       "  </thead>\n",
       "  <tbody>\n",
       "    <tr>\n",
       "      <th>61</th>\n",
       "      <td>62</td>\n",
       "      <td>1</td>\n",
       "      <td>1</td>\n",
       "      <td>Icard, Miss. Amelie</td>\n",
       "      <td>female</td>\n",
       "      <td>38.0</td>\n",
       "      <td>0</td>\n",
       "      <td>0</td>\n",
       "      <td>113572</td>\n",
       "      <td>80.0</td>\n",
       "      <td>B28</td>\n",
       "      <td>NaN</td>\n",
       "    </tr>\n",
       "    <tr>\n",
       "      <th>829</th>\n",
       "      <td>830</td>\n",
       "      <td>1</td>\n",
       "      <td>1</td>\n",
       "      <td>Stone, Mrs. George Nelson (Martha Evelyn)</td>\n",
       "      <td>female</td>\n",
       "      <td>62.0</td>\n",
       "      <td>0</td>\n",
       "      <td>0</td>\n",
       "      <td>113572</td>\n",
       "      <td>80.0</td>\n",
       "      <td>B28</td>\n",
       "      <td>NaN</td>\n",
       "    </tr>\n",
       "  </tbody>\n",
       "</table>\n",
       "</div>"
      ],
      "text/plain": [
       "     PassengerId  Survived  Pclass                                       Name  \\\n",
       "61            62         1       1                        Icard, Miss. Amelie   \n",
       "829          830         1       1  Stone, Mrs. George Nelson (Martha Evelyn)   \n",
       "\n",
       "        Sex   Age  SibSp  Parch  Ticket  Fare Cabin Embarked  \n",
       "61   female  38.0      0      0  113572  80.0   B28      NaN  \n",
       "829  female  62.0      0      0  113572  80.0   B28      NaN  "
      ]
     },
     "execution_count": 781,
     "metadata": {},
     "output_type": "execute_result"
    }
   ],
   "source": [
    "# Check missing values\n",
    "df[df.Embarked.isnull()]"
   ]
  },
  {
   "cell_type": "markdown",
   "metadata": {},
   "source": [
    "Two passengers with missing Embarked values. Both of which survived. But how can a passenger not have a port of embarkation? Interesting. Since there's only two, I performed a brief Google search for 'Icard, Miss. Amelie' and found something very interesting! \n",
    "\n",
    "From the [Encyclopedia Titanica](https://www.encyclopedia-titanica.org/titanic-survivor/amelia-icard.html):\n",
    ">\"Miss Rose Amélie Icard, 38, was born in Vaucluse, France on 31 October 1872, her father Marc Icard lived at Mafs á Murs (?).\n",
    "\n",
    ">She boarded the Titanic at Southampton as maid to Mrs George Nelson Stone. She travelled on Mrs Stone's ticket (#113572).\n",
    "\n",
    ">Mrs Stone and Miss Icard were rescued by the Carpathia in lifeboat 6.\"\n",
    "\n",
    "WOW. Ok, so Icard was Stone's maid, and therefore traveled under the same (Stone's) ticket number. That completely explains why these two passengers are togehter here and ironically survived together. However, still not sure why the 'Embarked' value is NaN since it also states here that Icard embarked the Titanic at Southampton. I also verified Stone, and her profile does indeed also confirm that she embarked at Southampton as well. At this point, assuming 'Encyclopedia Titanica' could be agreed upon as a reliable source, I would simply suggest to just fill in those two missing data values with 'S' for them. However, I don't want to risk hindering the dataset with changes yet until we get into missing data values further so I will leave it as is for now.\n",
    "\n",
    "Another great thing I learned from this, is that maids traveled under their employer's ticket numbers! That is definitely going to come in handy for when I perform more analysis on the repeated Ticket values. Good stuff!\n",
    "\n",
    "I'll do a couple visualizations of the port distribution now.\n"
   ]
  },
  {
   "cell_type": "code",
   "execution_count": 782,
   "metadata": {
    "collapsed": false
   },
   "outputs": [
    {
     "data": {
      "text/plain": [
       "<matplotlib.axes._subplots.AxesSubplot at 0x13023fdd8>"
      ]
     },
     "execution_count": 782,
     "metadata": {},
     "output_type": "execute_result"
    },
    {
     "data": {
      "image/png": "[encoded data removed]",
      "text/plain": [
       "<matplotlib.figure.Figure at 0x1302e5208>"
      ]
     },
     "metadata": {},
     "output_type": "display_data"
    }
   ],
   "source": [
    "# Plot pie\n",
    "df.Embarked.value_counts().plot(kind='pie', title='Distribution of Port Embarkation')"
   ]
  },
  {
   "cell_type": "code",
   "execution_count": 783,
   "metadata": {
    "collapsed": false
   },
   "outputs": [
    {
     "data": {
      "text/plain": [
       "<matplotlib.axes._subplots.AxesSubplot at 0x1302e24a8>"
      ]
     },
     "execution_count": 783,
     "metadata": {},
     "output_type": "execute_result"
    },
    {
     "data": {
      "image/png": "[encoded data removed]",
      "text/plain": [
       "<matplotlib.figure.Figure at 0x130285828>"
      ]
     },
     "metadata": {},
     "output_type": "display_data"
    }
   ],
   "source": [
    "# Plot bar\n",
    "df.Embarked.value_counts().plot(kind='barh')"
   ]
  },
  {
   "cell_type": "markdown",
   "metadata": {},
   "source": [
    "Southampton was clearly the winner here when it comes to boarding the Titanic. Out of curiousity, Googled a bit about this port and found it to be considered the \"primary port of embarkation\" for the Titanic, as it was the most easily accessible via hourly rail-service in/out of the city. "
   ]
  },
  {
   "cell_type": "markdown",
   "metadata": {},
   "source": [
    "**Summary Embarked**  \n",
    "Embarked is categorical, with three categories of ports (S)outhampton, (C)herbourg, and (Q)ueenstown. Two interesting missing values were found, however this may be easily corrected based on research of these two passengers. The distribution tells the story that the massive majority of passengers boarded the ship from Southampton, which was the official primary port of embarkation. "
   ]
  },
  {
   "cell_type": "markdown",
   "metadata": {},
   "source": [
    "### 2.2 Continuous"
   ]
  },
  {
   "cell_type": "markdown",
   "metadata": {},
   "source": [
    "Now I will begin my EDA on the continuous variables, that is those which can be quantified and described by statistical measures such as the mean and standard deviation."
   ]
  },
  {
   "cell_type": "markdown",
   "metadata": {},
   "source": [
    "#### 2.2.1 Age"
   ]
  },
  {
   "cell_type": "code",
   "execution_count": 784,
   "metadata": {
    "collapsed": false
   },
   "outputs": [
    {
     "data": {
      "text/plain": [
       "count    714.000000\n",
       "mean      29.699118\n",
       "std       14.526497\n",
       "min        0.420000\n",
       "25%       20.125000\n",
       "50%       28.000000\n",
       "75%       38.000000\n",
       "max       80.000000\n",
       "Name: Age, dtype: float64"
      ]
     },
     "execution_count": 784,
     "metadata": {},
     "output_type": "execute_result"
    }
   ],
   "source": [
    "# Descriptive Statistics\n",
    "df.Age.describe()"
   ]
  },
  {
   "cell_type": "code",
   "execution_count": 785,
   "metadata": {
    "collapsed": false
   },
   "outputs": [
    {
     "data": {
      "text/plain": [
       "88"
      ]
     },
     "execution_count": 785,
     "metadata": {},
     "output_type": "execute_result"
    }
   ],
   "source": [
    "# How many different ages ?\n",
    "len(df.Age.value_counts())"
   ]
  },
  {
   "cell_type": "code",
   "execution_count": 786,
   "metadata": {
    "collapsed": false
   },
   "outputs": [
    {
     "data": {
      "text/plain": [
       "<matplotlib.text.Text at 0x135450e80>"
      ]
     },
     "execution_count": 786,
     "metadata": {},
     "output_type": "execute_result"
    },
    {
     "data": {
      "image/png": "[encoded data removed]",
      "text/plain": [
       "<matplotlib.figure.Figure at 0x135431c88>"
      ]
     },
     "metadata": {},
     "output_type": "display_data"
    }
   ],
   "source": [
    "# Plot histogram, larger size due to a wide distribution of ages\n",
    "rcParams['figure.figsize'] = 12,10\n",
    "age_plot = df['Age'].hist(bins=50)\n",
    "age_plot.set_title(\"Age Distribution\")\n",
    "age_plot.set_xlabel(\"Age (years)\")\n",
    "age_plot.set_ylabel(\"Number of passengers\")"
   ]
  },
  {
   "cell_type": "markdown",
   "metadata": {},
   "source": [
    "Distribution shows us that majority of passengers tended to be between the ages of about 18-35 in my opinion. The mean age is ~30 years, but what's important to take note of here is the standard deviation which is quite high at ~14.53 representing a good amount of variance amongst our passenger's age. One last thing I'd like to plot is age vs survial."
   ]
  },
  {
   "cell_type": "code",
   "execution_count": 787,
   "metadata": {
    "collapsed": false
   },
   "outputs": [
    {
     "data": {
      "image/png": "[encoded data removed]",
      "text/plain": [
       "<matplotlib.figure.Figure at 0x1353820b8>"
      ]
     },
     "metadata": {},
     "output_type": "display_data"
    }
   ],
   "source": [
    "# Just a quick way to visualize survival based on age distribution\n",
    "# Left histogram plots those counts of those who died (0) by age distribution, right histogram plots count survived (1) by age\n",
    "rcParams['figure.figsize'] = 16,8\n",
    "age_survival = df['Age'].hist(by=df['Survived'],bins=30,stacked='true')"
   ]
  },
  {
   "cell_type": "markdown",
   "metadata": {},
   "source": [
    "Kind of hard to really infer much from these visualizations due to the wide variance, and close similarity in distribution between those who survived and did not. One obvious valuable observation however is the major difference in survival rates for those below the age of 10. There is a huge improvement of survival rate shown there on the right histogram vs the left. I'll be investigating this more as I analyze the situation of \"Women & Children\"."
   ]
  },
  {
   "cell_type": "code",
   "execution_count": 788,
   "metadata": {
    "collapsed": false
   },
   "outputs": [
    {
     "data": {
      "text/html": [
       "<div>\n",
       "<table border=\"1\" class=\"dataframe\">\n",
       "  <thead>\n",
       "    <tr style=\"text-align: right;\">\n",
       "      <th></th>\n",
       "      <th>PassengerId</th>\n",
       "      <th>Survived</th>\n",
       "      <th>Pclass</th>\n",
       "      <th>Name</th>\n",
       "      <th>Sex</th>\n",
       "      <th>Age</th>\n",
       "      <th>SibSp</th>\n",
       "      <th>Parch</th>\n",
       "      <th>Ticket</th>\n",
       "      <th>Fare</th>\n",
       "      <th>Cabin</th>\n",
       "      <th>Embarked</th>\n",
       "    </tr>\n",
       "  </thead>\n",
       "  <tbody>\n",
       "    <tr>\n",
       "      <th>5</th>\n",
       "      <td>6</td>\n",
       "      <td>0</td>\n",
       "      <td>3</td>\n",
       "      <td>Moran, Mr. James</td>\n",
       "      <td>male</td>\n",
       "      <td>NaN</td>\n",
       "      <td>0</td>\n",
       "      <td>0</td>\n",
       "      <td>330877</td>\n",
       "      <td>8.4583</td>\n",
       "      <td>NaN</td>\n",
       "      <td>Q</td>\n",
       "    </tr>\n",
       "    <tr>\n",
       "      <th>17</th>\n",
       "      <td>18</td>\n",
       "      <td>1</td>\n",
       "      <td>2</td>\n",
       "      <td>Williams, Mr. Charles Eugene</td>\n",
       "      <td>male</td>\n",
       "      <td>NaN</td>\n",
       "      <td>0</td>\n",
       "      <td>0</td>\n",
       "      <td>244373</td>\n",
       "      <td>13.0000</td>\n",
       "      <td>NaN</td>\n",
       "      <td>S</td>\n",
       "    </tr>\n",
       "    <tr>\n",
       "      <th>19</th>\n",
       "      <td>20</td>\n",
       "      <td>1</td>\n",
       "      <td>3</td>\n",
       "      <td>Masselmani, Mrs. Fatima</td>\n",
       "      <td>female</td>\n",
       "      <td>NaN</td>\n",
       "      <td>0</td>\n",
       "      <td>0</td>\n",
       "      <td>2649</td>\n",
       "      <td>7.2250</td>\n",
       "      <td>NaN</td>\n",
       "      <td>C</td>\n",
       "    </tr>\n",
       "    <tr>\n",
       "      <th>26</th>\n",
       "      <td>27</td>\n",
       "      <td>0</td>\n",
       "      <td>3</td>\n",
       "      <td>Emir, Mr. Farred Chehab</td>\n",
       "      <td>male</td>\n",
       "      <td>NaN</td>\n",
       "      <td>0</td>\n",
       "      <td>0</td>\n",
       "      <td>2631</td>\n",
       "      <td>7.2250</td>\n",
       "      <td>NaN</td>\n",
       "      <td>C</td>\n",
       "    </tr>\n",
       "    <tr>\n",
       "      <th>28</th>\n",
       "      <td>29</td>\n",
       "      <td>1</td>\n",
       "      <td>3</td>\n",
       "      <td>O'Dwyer, Miss. Ellen \"Nellie\"</td>\n",
       "      <td>female</td>\n",
       "      <td>NaN</td>\n",
       "      <td>0</td>\n",
       "      <td>0</td>\n",
       "      <td>330959</td>\n",
       "      <td>7.8792</td>\n",
       "      <td>NaN</td>\n",
       "      <td>Q</td>\n",
       "    </tr>\n",
       "    <tr>\n",
       "      <th>29</th>\n",
       "      <td>30</td>\n",
       "      <td>0</td>\n",
       "      <td>3</td>\n",
       "      <td>Todoroff, Mr. Lalio</td>\n",
       "      <td>male</td>\n",
       "      <td>NaN</td>\n",
       "      <td>0</td>\n",
       "      <td>0</td>\n",
       "      <td>349216</td>\n",
       "      <td>7.8958</td>\n",
       "      <td>NaN</td>\n",
       "      <td>S</td>\n",
       "    </tr>\n",
       "    <tr>\n",
       "      <th>31</th>\n",
       "      <td>32</td>\n",
       "      <td>1</td>\n",
       "      <td>1</td>\n",
       "      <td>Spencer, Mrs. William Augustus (Marie Eugenie)</td>\n",
       "      <td>female</td>\n",
       "      <td>NaN</td>\n",
       "      <td>1</td>\n",
       "      <td>0</td>\n",
       "      <td>PC 17569</td>\n",
       "      <td>146.5208</td>\n",
       "      <td>B78</td>\n",
       "      <td>C</td>\n",
       "    </tr>\n",
       "    <tr>\n",
       "      <th>32</th>\n",
       "      <td>33</td>\n",
       "      <td>1</td>\n",
       "      <td>3</td>\n",
       "      <td>Glynn, Miss. Mary Agatha</td>\n",
       "      <td>female</td>\n",
       "      <td>NaN</td>\n",
       "      <td>0</td>\n",
       "      <td>0</td>\n",
       "      <td>335677</td>\n",
       "      <td>7.7500</td>\n",
       "      <td>NaN</td>\n",
       "      <td>Q</td>\n",
       "    </tr>\n",
       "    <tr>\n",
       "      <th>36</th>\n",
       "      <td>37</td>\n",
       "      <td>1</td>\n",
       "      <td>3</td>\n",
       "      <td>Mamee, Mr. Hanna</td>\n",
       "      <td>male</td>\n",
       "      <td>NaN</td>\n",
       "      <td>0</td>\n",
       "      <td>0</td>\n",
       "      <td>2677</td>\n",
       "      <td>7.2292</td>\n",
       "      <td>NaN</td>\n",
       "      <td>C</td>\n",
       "    </tr>\n",
       "    <tr>\n",
       "      <th>42</th>\n",
       "      <td>43</td>\n",
       "      <td>0</td>\n",
       "      <td>3</td>\n",
       "      <td>Kraeff, Mr. Theodor</td>\n",
       "      <td>male</td>\n",
       "      <td>NaN</td>\n",
       "      <td>0</td>\n",
       "      <td>0</td>\n",
       "      <td>349253</td>\n",
       "      <td>7.8958</td>\n",
       "      <td>NaN</td>\n",
       "      <td>C</td>\n",
       "    </tr>\n",
       "    <tr>\n",
       "      <th>45</th>\n",
       "      <td>46</td>\n",
       "      <td>0</td>\n",
       "      <td>3</td>\n",
       "      <td>Rogers, Mr. William John</td>\n",
       "      <td>male</td>\n",
       "      <td>NaN</td>\n",
       "      <td>0</td>\n",
       "      <td>0</td>\n",
       "      <td>S.C./A.4. 23567</td>\n",
       "      <td>8.0500</td>\n",
       "      <td>NaN</td>\n",
       "      <td>S</td>\n",
       "    </tr>\n",
       "    <tr>\n",
       "      <th>46</th>\n",
       "      <td>47</td>\n",
       "      <td>0</td>\n",
       "      <td>3</td>\n",
       "      <td>Lennon, Mr. Denis</td>\n",
       "      <td>male</td>\n",
       "      <td>NaN</td>\n",
       "      <td>1</td>\n",
       "      <td>0</td>\n",
       "      <td>370371</td>\n",
       "      <td>15.5000</td>\n",
       "      <td>NaN</td>\n",
       "      <td>Q</td>\n",
       "    </tr>\n",
       "    <tr>\n",
       "      <th>47</th>\n",
       "      <td>48</td>\n",
       "      <td>1</td>\n",
       "      <td>3</td>\n",
       "      <td>O'Driscoll, Miss. Bridget</td>\n",
       "      <td>female</td>\n",
       "      <td>NaN</td>\n",
       "      <td>0</td>\n",
       "      <td>0</td>\n",
       "      <td>14311</td>\n",
       "      <td>7.7500</td>\n",
       "      <td>NaN</td>\n",
       "      <td>Q</td>\n",
       "    </tr>\n",
       "    <tr>\n",
       "      <th>48</th>\n",
       "      <td>49</td>\n",
       "      <td>0</td>\n",
       "      <td>3</td>\n",
       "      <td>Samaan, Mr. Youssef</td>\n",
       "      <td>male</td>\n",
       "      <td>NaN</td>\n",
       "      <td>2</td>\n",
       "      <td>0</td>\n",
       "      <td>2662</td>\n",
       "      <td>21.6792</td>\n",
       "      <td>NaN</td>\n",
       "      <td>C</td>\n",
       "    </tr>\n",
       "    <tr>\n",
       "      <th>55</th>\n",
       "      <td>56</td>\n",
       "      <td>1</td>\n",
       "      <td>1</td>\n",
       "      <td>Woolner, Mr. Hugh</td>\n",
       "      <td>male</td>\n",
       "      <td>NaN</td>\n",
       "      <td>0</td>\n",
       "      <td>0</td>\n",
       "      <td>19947</td>\n",
       "      <td>35.5000</td>\n",
       "      <td>C52</td>\n",
       "      <td>S</td>\n",
       "    </tr>\n",
       "    <tr>\n",
       "      <th>64</th>\n",
       "      <td>65</td>\n",
       "      <td>0</td>\n",
       "      <td>1</td>\n",
       "      <td>Stewart, Mr. Albert A</td>\n",
       "      <td>male</td>\n",
       "      <td>NaN</td>\n",
       "      <td>0</td>\n",
       "      <td>0</td>\n",
       "      <td>PC 17605</td>\n",
       "      <td>27.7208</td>\n",
       "      <td>NaN</td>\n",
       "      <td>C</td>\n",
       "    </tr>\n",
       "    <tr>\n",
       "      <th>65</th>\n",
       "      <td>66</td>\n",
       "      <td>1</td>\n",
       "      <td>3</td>\n",
       "      <td>Moubarek, Master. Gerios</td>\n",
       "      <td>male</td>\n",
       "      <td>NaN</td>\n",
       "      <td>1</td>\n",
       "      <td>1</td>\n",
       "      <td>2661</td>\n",
       "      <td>15.2458</td>\n",
       "      <td>NaN</td>\n",
       "      <td>C</td>\n",
       "    </tr>\n",
       "    <tr>\n",
       "      <th>76</th>\n",
       "      <td>77</td>\n",
       "      <td>0</td>\n",
       "      <td>3</td>\n",
       "      <td>Staneff, Mr. Ivan</td>\n",
       "      <td>male</td>\n",
       "      <td>NaN</td>\n",
       "      <td>0</td>\n",
       "      <td>0</td>\n",
       "      <td>349208</td>\n",
       "      <td>7.8958</td>\n",
       "      <td>NaN</td>\n",
       "      <td>S</td>\n",
       "    </tr>\n",
       "    <tr>\n",
       "      <th>77</th>\n",
       "      <td>78</td>\n",
       "      <td>0</td>\n",
       "      <td>3</td>\n",
       "      <td>Moutal, Mr. Rahamin Haim</td>\n",
       "      <td>male</td>\n",
       "      <td>NaN</td>\n",
       "      <td>0</td>\n",
       "      <td>0</td>\n",
       "      <td>374746</td>\n",
       "      <td>8.0500</td>\n",
       "      <td>NaN</td>\n",
       "      <td>S</td>\n",
       "    </tr>\n",
       "    <tr>\n",
       "      <th>82</th>\n",
       "      <td>83</td>\n",
       "      <td>1</td>\n",
       "      <td>3</td>\n",
       "      <td>McDermott, Miss. Brigdet Delia</td>\n",
       "      <td>female</td>\n",
       "      <td>NaN</td>\n",
       "      <td>0</td>\n",
       "      <td>0</td>\n",
       "      <td>330932</td>\n",
       "      <td>7.7875</td>\n",
       "      <td>NaN</td>\n",
       "      <td>Q</td>\n",
       "    </tr>\n",
       "    <tr>\n",
       "      <th>87</th>\n",
       "      <td>88</td>\n",
       "      <td>0</td>\n",
       "      <td>3</td>\n",
       "      <td>Slocovski, Mr. Selman Francis</td>\n",
       "      <td>male</td>\n",
       "      <td>NaN</td>\n",
       "      <td>0</td>\n",
       "      <td>0</td>\n",
       "      <td>SOTON/OQ 392086</td>\n",
       "      <td>8.0500</td>\n",
       "      <td>NaN</td>\n",
       "      <td>S</td>\n",
       "    </tr>\n",
       "    <tr>\n",
       "      <th>95</th>\n",
       "      <td>96</td>\n",
       "      <td>0</td>\n",
       "      <td>3</td>\n",
       "      <td>Shorney, Mr. Charles Joseph</td>\n",
       "      <td>male</td>\n",
       "      <td>NaN</td>\n",
       "      <td>0</td>\n",
       "      <td>0</td>\n",
       "      <td>374910</td>\n",
       "      <td>8.0500</td>\n",
       "      <td>NaN</td>\n",
       "      <td>S</td>\n",
       "    </tr>\n",
       "    <tr>\n",
       "      <th>101</th>\n",
       "      <td>102</td>\n",
       "      <td>0</td>\n",
       "      <td>3</td>\n",
       "      <td>Petroff, Mr. Pastcho (\"Pentcho\")</td>\n",
       "      <td>male</td>\n",
       "      <td>NaN</td>\n",
       "      <td>0</td>\n",
       "      <td>0</td>\n",
       "      <td>349215</td>\n",
       "      <td>7.8958</td>\n",
       "      <td>NaN</td>\n",
       "      <td>S</td>\n",
       "    </tr>\n",
       "    <tr>\n",
       "      <th>107</th>\n",
       "      <td>108</td>\n",
       "      <td>1</td>\n",
       "      <td>3</td>\n",
       "      <td>Moss, Mr. Albert Johan</td>\n",
       "      <td>male</td>\n",
       "      <td>NaN</td>\n",
       "      <td>0</td>\n",
       "      <td>0</td>\n",
       "      <td>312991</td>\n",
       "      <td>7.7750</td>\n",
       "      <td>NaN</td>\n",
       "      <td>S</td>\n",
       "    </tr>\n",
       "    <tr>\n",
       "      <th>109</th>\n",
       "      <td>110</td>\n",
       "      <td>1</td>\n",
       "      <td>3</td>\n",
       "      <td>Moran, Miss. Bertha</td>\n",
       "      <td>female</td>\n",
       "      <td>NaN</td>\n",
       "      <td>1</td>\n",
       "      <td>0</td>\n",
       "      <td>371110</td>\n",
       "      <td>24.1500</td>\n",
       "      <td>NaN</td>\n",
       "      <td>Q</td>\n",
       "    </tr>\n",
       "    <tr>\n",
       "      <th>121</th>\n",
       "      <td>122</td>\n",
       "      <td>0</td>\n",
       "      <td>3</td>\n",
       "      <td>Moore, Mr. Leonard Charles</td>\n",
       "      <td>male</td>\n",
       "      <td>NaN</td>\n",
       "      <td>0</td>\n",
       "      <td>0</td>\n",
       "      <td>A4. 54510</td>\n",
       "      <td>8.0500</td>\n",
       "      <td>NaN</td>\n",
       "      <td>S</td>\n",
       "    </tr>\n",
       "    <tr>\n",
       "      <th>126</th>\n",
       "      <td>127</td>\n",
       "      <td>0</td>\n",
       "      <td>3</td>\n",
       "      <td>McMahon, Mr. Martin</td>\n",
       "      <td>male</td>\n",
       "      <td>NaN</td>\n",
       "      <td>0</td>\n",
       "      <td>0</td>\n",
       "      <td>370372</td>\n",
       "      <td>7.7500</td>\n",
       "      <td>NaN</td>\n",
       "      <td>Q</td>\n",
       "    </tr>\n",
       "    <tr>\n",
       "      <th>128</th>\n",
       "      <td>129</td>\n",
       "      <td>1</td>\n",
       "      <td>3</td>\n",
       "      <td>Peter, Miss. Anna</td>\n",
       "      <td>female</td>\n",
       "      <td>NaN</td>\n",
       "      <td>1</td>\n",
       "      <td>1</td>\n",
       "      <td>2668</td>\n",
       "      <td>22.3583</td>\n",
       "      <td>F E69</td>\n",
       "      <td>C</td>\n",
       "    </tr>\n",
       "    <tr>\n",
       "      <th>140</th>\n",
       "      <td>141</td>\n",
       "      <td>0</td>\n",
       "      <td>3</td>\n",
       "      <td>Boulos, Mrs. Joseph (Sultana)</td>\n",
       "      <td>female</td>\n",
       "      <td>NaN</td>\n",
       "      <td>0</td>\n",
       "      <td>2</td>\n",
       "      <td>2678</td>\n",
       "      <td>15.2458</td>\n",
       "      <td>NaN</td>\n",
       "      <td>C</td>\n",
       "    </tr>\n",
       "    <tr>\n",
       "      <th>154</th>\n",
       "      <td>155</td>\n",
       "      <td>0</td>\n",
       "      <td>3</td>\n",
       "      <td>Olsen, Mr. Ole Martin</td>\n",
       "      <td>male</td>\n",
       "      <td>NaN</td>\n",
       "      <td>0</td>\n",
       "      <td>0</td>\n",
       "      <td>Fa 265302</td>\n",
       "      <td>7.3125</td>\n",
       "      <td>NaN</td>\n",
       "      <td>S</td>\n",
       "    </tr>\n",
       "    <tr>\n",
       "      <th>...</th>\n",
       "      <td>...</td>\n",
       "      <td>...</td>\n",
       "      <td>...</td>\n",
       "      <td>...</td>\n",
       "      <td>...</td>\n",
       "      <td>...</td>\n",
       "      <td>...</td>\n",
       "      <td>...</td>\n",
       "      <td>...</td>\n",
       "      <td>...</td>\n",
       "      <td>...</td>\n",
       "      <td>...</td>\n",
       "    </tr>\n",
       "    <tr>\n",
       "      <th>718</th>\n",
       "      <td>719</td>\n",
       "      <td>0</td>\n",
       "      <td>3</td>\n",
       "      <td>McEvoy, Mr. Michael</td>\n",
       "      <td>male</td>\n",
       "      <td>NaN</td>\n",
       "      <td>0</td>\n",
       "      <td>0</td>\n",
       "      <td>36568</td>\n",
       "      <td>15.5000</td>\n",
       "      <td>NaN</td>\n",
       "      <td>Q</td>\n",
       "    </tr>\n",
       "    <tr>\n",
       "      <th>727</th>\n",
       "      <td>728</td>\n",
       "      <td>1</td>\n",
       "      <td>3</td>\n",
       "      <td>Mannion, Miss. Margareth</td>\n",
       "      <td>female</td>\n",
       "      <td>NaN</td>\n",
       "      <td>0</td>\n",
       "      <td>0</td>\n",
       "      <td>36866</td>\n",
       "      <td>7.7375</td>\n",
       "      <td>NaN</td>\n",
       "      <td>Q</td>\n",
       "    </tr>\n",
       "    <tr>\n",
       "      <th>732</th>\n",
       "      <td>733</td>\n",
       "      <td>0</td>\n",
       "      <td>2</td>\n",
       "      <td>Knight, Mr. Robert J</td>\n",
       "      <td>male</td>\n",
       "      <td>NaN</td>\n",
       "      <td>0</td>\n",
       "      <td>0</td>\n",
       "      <td>239855</td>\n",
       "      <td>0.0000</td>\n",
       "      <td>NaN</td>\n",
       "      <td>S</td>\n",
       "    </tr>\n",
       "    <tr>\n",
       "      <th>738</th>\n",
       "      <td>739</td>\n",
       "      <td>0</td>\n",
       "      <td>3</td>\n",
       "      <td>Ivanoff, Mr. Kanio</td>\n",
       "      <td>male</td>\n",
       "      <td>NaN</td>\n",
       "      <td>0</td>\n",
       "      <td>0</td>\n",
       "      <td>349201</td>\n",
       "      <td>7.8958</td>\n",
       "      <td>NaN</td>\n",
       "      <td>S</td>\n",
       "    </tr>\n",
       "    <tr>\n",
       "      <th>739</th>\n",
       "      <td>740</td>\n",
       "      <td>0</td>\n",
       "      <td>3</td>\n",
       "      <td>Nankoff, Mr. Minko</td>\n",
       "      <td>male</td>\n",
       "      <td>NaN</td>\n",
       "      <td>0</td>\n",
       "      <td>0</td>\n",
       "      <td>349218</td>\n",
       "      <td>7.8958</td>\n",
       "      <td>NaN</td>\n",
       "      <td>S</td>\n",
       "    </tr>\n",
       "    <tr>\n",
       "      <th>740</th>\n",
       "      <td>741</td>\n",
       "      <td>1</td>\n",
       "      <td>1</td>\n",
       "      <td>Hawksford, Mr. Walter James</td>\n",
       "      <td>male</td>\n",
       "      <td>NaN</td>\n",
       "      <td>0</td>\n",
       "      <td>0</td>\n",
       "      <td>16988</td>\n",
       "      <td>30.0000</td>\n",
       "      <td>D45</td>\n",
       "      <td>S</td>\n",
       "    </tr>\n",
       "    <tr>\n",
       "      <th>760</th>\n",
       "      <td>761</td>\n",
       "      <td>0</td>\n",
       "      <td>3</td>\n",
       "      <td>Garfirth, Mr. John</td>\n",
       "      <td>male</td>\n",
       "      <td>NaN</td>\n",
       "      <td>0</td>\n",
       "      <td>0</td>\n",
       "      <td>358585</td>\n",
       "      <td>14.5000</td>\n",
       "      <td>NaN</td>\n",
       "      <td>S</td>\n",
       "    </tr>\n",
       "    <tr>\n",
       "      <th>766</th>\n",
       "      <td>767</td>\n",
       "      <td>0</td>\n",
       "      <td>1</td>\n",
       "      <td>Brewe, Dr. Arthur Jackson</td>\n",
       "      <td>male</td>\n",
       "      <td>NaN</td>\n",
       "      <td>0</td>\n",
       "      <td>0</td>\n",
       "      <td>112379</td>\n",
       "      <td>39.6000</td>\n",
       "      <td>NaN</td>\n",
       "      <td>C</td>\n",
       "    </tr>\n",
       "    <tr>\n",
       "      <th>768</th>\n",
       "      <td>769</td>\n",
       "      <td>0</td>\n",
       "      <td>3</td>\n",
       "      <td>Moran, Mr. Daniel J</td>\n",
       "      <td>male</td>\n",
       "      <td>NaN</td>\n",
       "      <td>1</td>\n",
       "      <td>0</td>\n",
       "      <td>371110</td>\n",
       "      <td>24.1500</td>\n",
       "      <td>NaN</td>\n",
       "      <td>Q</td>\n",
       "    </tr>\n",
       "    <tr>\n",
       "      <th>773</th>\n",
       "      <td>774</td>\n",
       "      <td>0</td>\n",
       "      <td>3</td>\n",
       "      <td>Elias, Mr. Dibo</td>\n",
       "      <td>male</td>\n",
       "      <td>NaN</td>\n",
       "      <td>0</td>\n",
       "      <td>0</td>\n",
       "      <td>2674</td>\n",
       "      <td>7.2250</td>\n",
       "      <td>NaN</td>\n",
       "      <td>C</td>\n",
       "    </tr>\n",
       "    <tr>\n",
       "      <th>776</th>\n",
       "      <td>777</td>\n",
       "      <td>0</td>\n",
       "      <td>3</td>\n",
       "      <td>Tobin, Mr. Roger</td>\n",
       "      <td>male</td>\n",
       "      <td>NaN</td>\n",
       "      <td>0</td>\n",
       "      <td>0</td>\n",
       "      <td>383121</td>\n",
       "      <td>7.7500</td>\n",
       "      <td>F38</td>\n",
       "      <td>Q</td>\n",
       "    </tr>\n",
       "    <tr>\n",
       "      <th>778</th>\n",
       "      <td>779</td>\n",
       "      <td>0</td>\n",
       "      <td>3</td>\n",
       "      <td>Kilgannon, Mr. Thomas J</td>\n",
       "      <td>male</td>\n",
       "      <td>NaN</td>\n",
       "      <td>0</td>\n",
       "      <td>0</td>\n",
       "      <td>36865</td>\n",
       "      <td>7.7375</td>\n",
       "      <td>NaN</td>\n",
       "      <td>Q</td>\n",
       "    </tr>\n",
       "    <tr>\n",
       "      <th>783</th>\n",
       "      <td>784</td>\n",
       "      <td>0</td>\n",
       "      <td>3</td>\n",
       "      <td>Johnston, Mr. Andrew G</td>\n",
       "      <td>male</td>\n",
       "      <td>NaN</td>\n",
       "      <td>1</td>\n",
       "      <td>2</td>\n",
       "      <td>W./C. 6607</td>\n",
       "      <td>23.4500</td>\n",
       "      <td>NaN</td>\n",
       "      <td>S</td>\n",
       "    </tr>\n",
       "    <tr>\n",
       "      <th>790</th>\n",
       "      <td>791</td>\n",
       "      <td>0</td>\n",
       "      <td>3</td>\n",
       "      <td>Keane, Mr. Andrew \"Andy\"</td>\n",
       "      <td>male</td>\n",
       "      <td>NaN</td>\n",
       "      <td>0</td>\n",
       "      <td>0</td>\n",
       "      <td>12460</td>\n",
       "      <td>7.7500</td>\n",
       "      <td>NaN</td>\n",
       "      <td>Q</td>\n",
       "    </tr>\n",
       "    <tr>\n",
       "      <th>792</th>\n",
       "      <td>793</td>\n",
       "      <td>0</td>\n",
       "      <td>3</td>\n",
       "      <td>Sage, Miss. Stella Anna</td>\n",
       "      <td>female</td>\n",
       "      <td>NaN</td>\n",
       "      <td>8</td>\n",
       "      <td>2</td>\n",
       "      <td>CA. 2343</td>\n",
       "      <td>69.5500</td>\n",
       "      <td>NaN</td>\n",
       "      <td>S</td>\n",
       "    </tr>\n",
       "    <tr>\n",
       "      <th>793</th>\n",
       "      <td>794</td>\n",
       "      <td>0</td>\n",
       "      <td>1</td>\n",
       "      <td>Hoyt, Mr. William Fisher</td>\n",
       "      <td>male</td>\n",
       "      <td>NaN</td>\n",
       "      <td>0</td>\n",
       "      <td>0</td>\n",
       "      <td>PC 17600</td>\n",
       "      <td>30.6958</td>\n",
       "      <td>NaN</td>\n",
       "      <td>C</td>\n",
       "    </tr>\n",
       "    <tr>\n",
       "      <th>815</th>\n",
       "      <td>816</td>\n",
       "      <td>0</td>\n",
       "      <td>1</td>\n",
       "      <td>Fry, Mr. Richard</td>\n",
       "      <td>male</td>\n",
       "      <td>NaN</td>\n",
       "      <td>0</td>\n",
       "      <td>0</td>\n",
       "      <td>112058</td>\n",
       "      <td>0.0000</td>\n",
       "      <td>B102</td>\n",
       "      <td>S</td>\n",
       "    </tr>\n",
       "    <tr>\n",
       "      <th>825</th>\n",
       "      <td>826</td>\n",
       "      <td>0</td>\n",
       "      <td>3</td>\n",
       "      <td>Flynn, Mr. John</td>\n",
       "      <td>male</td>\n",
       "      <td>NaN</td>\n",
       "      <td>0</td>\n",
       "      <td>0</td>\n",
       "      <td>368323</td>\n",
       "      <td>6.9500</td>\n",
       "      <td>NaN</td>\n",
       "      <td>Q</td>\n",
       "    </tr>\n",
       "    <tr>\n",
       "      <th>826</th>\n",
       "      <td>827</td>\n",
       "      <td>0</td>\n",
       "      <td>3</td>\n",
       "      <td>Lam, Mr. Len</td>\n",
       "      <td>male</td>\n",
       "      <td>NaN</td>\n",
       "      <td>0</td>\n",
       "      <td>0</td>\n",
       "      <td>1601</td>\n",
       "      <td>56.4958</td>\n",
       "      <td>NaN</td>\n",
       "      <td>S</td>\n",
       "    </tr>\n",
       "    <tr>\n",
       "      <th>828</th>\n",
       "      <td>829</td>\n",
       "      <td>1</td>\n",
       "      <td>3</td>\n",
       "      <td>McCormack, Mr. Thomas Joseph</td>\n",
       "      <td>male</td>\n",
       "      <td>NaN</td>\n",
       "      <td>0</td>\n",
       "      <td>0</td>\n",
       "      <td>367228</td>\n",
       "      <td>7.7500</td>\n",
       "      <td>NaN</td>\n",
       "      <td>Q</td>\n",
       "    </tr>\n",
       "    <tr>\n",
       "      <th>832</th>\n",
       "      <td>833</td>\n",
       "      <td>0</td>\n",
       "      <td>3</td>\n",
       "      <td>Saad, Mr. Amin</td>\n",
       "      <td>male</td>\n",
       "      <td>NaN</td>\n",
       "      <td>0</td>\n",
       "      <td>0</td>\n",
       "      <td>2671</td>\n",
       "      <td>7.2292</td>\n",
       "      <td>NaN</td>\n",
       "      <td>C</td>\n",
       "    </tr>\n",
       "    <tr>\n",
       "      <th>837</th>\n",
       "      <td>838</td>\n",
       "      <td>0</td>\n",
       "      <td>3</td>\n",
       "      <td>Sirota, Mr. Maurice</td>\n",
       "      <td>male</td>\n",
       "      <td>NaN</td>\n",
       "      <td>0</td>\n",
       "      <td>0</td>\n",
       "      <td>392092</td>\n",
       "      <td>8.0500</td>\n",
       "      <td>NaN</td>\n",
       "      <td>S</td>\n",
       "    </tr>\n",
       "    <tr>\n",
       "      <th>839</th>\n",
       "      <td>840</td>\n",
       "      <td>1</td>\n",
       "      <td>1</td>\n",
       "      <td>Marechal, Mr. Pierre</td>\n",
       "      <td>male</td>\n",
       "      <td>NaN</td>\n",
       "      <td>0</td>\n",
       "      <td>0</td>\n",
       "      <td>11774</td>\n",
       "      <td>29.7000</td>\n",
       "      <td>C47</td>\n",
       "      <td>C</td>\n",
       "    </tr>\n",
       "    <tr>\n",
       "      <th>846</th>\n",
       "      <td>847</td>\n",
       "      <td>0</td>\n",
       "      <td>3</td>\n",
       "      <td>Sage, Mr. Douglas Bullen</td>\n",
       "      <td>male</td>\n",
       "      <td>NaN</td>\n",
       "      <td>8</td>\n",
       "      <td>2</td>\n",
       "      <td>CA. 2343</td>\n",
       "      <td>69.5500</td>\n",
       "      <td>NaN</td>\n",
       "      <td>S</td>\n",
       "    </tr>\n",
       "    <tr>\n",
       "      <th>849</th>\n",
       "      <td>850</td>\n",
       "      <td>1</td>\n",
       "      <td>1</td>\n",
       "      <td>Goldenberg, Mrs. Samuel L (Edwiga Grabowska)</td>\n",
       "      <td>female</td>\n",
       "      <td>NaN</td>\n",
       "      <td>1</td>\n",
       "      <td>0</td>\n",
       "      <td>17453</td>\n",
       "      <td>89.1042</td>\n",
       "      <td>C92</td>\n",
       "      <td>C</td>\n",
       "    </tr>\n",
       "    <tr>\n",
       "      <th>859</th>\n",
       "      <td>860</td>\n",
       "      <td>0</td>\n",
       "      <td>3</td>\n",
       "      <td>Razi, Mr. Raihed</td>\n",
       "      <td>male</td>\n",
       "      <td>NaN</td>\n",
       "      <td>0</td>\n",
       "      <td>0</td>\n",
       "      <td>2629</td>\n",
       "      <td>7.2292</td>\n",
       "      <td>NaN</td>\n",
       "      <td>C</td>\n",
       "    </tr>\n",
       "    <tr>\n",
       "      <th>863</th>\n",
       "      <td>864</td>\n",
       "      <td>0</td>\n",
       "      <td>3</td>\n",
       "      <td>Sage, Miss. Dorothy Edith \"Dolly\"</td>\n",
       "      <td>female</td>\n",
       "      <td>NaN</td>\n",
       "      <td>8</td>\n",
       "      <td>2</td>\n",
       "      <td>CA. 2343</td>\n",
       "      <td>69.5500</td>\n",
       "      <td>NaN</td>\n",
       "      <td>S</td>\n",
       "    </tr>\n",
       "    <tr>\n",
       "      <th>868</th>\n",
       "      <td>869</td>\n",
       "      <td>0</td>\n",
       "      <td>3</td>\n",
       "      <td>van Melkebeke, Mr. Philemon</td>\n",
       "      <td>male</td>\n",
       "      <td>NaN</td>\n",
       "      <td>0</td>\n",
       "      <td>0</td>\n",
       "      <td>345777</td>\n",
       "      <td>9.5000</td>\n",
       "      <td>NaN</td>\n",
       "      <td>S</td>\n",
       "    </tr>\n",
       "    <tr>\n",
       "      <th>878</th>\n",
       "      <td>879</td>\n",
       "      <td>0</td>\n",
       "      <td>3</td>\n",
       "      <td>Laleff, Mr. Kristo</td>\n",
       "      <td>male</td>\n",
       "      <td>NaN</td>\n",
       "      <td>0</td>\n",
       "      <td>0</td>\n",
       "      <td>349217</td>\n",
       "      <td>7.8958</td>\n",
       "      <td>NaN</td>\n",
       "      <td>S</td>\n",
       "    </tr>\n",
       "    <tr>\n",
       "      <th>888</th>\n",
       "      <td>889</td>\n",
       "      <td>0</td>\n",
       "      <td>3</td>\n",
       "      <td>Johnston, Miss. Catherine Helen \"Carrie\"</td>\n",
       "      <td>female</td>\n",
       "      <td>NaN</td>\n",
       "      <td>1</td>\n",
       "      <td>2</td>\n",
       "      <td>W./C. 6607</td>\n",
       "      <td>23.4500</td>\n",
       "      <td>NaN</td>\n",
       "      <td>S</td>\n",
       "    </tr>\n",
       "  </tbody>\n",
       "</table>\n",
       "<p>177 rows × 12 columns</p>\n",
       "</div>"
      ],
      "text/plain": [
       "     PassengerId  Survived  Pclass  \\\n",
       "5              6         0       3   \n",
       "17            18         1       2   \n",
       "19            20         1       3   \n",
       "26            27         0       3   \n",
       "28            29         1       3   \n",
       "29            30         0       3   \n",
       "31            32         1       1   \n",
       "32            33         1       3   \n",
       "36            37         1       3   \n",
       "42            43         0       3   \n",
       "45            46         0       3   \n",
       "46            47         0       3   \n",
       "47            48         1       3   \n",
       "48            49         0       3   \n",
       "55            56         1       1   \n",
       "64            65         0       1   \n",
       "65            66         1       3   \n",
       "76            77         0       3   \n",
       "77            78         0       3   \n",
       "82            83         1       3   \n",
       "87            88         0       3   \n",
       "95            96         0       3   \n",
       "101          102         0       3   \n",
       "107          108         1       3   \n",
       "109          110         1       3   \n",
       "121          122         0       3   \n",
       "126          127         0       3   \n",
       "128          129         1       3   \n",
       "140          141         0       3   \n",
       "154          155         0       3   \n",
       "..           ...       ...     ...   \n",
       "718          719         0       3   \n",
       "727          728         1       3   \n",
       "732          733         0       2   \n",
       "738          739         0       3   \n",
       "739          740         0       3   \n",
       "740          741         1       1   \n",
       "760          761         0       3   \n",
       "766          767         0       1   \n",
       "768          769         0       3   \n",
       "773          774         0       3   \n",
       "776          777         0       3   \n",
       "778          779         0       3   \n",
       "783          784         0       3   \n",
       "790          791         0       3   \n",
       "792          793         0       3   \n",
       "793          794         0       1   \n",
       "815          816         0       1   \n",
       "825          826         0       3   \n",
       "826          827         0       3   \n",
       "828          829         1       3   \n",
       "832          833         0       3   \n",
       "837          838         0       3   \n",
       "839          840         1       1   \n",
       "846          847         0       3   \n",
       "849          850         1       1   \n",
       "859          860         0       3   \n",
       "863          864         0       3   \n",
       "868          869         0       3   \n",
       "878          879         0       3   \n",
       "888          889         0       3   \n",
       "\n",
       "                                               Name     Sex  Age  SibSp  \\\n",
       "5                                  Moran, Mr. James    male  NaN      0   \n",
       "17                     Williams, Mr. Charles Eugene    male  NaN      0   \n",
       "19                          Masselmani, Mrs. Fatima  female  NaN      0   \n",
       "26                          Emir, Mr. Farred Chehab    male  NaN      0   \n",
       "28                    O'Dwyer, Miss. Ellen \"Nellie\"  female  NaN      0   \n",
       "29                              Todoroff, Mr. Lalio    male  NaN      0   \n",
       "31   Spencer, Mrs. William Augustus (Marie Eugenie)  female  NaN      1   \n",
       "32                         Glynn, Miss. Mary Agatha  female  NaN      0   \n",
       "36                                 Mamee, Mr. Hanna    male  NaN      0   \n",
       "42                              Kraeff, Mr. Theodor    male  NaN      0   \n",
       "45                         Rogers, Mr. William John    male  NaN      0   \n",
       "46                                Lennon, Mr. Denis    male  NaN      1   \n",
       "47                        O'Driscoll, Miss. Bridget  female  NaN      0   \n",
       "48                              Samaan, Mr. Youssef    male  NaN      2   \n",
       "55                                Woolner, Mr. Hugh    male  NaN      0   \n",
       "64                            Stewart, Mr. Albert A    male  NaN      0   \n",
       "65                         Moubarek, Master. Gerios    male  NaN      1   \n",
       "76                                Staneff, Mr. Ivan    male  NaN      0   \n",
       "77                         Moutal, Mr. Rahamin Haim    male  NaN      0   \n",
       "82                   McDermott, Miss. Brigdet Delia  female  NaN      0   \n",
       "87                    Slocovski, Mr. Selman Francis    male  NaN      0   \n",
       "95                      Shorney, Mr. Charles Joseph    male  NaN      0   \n",
       "101                Petroff, Mr. Pastcho (\"Pentcho\")    male  NaN      0   \n",
       "107                          Moss, Mr. Albert Johan    male  NaN      0   \n",
       "109                             Moran, Miss. Bertha  female  NaN      1   \n",
       "121                      Moore, Mr. Leonard Charles    male  NaN      0   \n",
       "126                             McMahon, Mr. Martin    male  NaN      0   \n",
       "128                               Peter, Miss. Anna  female  NaN      1   \n",
       "140                   Boulos, Mrs. Joseph (Sultana)  female  NaN      0   \n",
       "154                           Olsen, Mr. Ole Martin    male  NaN      0   \n",
       "..                                              ...     ...  ...    ...   \n",
       "718                             McEvoy, Mr. Michael    male  NaN      0   \n",
       "727                        Mannion, Miss. Margareth  female  NaN      0   \n",
       "732                            Knight, Mr. Robert J    male  NaN      0   \n",
       "738                              Ivanoff, Mr. Kanio    male  NaN      0   \n",
       "739                              Nankoff, Mr. Minko    male  NaN      0   \n",
       "740                     Hawksford, Mr. Walter James    male  NaN      0   \n",
       "760                              Garfirth, Mr. John    male  NaN      0   \n",
       "766                       Brewe, Dr. Arthur Jackson    male  NaN      0   \n",
       "768                             Moran, Mr. Daniel J    male  NaN      1   \n",
       "773                                 Elias, Mr. Dibo    male  NaN      0   \n",
       "776                                Tobin, Mr. Roger    male  NaN      0   \n",
       "778                         Kilgannon, Mr. Thomas J    male  NaN      0   \n",
       "783                          Johnston, Mr. Andrew G    male  NaN      1   \n",
       "790                        Keane, Mr. Andrew \"Andy\"    male  NaN      0   \n",
       "792                         Sage, Miss. Stella Anna  female  NaN      8   \n",
       "793                        Hoyt, Mr. William Fisher    male  NaN      0   \n",
       "815                                Fry, Mr. Richard    male  NaN      0   \n",
       "825                                 Flynn, Mr. John    male  NaN      0   \n",
       "826                                    Lam, Mr. Len    male  NaN      0   \n",
       "828                    McCormack, Mr. Thomas Joseph    male  NaN      0   \n",
       "832                                  Saad, Mr. Amin    male  NaN      0   \n",
       "837                             Sirota, Mr. Maurice    male  NaN      0   \n",
       "839                            Marechal, Mr. Pierre    male  NaN      0   \n",
       "846                        Sage, Mr. Douglas Bullen    male  NaN      8   \n",
       "849    Goldenberg, Mrs. Samuel L (Edwiga Grabowska)  female  NaN      1   \n",
       "859                                Razi, Mr. Raihed    male  NaN      0   \n",
       "863               Sage, Miss. Dorothy Edith \"Dolly\"  female  NaN      8   \n",
       "868                     van Melkebeke, Mr. Philemon    male  NaN      0   \n",
       "878                              Laleff, Mr. Kristo    male  NaN      0   \n",
       "888        Johnston, Miss. Catherine Helen \"Carrie\"  female  NaN      1   \n",
       "\n",
       "     Parch           Ticket      Fare  Cabin Embarked  \n",
       "5        0           330877    8.4583    NaN        Q  \n",
       "17       0           244373   13.0000    NaN        S  \n",
       "19       0             2649    7.2250    NaN        C  \n",
       "26       0             2631    7.2250    NaN        C  \n",
       "28       0           330959    7.8792    NaN        Q  \n",
       "29       0           349216    7.8958    NaN        S  \n",
       "31       0         PC 17569  146.5208    B78        C  \n",
       "32       0           335677    7.7500    NaN        Q  \n",
       "36       0             2677    7.2292    NaN        C  \n",
       "42       0           349253    7.8958    NaN        C  \n",
       "45       0  S.C./A.4. 23567    8.0500    NaN        S  \n",
       "46       0           370371   15.5000    NaN        Q  \n",
       "47       0            14311    7.7500    NaN        Q  \n",
       "48       0             2662   21.6792    NaN        C  \n",
       "55       0            19947   35.5000    C52        S  \n",
       "64       0         PC 17605   27.7208    NaN        C  \n",
       "65       1             2661   15.2458    NaN        C  \n",
       "76       0           349208    7.8958    NaN        S  \n",
       "77       0           374746    8.0500    NaN        S  \n",
       "82       0           330932    7.7875    NaN        Q  \n",
       "87       0  SOTON/OQ 392086    8.0500    NaN        S  \n",
       "95       0           374910    8.0500    NaN        S  \n",
       "101      0           349215    7.8958    NaN        S  \n",
       "107      0           312991    7.7750    NaN        S  \n",
       "109      0           371110   24.1500    NaN        Q  \n",
       "121      0        A4. 54510    8.0500    NaN        S  \n",
       "126      0           370372    7.7500    NaN        Q  \n",
       "128      1             2668   22.3583  F E69        C  \n",
       "140      2             2678   15.2458    NaN        C  \n",
       "154      0        Fa 265302    7.3125    NaN        S  \n",
       "..     ...              ...       ...    ...      ...  \n",
       "718      0            36568   15.5000    NaN        Q  \n",
       "727      0            36866    7.7375    NaN        Q  \n",
       "732      0           239855    0.0000    NaN        S  \n",
       "738      0           349201    7.8958    NaN        S  \n",
       "739      0           349218    7.8958    NaN        S  \n",
       "740      0            16988   30.0000    D45        S  \n",
       "760      0           358585   14.5000    NaN        S  \n",
       "766      0           112379   39.6000    NaN        C  \n",
       "768      0           371110   24.1500    NaN        Q  \n",
       "773      0             2674    7.2250    NaN        C  \n",
       "776      0           383121    7.7500    F38        Q  \n",
       "778      0            36865    7.7375    NaN        Q  \n",
       "783      2       W./C. 6607   23.4500    NaN        S  \n",
       "790      0            12460    7.7500    NaN        Q  \n",
       "792      2         CA. 2343   69.5500    NaN        S  \n",
       "793      0         PC 17600   30.6958    NaN        C  \n",
       "815      0           112058    0.0000   B102        S  \n",
       "825      0           368323    6.9500    NaN        Q  \n",
       "826      0             1601   56.4958    NaN        S  \n",
       "828      0           367228    7.7500    NaN        Q  \n",
       "832      0             2671    7.2292    NaN        C  \n",
       "837      0           392092    8.0500    NaN        S  \n",
       "839      0            11774   29.7000    C47        C  \n",
       "846      2         CA. 2343   69.5500    NaN        S  \n",
       "849      0            17453   89.1042    C92        C  \n",
       "859      0             2629    7.2292    NaN        C  \n",
       "863      2         CA. 2343   69.5500    NaN        S  \n",
       "868      0           345777    9.5000    NaN        S  \n",
       "878      0           349217    7.8958    NaN        S  \n",
       "888      2       W./C. 6607   23.4500    NaN        S  \n",
       "\n",
       "[177 rows x 12 columns]"
      ]
     },
     "execution_count": 788,
     "metadata": {},
     "output_type": "execute_result"
    }
   ],
   "source": [
    "# Check missing values\n",
    "df[df.Age.isnull()]"
   ]
  },
  {
   "cell_type": "markdown",
   "metadata": {},
   "source": [
    "177 missing Age values, that's definitely going to need to be addressed. I will investigate this further as these values will need to be corrected.  \n",
    "(<small>_See section 3 on \"Handling Missing Values\"_</small>)"
   ]
  },
  {
   "cell_type": "markdown",
   "metadata": {},
   "source": [
    "**Summary Age**"
   ]
  },
  {
   "cell_type": "markdown",
   "metadata": {},
   "source": [
    "Age is a continuous variable, and **_is_** quite variable indeed with std dev of about 14.53! The average age of all passengers on board was ~30 years old. The ages range from 0.42 (infant) to 80 years old. Surprisingly, at least after just a quick glance visually, it doesn't seem like age is going to have a major impact on the outcome of survival in most cases. However, for the case of children this is a different story. Age will be a very important influencing factor on survival when we analyze children age 10 or under as seen on the histogram comparison. In the future there will be many more tests to apply to age, as there may very well be more influence on survival than it appears. "
   ]
  },
  {
   "cell_type": "markdown",
   "metadata": {},
   "source": [
    "#### 2.2.2 SibSp"
   ]
  },
  {
   "cell_type": "markdown",
   "metadata": {},
   "source": [
    "In order to do EDA here, I have to first understand what 'SibSp' is. From the Kaggle doc:\n",
    "> **SibSp**           Number of Siblings/Spouses Aboard  \n",
    "\n",
    "> **Sibling:**  Brother, Sister, Stepbrother, or Stepsister of Passenger Aboard Titanic  \n",
    "\n",
    "> **Spouse:**   Husband or Wife of Passenger Aboard Titanic (Mistresses and Fiances Ignored)\n",
    "\n",
    "> **Special Notes**  \n",
    ">* With respect to the family relation variables (i.e. sibsp and parch)\n",
    "some relations were ignored.\n",
    "* Other family relatives excluded from this study include cousins,\n",
    "nephews/nieces, aunts/uncles, and in-laws."
   ]
  },
  {
   "cell_type": "markdown",
   "metadata": {},
   "source": [
    "Ok a 'SibSp' value will represent the number of siblings and spouses (combined, if any) that are aboard the ship which are related to the passenger. However, these relationships are strictly defined above. Also I'm pretty concerned particularly with this statement above:  \n",
    "\n",
    "<b>\"With respect to the family relation variables (i.e. sibsp and parch) some relations were ignored.</b>\n",
    "\n",
    "I feel like that is not going to be a good thing here, and probably means if \"some relations\" were ignored that there is going to be a lot of **bias** amongst this variable."
   ]
  },
  {
   "cell_type": "code",
   "execution_count": 789,
   "metadata": {
    "collapsed": false
   },
   "outputs": [
    {
     "data": {
      "text/plain": [
       "count    891.000000\n",
       "mean       0.523008\n",
       "std        1.102743\n",
       "min        0.000000\n",
       "25%        0.000000\n",
       "50%        0.000000\n",
       "75%        1.000000\n",
       "max        8.000000\n",
       "Name: SibSp, dtype: float64"
      ]
     },
     "execution_count": 789,
     "metadata": {},
     "output_type": "execute_result"
    }
   ],
   "source": [
    "#stats\n",
    "df.SibSp.describe()"
   ]
  },
  {
   "cell_type": "markdown",
   "metadata": {},
   "source": [
    "Ok, that looks weird. This variable is going to take some investigating. "
   ]
  },
  {
   "cell_type": "code",
   "execution_count": 790,
   "metadata": {
    "collapsed": false
   },
   "outputs": [
    {
     "data": {
      "text/html": [
       "<div>\n",
       "<table border=\"1\" class=\"dataframe\">\n",
       "  <thead>\n",
       "    <tr style=\"text-align: right;\">\n",
       "      <th></th>\n",
       "      <th>PassengerId</th>\n",
       "      <th>Survived</th>\n",
       "      <th>Pclass</th>\n",
       "      <th>Name</th>\n",
       "      <th>Sex</th>\n",
       "      <th>Age</th>\n",
       "      <th>SibSp</th>\n",
       "      <th>Parch</th>\n",
       "      <th>Ticket</th>\n",
       "      <th>Fare</th>\n",
       "      <th>Cabin</th>\n",
       "      <th>Embarked</th>\n",
       "    </tr>\n",
       "  </thead>\n",
       "  <tbody>\n",
       "  </tbody>\n",
       "</table>\n",
       "</div>"
      ],
      "text/plain": [
       "Empty DataFrame\n",
       "Columns: [PassengerId, Survived, Pclass, Name, Sex, Age, SibSp, Parch, Ticket, Fare, Cabin, Embarked]\n",
       "Index: []"
      ]
     },
     "execution_count": 790,
     "metadata": {},
     "output_type": "execute_result"
    }
   ],
   "source": [
    "df[df.SibSp.isnull()]"
   ]
  },
  {
   "cell_type": "code",
   "execution_count": 791,
   "metadata": {
    "collapsed": false
   },
   "outputs": [
    {
     "data": {
      "text/html": [
       "<div>\n",
       "<table border=\"1\" class=\"dataframe\">\n",
       "  <thead>\n",
       "    <tr style=\"text-align: right;\">\n",
       "      <th></th>\n",
       "      <th>PassengerId</th>\n",
       "      <th>Survived</th>\n",
       "      <th>Pclass</th>\n",
       "      <th>Name</th>\n",
       "      <th>Sex</th>\n",
       "      <th>Age</th>\n",
       "      <th>SibSp</th>\n",
       "      <th>Parch</th>\n",
       "      <th>Ticket</th>\n",
       "      <th>Fare</th>\n",
       "      <th>Cabin</th>\n",
       "      <th>Embarked</th>\n",
       "    </tr>\n",
       "  </thead>\n",
       "  <tbody>\n",
       "    <tr>\n",
       "      <th>0</th>\n",
       "      <td>1</td>\n",
       "      <td>0</td>\n",
       "      <td>3</td>\n",
       "      <td>Braund, Mr. Owen Harris</td>\n",
       "      <td>male</td>\n",
       "      <td>22.0</td>\n",
       "      <td>1</td>\n",
       "      <td>0</td>\n",
       "      <td>A/5 21171</td>\n",
       "      <td>7.2500</td>\n",
       "      <td>NaN</td>\n",
       "      <td>S</td>\n",
       "    </tr>\n",
       "    <tr>\n",
       "      <th>1</th>\n",
       "      <td>2</td>\n",
       "      <td>1</td>\n",
       "      <td>1</td>\n",
       "      <td>Cumings, Mrs. John Bradley (Florence Briggs Th...</td>\n",
       "      <td>female</td>\n",
       "      <td>38.0</td>\n",
       "      <td>1</td>\n",
       "      <td>0</td>\n",
       "      <td>PC 17599</td>\n",
       "      <td>71.2833</td>\n",
       "      <td>C85</td>\n",
       "      <td>C</td>\n",
       "    </tr>\n",
       "    <tr>\n",
       "      <th>2</th>\n",
       "      <td>3</td>\n",
       "      <td>1</td>\n",
       "      <td>3</td>\n",
       "      <td>Heikkinen, Miss. Laina</td>\n",
       "      <td>female</td>\n",
       "      <td>26.0</td>\n",
       "      <td>0</td>\n",
       "      <td>0</td>\n",
       "      <td>STON/O2. 3101282</td>\n",
       "      <td>7.9250</td>\n",
       "      <td>NaN</td>\n",
       "      <td>S</td>\n",
       "    </tr>\n",
       "    <tr>\n",
       "      <th>3</th>\n",
       "      <td>4</td>\n",
       "      <td>1</td>\n",
       "      <td>1</td>\n",
       "      <td>Futrelle, Mrs. Jacques Heath (Lily May Peel)</td>\n",
       "      <td>female</td>\n",
       "      <td>35.0</td>\n",
       "      <td>1</td>\n",
       "      <td>0</td>\n",
       "      <td>113803</td>\n",
       "      <td>53.1000</td>\n",
       "      <td>C123</td>\n",
       "      <td>S</td>\n",
       "    </tr>\n",
       "    <tr>\n",
       "      <th>4</th>\n",
       "      <td>5</td>\n",
       "      <td>0</td>\n",
       "      <td>3</td>\n",
       "      <td>Allen, Mr. William Henry</td>\n",
       "      <td>male</td>\n",
       "      <td>35.0</td>\n",
       "      <td>0</td>\n",
       "      <td>0</td>\n",
       "      <td>373450</td>\n",
       "      <td>8.0500</td>\n",
       "      <td>NaN</td>\n",
       "      <td>S</td>\n",
       "    </tr>\n",
       "    <tr>\n",
       "      <th>5</th>\n",
       "      <td>6</td>\n",
       "      <td>0</td>\n",
       "      <td>3</td>\n",
       "      <td>Moran, Mr. James</td>\n",
       "      <td>male</td>\n",
       "      <td>NaN</td>\n",
       "      <td>0</td>\n",
       "      <td>0</td>\n",
       "      <td>330877</td>\n",
       "      <td>8.4583</td>\n",
       "      <td>NaN</td>\n",
       "      <td>Q</td>\n",
       "    </tr>\n",
       "    <tr>\n",
       "      <th>6</th>\n",
       "      <td>7</td>\n",
       "      <td>0</td>\n",
       "      <td>1</td>\n",
       "      <td>McCarthy, Mr. Timothy J</td>\n",
       "      <td>male</td>\n",
       "      <td>54.0</td>\n",
       "      <td>0</td>\n",
       "      <td>0</td>\n",
       "      <td>17463</td>\n",
       "      <td>51.8625</td>\n",
       "      <td>E46</td>\n",
       "      <td>S</td>\n",
       "    </tr>\n",
       "    <tr>\n",
       "      <th>7</th>\n",
       "      <td>8</td>\n",
       "      <td>0</td>\n",
       "      <td>3</td>\n",
       "      <td>Palsson, Master. Gosta Leonard</td>\n",
       "      <td>male</td>\n",
       "      <td>2.0</td>\n",
       "      <td>3</td>\n",
       "      <td>1</td>\n",
       "      <td>349909</td>\n",
       "      <td>21.0750</td>\n",
       "      <td>NaN</td>\n",
       "      <td>S</td>\n",
       "    </tr>\n",
       "    <tr>\n",
       "      <th>8</th>\n",
       "      <td>9</td>\n",
       "      <td>1</td>\n",
       "      <td>3</td>\n",
       "      <td>Johnson, Mrs. Oscar W (Elisabeth Vilhelmina Berg)</td>\n",
       "      <td>female</td>\n",
       "      <td>27.0</td>\n",
       "      <td>0</td>\n",
       "      <td>2</td>\n",
       "      <td>347742</td>\n",
       "      <td>11.1333</td>\n",
       "      <td>NaN</td>\n",
       "      <td>S</td>\n",
       "    </tr>\n",
       "    <tr>\n",
       "      <th>9</th>\n",
       "      <td>10</td>\n",
       "      <td>1</td>\n",
       "      <td>2</td>\n",
       "      <td>Nasser, Mrs. Nicholas (Adele Achem)</td>\n",
       "      <td>female</td>\n",
       "      <td>14.0</td>\n",
       "      <td>1</td>\n",
       "      <td>0</td>\n",
       "      <td>237736</td>\n",
       "      <td>30.0708</td>\n",
       "      <td>NaN</td>\n",
       "      <td>C</td>\n",
       "    </tr>\n",
       "  </tbody>\n",
       "</table>\n",
       "</div>"
      ],
      "text/plain": [
       "   PassengerId  Survived  Pclass  \\\n",
       "0            1         0       3   \n",
       "1            2         1       1   \n",
       "2            3         1       3   \n",
       "3            4         1       1   \n",
       "4            5         0       3   \n",
       "5            6         0       3   \n",
       "6            7         0       1   \n",
       "7            8         0       3   \n",
       "8            9         1       3   \n",
       "9           10         1       2   \n",
       "\n",
       "                                                Name     Sex   Age  SibSp  \\\n",
       "0                            Braund, Mr. Owen Harris    male  22.0      1   \n",
       "1  Cumings, Mrs. John Bradley (Florence Briggs Th...  female  38.0      1   \n",
       "2                             Heikkinen, Miss. Laina  female  26.0      0   \n",
       "3       Futrelle, Mrs. Jacques Heath (Lily May Peel)  female  35.0      1   \n",
       "4                           Allen, Mr. William Henry    male  35.0      0   \n",
       "5                                   Moran, Mr. James    male   NaN      0   \n",
       "6                            McCarthy, Mr. Timothy J    male  54.0      0   \n",
       "7                     Palsson, Master. Gosta Leonard    male   2.0      3   \n",
       "8  Johnson, Mrs. Oscar W (Elisabeth Vilhelmina Berg)  female  27.0      0   \n",
       "9                Nasser, Mrs. Nicholas (Adele Achem)  female  14.0      1   \n",
       "\n",
       "   Parch            Ticket     Fare Cabin Embarked  \n",
       "0      0         A/5 21171   7.2500   NaN        S  \n",
       "1      0          PC 17599  71.2833   C85        C  \n",
       "2      0  STON/O2. 3101282   7.9250   NaN        S  \n",
       "3      0            113803  53.1000  C123        S  \n",
       "4      0            373450   8.0500   NaN        S  \n",
       "5      0            330877   8.4583   NaN        Q  \n",
       "6      0             17463  51.8625   E46        S  \n",
       "7      1            349909  21.0750   NaN        S  \n",
       "8      2            347742  11.1333   NaN        S  \n",
       "9      0            237736  30.0708   NaN        C  "
      ]
     },
     "execution_count": 791,
     "metadata": {},
     "output_type": "execute_result"
    }
   ],
   "source": [
    "#Show first 10\n",
    "df.head(10)"
   ]
  },
  {
   "cell_type": "code",
   "execution_count": 792,
   "metadata": {
    "collapsed": false
   },
   "outputs": [
    {
     "data": {
      "text/html": [
       "<div>\n",
       "<table border=\"1\" class=\"dataframe\">\n",
       "  <thead>\n",
       "    <tr style=\"text-align: right;\">\n",
       "      <th></th>\n",
       "      <th>PassengerId</th>\n",
       "      <th>Survived</th>\n",
       "      <th>Pclass</th>\n",
       "      <th>Name</th>\n",
       "      <th>Sex</th>\n",
       "      <th>Age</th>\n",
       "      <th>SibSp</th>\n",
       "      <th>Parch</th>\n",
       "      <th>Ticket</th>\n",
       "      <th>Fare</th>\n",
       "      <th>Cabin</th>\n",
       "      <th>Embarked</th>\n",
       "    </tr>\n",
       "  </thead>\n",
       "  <tbody>\n",
       "    <tr>\n",
       "      <th>881</th>\n",
       "      <td>882</td>\n",
       "      <td>0</td>\n",
       "      <td>3</td>\n",
       "      <td>Markun, Mr. Johann</td>\n",
       "      <td>male</td>\n",
       "      <td>33.0</td>\n",
       "      <td>0</td>\n",
       "      <td>0</td>\n",
       "      <td>349257</td>\n",
       "      <td>7.8958</td>\n",
       "      <td>NaN</td>\n",
       "      <td>S</td>\n",
       "    </tr>\n",
       "    <tr>\n",
       "      <th>882</th>\n",
       "      <td>883</td>\n",
       "      <td>0</td>\n",
       "      <td>3</td>\n",
       "      <td>Dahlberg, Miss. Gerda Ulrika</td>\n",
       "      <td>female</td>\n",
       "      <td>22.0</td>\n",
       "      <td>0</td>\n",
       "      <td>0</td>\n",
       "      <td>7552</td>\n",
       "      <td>10.5167</td>\n",
       "      <td>NaN</td>\n",
       "      <td>S</td>\n",
       "    </tr>\n",
       "    <tr>\n",
       "      <th>883</th>\n",
       "      <td>884</td>\n",
       "      <td>0</td>\n",
       "      <td>2</td>\n",
       "      <td>Banfield, Mr. Frederick James</td>\n",
       "      <td>male</td>\n",
       "      <td>28.0</td>\n",
       "      <td>0</td>\n",
       "      <td>0</td>\n",
       "      <td>C.A./SOTON 34068</td>\n",
       "      <td>10.5000</td>\n",
       "      <td>NaN</td>\n",
       "      <td>S</td>\n",
       "    </tr>\n",
       "    <tr>\n",
       "      <th>884</th>\n",
       "      <td>885</td>\n",
       "      <td>0</td>\n",
       "      <td>3</td>\n",
       "      <td>Sutehall, Mr. Henry Jr</td>\n",
       "      <td>male</td>\n",
       "      <td>25.0</td>\n",
       "      <td>0</td>\n",
       "      <td>0</td>\n",
       "      <td>SOTON/OQ 392076</td>\n",
       "      <td>7.0500</td>\n",
       "      <td>NaN</td>\n",
       "      <td>S</td>\n",
       "    </tr>\n",
       "    <tr>\n",
       "      <th>885</th>\n",
       "      <td>886</td>\n",
       "      <td>0</td>\n",
       "      <td>3</td>\n",
       "      <td>Rice, Mrs. William (Margaret Norton)</td>\n",
       "      <td>female</td>\n",
       "      <td>39.0</td>\n",
       "      <td>0</td>\n",
       "      <td>5</td>\n",
       "      <td>382652</td>\n",
       "      <td>29.1250</td>\n",
       "      <td>NaN</td>\n",
       "      <td>Q</td>\n",
       "    </tr>\n",
       "    <tr>\n",
       "      <th>886</th>\n",
       "      <td>887</td>\n",
       "      <td>0</td>\n",
       "      <td>2</td>\n",
       "      <td>Montvila, Rev. Juozas</td>\n",
       "      <td>male</td>\n",
       "      <td>27.0</td>\n",
       "      <td>0</td>\n",
       "      <td>0</td>\n",
       "      <td>211536</td>\n",
       "      <td>13.0000</td>\n",
       "      <td>NaN</td>\n",
       "      <td>S</td>\n",
       "    </tr>\n",
       "    <tr>\n",
       "      <th>887</th>\n",
       "      <td>888</td>\n",
       "      <td>1</td>\n",
       "      <td>1</td>\n",
       "      <td>Graham, Miss. Margaret Edith</td>\n",
       "      <td>female</td>\n",
       "      <td>19.0</td>\n",
       "      <td>0</td>\n",
       "      <td>0</td>\n",
       "      <td>112053</td>\n",
       "      <td>30.0000</td>\n",
       "      <td>B42</td>\n",
       "      <td>S</td>\n",
       "    </tr>\n",
       "    <tr>\n",
       "      <th>888</th>\n",
       "      <td>889</td>\n",
       "      <td>0</td>\n",
       "      <td>3</td>\n",
       "      <td>Johnston, Miss. Catherine Helen \"Carrie\"</td>\n",
       "      <td>female</td>\n",
       "      <td>NaN</td>\n",
       "      <td>1</td>\n",
       "      <td>2</td>\n",
       "      <td>W./C. 6607</td>\n",
       "      <td>23.4500</td>\n",
       "      <td>NaN</td>\n",
       "      <td>S</td>\n",
       "    </tr>\n",
       "    <tr>\n",
       "      <th>889</th>\n",
       "      <td>890</td>\n",
       "      <td>1</td>\n",
       "      <td>1</td>\n",
       "      <td>Behr, Mr. Karl Howell</td>\n",
       "      <td>male</td>\n",
       "      <td>26.0</td>\n",
       "      <td>0</td>\n",
       "      <td>0</td>\n",
       "      <td>111369</td>\n",
       "      <td>30.0000</td>\n",
       "      <td>C148</td>\n",
       "      <td>C</td>\n",
       "    </tr>\n",
       "    <tr>\n",
       "      <th>890</th>\n",
       "      <td>891</td>\n",
       "      <td>0</td>\n",
       "      <td>3</td>\n",
       "      <td>Dooley, Mr. Patrick</td>\n",
       "      <td>male</td>\n",
       "      <td>32.0</td>\n",
       "      <td>0</td>\n",
       "      <td>0</td>\n",
       "      <td>370376</td>\n",
       "      <td>7.7500</td>\n",
       "      <td>NaN</td>\n",
       "      <td>Q</td>\n",
       "    </tr>\n",
       "  </tbody>\n",
       "</table>\n",
       "</div>"
      ],
      "text/plain": [
       "     PassengerId  Survived  Pclass                                      Name  \\\n",
       "881          882         0       3                        Markun, Mr. Johann   \n",
       "882          883         0       3              Dahlberg, Miss. Gerda Ulrika   \n",
       "883          884         0       2             Banfield, Mr. Frederick James   \n",
       "884          885         0       3                    Sutehall, Mr. Henry Jr   \n",
       "885          886         0       3      Rice, Mrs. William (Margaret Norton)   \n",
       "886          887         0       2                     Montvila, Rev. Juozas   \n",
       "887          888         1       1              Graham, Miss. Margaret Edith   \n",
       "888          889         0       3  Johnston, Miss. Catherine Helen \"Carrie\"   \n",
       "889          890         1       1                     Behr, Mr. Karl Howell   \n",
       "890          891         0       3                       Dooley, Mr. Patrick   \n",
       "\n",
       "        Sex   Age  SibSp  Parch            Ticket     Fare Cabin Embarked  \n",
       "881    male  33.0      0      0            349257   7.8958   NaN        S  \n",
       "882  female  22.0      0      0              7552  10.5167   NaN        S  \n",
       "883    male  28.0      0      0  C.A./SOTON 34068  10.5000   NaN        S  \n",
       "884    male  25.0      0      0   SOTON/OQ 392076   7.0500   NaN        S  \n",
       "885  female  39.0      0      5            382652  29.1250   NaN        Q  \n",
       "886    male  27.0      0      0            211536  13.0000   NaN        S  \n",
       "887  female  19.0      0      0            112053  30.0000   B42        S  \n",
       "888  female   NaN      1      2        W./C. 6607  23.4500   NaN        S  \n",
       "889    male  26.0      0      0            111369  30.0000  C148        C  \n",
       "890    male  32.0      0      0            370376   7.7500   NaN        Q  "
      ]
     },
     "execution_count": 792,
     "metadata": {},
     "output_type": "execute_result"
    }
   ],
   "source": [
    "# show last 10\n",
    "df.tail(10)"
   ]
  },
  {
   "cell_type": "code",
   "execution_count": 793,
   "metadata": {
    "collapsed": false
   },
   "outputs": [
    {
     "data": {
      "text/plain": [
       "0    608\n",
       "1    209\n",
       "2     28\n",
       "4     18\n",
       "3     16\n",
       "8      7\n",
       "5      5\n",
       "Name: SibSp, dtype: int64"
      ]
     },
     "execution_count": 793,
     "metadata": {},
     "output_type": "execute_result"
    }
   ],
   "source": [
    "# Not gettin much data from the views above, going to try value_counts\n",
    "df.SibSp.value_counts()"
   ]
  },
  {
   "cell_type": "markdown",
   "metadata": {},
   "source": [
    "Strange, this is almost categorical (perhaps it may be?)... I'll do some visualization of this distribution."
   ]
  },
  {
   "cell_type": "code",
   "execution_count": 794,
   "metadata": {
    "collapsed": false
   },
   "outputs": [
    {
     "data": {
      "text/plain": [
       "<matplotlib.text.Text at 0x139d69ba8>"
      ]
     },
     "execution_count": 794,
     "metadata": {},
     "output_type": "execute_result"
    },
    {
     "data": {
      "image/png": "[encoded data removed]",
      "text/plain": [
       "<matplotlib.figure.Figure at 0x139dc65c0>"
      ]
     },
     "metadata": {},
     "output_type": "display_data"
    }
   ],
   "source": [
    "# Plot histogram\n",
    "rcParams['figure.figsize'] = 10,8\n",
    "sibsp = df['SibSp'].hist(bins=8)\n",
    "sibsp.set_title(\"Sibling/Spouse Distribution\")\n",
    "sibsp.set_xlabel(\"# of SibSp\")\n",
    "sibsp.set_ylabel(\"Number of passengers\")"
   ]
  },
  {
   "cell_type": "markdown",
   "metadata": {},
   "source": [
    "**Summary SibSp**  \n",
    "This variable is continuous in my opinion because a value of siblings and spouses has no defined limit (although realistically would be pretty limited), however for our dataset the distribution is almost categorical in nature with a small distribution which ranges from minimum 0 to 8 max of siblings/spouses for a particular passenger. The exact mean is 0.52, however since we're dealing with 'people' here that's kind of silly to measure in that way. The mode, that is the overwhelming majority of passengers, had 0 siblings/spouses on board. Now ofcourse, this is all assuming the data is even accurate since we know that the variable has bias since some relationships were ignored in the collection process. I would be very weary of this variable, as using it in our model could potentially really throw things off. I plan to use this variable in conjunction with one or more other variables in hopes to engineer a better feature that may be more accurate and revealing. "
   ]
  },
  {
   "cell_type": "markdown",
   "metadata": {},
   "source": [
    "#### 2.2.3 Parch"
   ]
  },
  {
   "cell_type": "markdown",
   "metadata": {},
   "source": [
    "Very similar to 'SibSp', this variable 'Parch' represents the number of parents/children onboard in relationship to the passenger. There is also very specific details provided by Kaggle that we need to keep in mind here:\n",
    "> **Parent:**   Mother or Father of Passenger Aboard Titanic  \n",
    "  \n",
    "> **Child:**    Son, Daughter, Stepson, or Stepdaughter of Passenger Aboard Titanic  \n",
    "\n",
    "> **Special Notes**  \n",
    "Some children travelled only with a nanny, therefore parch=0 for them.  As well, some travelled with very close friends or neighbors in a village, however, the definitions do not support such relations.\n",
    "\n",
    "With this being noted, I can only imagine this variable is going to end up being very similar to SibSp therefore I will follow the EDA process and procede with caution of bias. "
   ]
  },
  {
   "cell_type": "code",
   "execution_count": 795,
   "metadata": {
    "collapsed": false
   },
   "outputs": [
    {
     "data": {
      "text/plain": [
       "count    891.000000\n",
       "mean       0.381594\n",
       "std        0.806057\n",
       "min        0.000000\n",
       "25%        0.000000\n",
       "50%        0.000000\n",
       "75%        0.000000\n",
       "max        6.000000\n",
       "Name: Parch, dtype: float64"
      ]
     },
     "execution_count": 795,
     "metadata": {},
     "output_type": "execute_result"
    }
   ],
   "source": [
    "#stats\n",
    "df.Parch.describe()"
   ]
  },
  {
   "cell_type": "code",
   "execution_count": 796,
   "metadata": {
    "collapsed": false
   },
   "outputs": [
    {
     "data": {
      "text/html": [
       "<div>\n",
       "<table border=\"1\" class=\"dataframe\">\n",
       "  <thead>\n",
       "    <tr style=\"text-align: right;\">\n",
       "      <th></th>\n",
       "      <th>PassengerId</th>\n",
       "      <th>Survived</th>\n",
       "      <th>Pclass</th>\n",
       "      <th>Name</th>\n",
       "      <th>Sex</th>\n",
       "      <th>Age</th>\n",
       "      <th>SibSp</th>\n",
       "      <th>Parch</th>\n",
       "      <th>Ticket</th>\n",
       "      <th>Fare</th>\n",
       "      <th>Cabin</th>\n",
       "      <th>Embarked</th>\n",
       "    </tr>\n",
       "  </thead>\n",
       "  <tbody>\n",
       "  </tbody>\n",
       "</table>\n",
       "</div>"
      ],
      "text/plain": [
       "Empty DataFrame\n",
       "Columns: [PassengerId, Survived, Pclass, Name, Sex, Age, SibSp, Parch, Ticket, Fare, Cabin, Embarked]\n",
       "Index: []"
      ]
     },
     "execution_count": 796,
     "metadata": {},
     "output_type": "execute_result"
    }
   ],
   "source": [
    "# Missing any?\n",
    "df[df.Parch.isnull()]"
   ]
  },
  {
   "cell_type": "code",
   "execution_count": 797,
   "metadata": {
    "collapsed": false
   },
   "outputs": [
    {
     "data": {
      "text/plain": [
       "0    678\n",
       "1    118\n",
       "2     80\n",
       "5      5\n",
       "3      5\n",
       "4      4\n",
       "6      1\n",
       "Name: Parch, dtype: int64"
      ]
     },
     "execution_count": 797,
     "metadata": {},
     "output_type": "execute_result"
    }
   ],
   "source": [
    "# count distribution\n",
    "df.Parch.value_counts()"
   ]
  },
  {
   "cell_type": "code",
   "execution_count": 798,
   "metadata": {
    "collapsed": false
   },
   "outputs": [
    {
     "data": {
      "text/plain": [
       "<matplotlib.text.Text at 0x13a373550>"
      ]
     },
     "execution_count": 798,
     "metadata": {},
     "output_type": "execute_result"
    },
    {
     "data": {
      "image/png": "[encoded data removed]",
      "text/plain": [
       "<matplotlib.figure.Figure at 0x13a1f7160>"
      ]
     },
     "metadata": {},
     "output_type": "display_data"
    }
   ],
   "source": [
    "# Plot histogram\n",
    "rcParams['figure.figsize'] = 10,8\n",
    "Parch = df['Parch'].hist(bins=16)\n",
    "Parch.set_title(\"Parents/Children Distribution\")\n",
    "Parch.set_xlabel(\"# of Parents/Children\")\n",
    "Parch.set_ylabel(\"Number of passengers\")"
   ]
  },
  {
   "cell_type": "markdown",
   "metadata": {},
   "source": [
    "**Summary Parch**  \n",
    "As expected very similar to 'SibSp' with small distribution. I'm again going to say this is continuous for the same reasons as SibSp, but likewise it is also very categorical-esque. The majority of passengers had 0 parents/children onboard with them. The minimum being 0 ranging to the max of 6 (1 passenger, which will be worth exploring!). The mean 0.38, again we're dealing with people tho. Standard deviation is low at 0.8. I think it will be worth further exploring 'Parch' & 'SibSp' together in hopes to engineer a new feature that may even be categorical and simple such \"family present? (yes or no)\" perhaps that just combines both the variables here. Will require much more analysis. "
   ]
  },
  {
   "cell_type": "markdown",
   "metadata": {},
   "source": [
    "#### 2.2.4 Fare"
   ]
  },
  {
   "cell_type": "code",
   "execution_count": 799,
   "metadata": {
    "collapsed": false
   },
   "outputs": [
    {
     "data": {
      "text/plain": [
       "8.0500      43\n",
       "13.0000     42\n",
       "7.8958      38\n",
       "7.7500      34\n",
       "26.0000     31\n",
       "10.5000     24\n",
       "7.9250      18\n",
       "7.7750      16\n",
       "26.5500     15\n",
       "0.0000      15\n",
       "7.2292      15\n",
       "7.8542      13\n",
       "8.6625      13\n",
       "7.2500      13\n",
       "7.2250      12\n",
       "16.1000      9\n",
       "9.5000       9\n",
       "24.1500      8\n",
       "15.5000      8\n",
       "56.4958      7\n",
       "52.0000      7\n",
       "14.5000      7\n",
       "14.4542      7\n",
       "69.5500      7\n",
       "7.0500       7\n",
       "31.2750      7\n",
       "46.9000      6\n",
       "30.0000      6\n",
       "7.7958       6\n",
       "39.6875      6\n",
       "            ..\n",
       "7.1417       1\n",
       "42.4000      1\n",
       "211.5000     1\n",
       "12.2750      1\n",
       "61.1750      1\n",
       "8.4333       1\n",
       "51.4792      1\n",
       "7.8875       1\n",
       "8.6833       1\n",
       "7.5208       1\n",
       "34.6542      1\n",
       "28.7125      1\n",
       "25.5875      1\n",
       "7.7292       1\n",
       "12.2875      1\n",
       "8.6542       1\n",
       "8.7125       1\n",
       "61.3792      1\n",
       "6.9500       1\n",
       "9.8417       1\n",
       "8.3000       1\n",
       "13.7917      1\n",
       "9.4750       1\n",
       "13.4167      1\n",
       "26.3875      1\n",
       "8.4583       1\n",
       "9.8375       1\n",
       "8.3625       1\n",
       "14.1083      1\n",
       "17.4000      1\n",
       "Name: Fare, dtype: int64"
      ]
     },
     "execution_count": 799,
     "metadata": {},
     "output_type": "execute_result"
    }
   ],
   "source": [
    "df.Fare.value_counts()"
   ]
  },
  {
   "cell_type": "code",
   "execution_count": 800,
   "metadata": {
    "collapsed": false
   },
   "outputs": [
    {
     "data": {
      "text/plain": [
       "count    891.000000\n",
       "mean      32.204208\n",
       "std       49.693429\n",
       "min        0.000000\n",
       "25%        7.910400\n",
       "50%       14.454200\n",
       "75%       31.000000\n",
       "max      512.329200\n",
       "Name: Fare, dtype: float64"
      ]
     },
     "execution_count": 800,
     "metadata": {},
     "output_type": "execute_result"
    }
   ],
   "source": [
    "df.Fare.describe()"
   ]
  },
  {
   "cell_type": "code",
   "execution_count": 801,
   "metadata": {
    "collapsed": false
   },
   "outputs": [
    {
     "data": {
      "text/plain": [
       "<matplotlib.text.Text at 0x13a4201d0>"
      ]
     },
     "execution_count": 801,
     "metadata": {},
     "output_type": "execute_result"
    },
    {
     "data": {
      "image/png": "[encoded data removed]",
      "text/plain": [
       "<matplotlib.figure.Figure at 0x13a40e9b0>"
      ]
     },
     "metadata": {},
     "output_type": "display_data"
    }
   ],
   "source": [
    "# Plot histogram\n",
    "rcParams['figure.figsize'] = 10,8\n",
    "fare = df['Fare'].hist(bins=10)\n",
    "fare.set_title(\"Fare Distribution\")\n",
    "fare.set_xlabel(\"Fare (Pounds)\")\n",
    "fare.set_ylabel(\"Number of passengers\")"
   ]
  },
  {
   "cell_type": "code",
   "execution_count": 802,
   "metadata": {
    "collapsed": false
   },
   "outputs": [
    {
     "data": {
      "text/html": [
       "<div>\n",
       "<table border=\"1\" class=\"dataframe\">\n",
       "  <thead>\n",
       "    <tr style=\"text-align: right;\">\n",
       "      <th></th>\n",
       "      <th>PassengerId</th>\n",
       "      <th>Survived</th>\n",
       "      <th>Pclass</th>\n",
       "      <th>Name</th>\n",
       "      <th>Sex</th>\n",
       "      <th>Age</th>\n",
       "      <th>SibSp</th>\n",
       "      <th>Parch</th>\n",
       "      <th>Ticket</th>\n",
       "      <th>Fare</th>\n",
       "      <th>Cabin</th>\n",
       "      <th>Embarked</th>\n",
       "    </tr>\n",
       "  </thead>\n",
       "  <tbody>\n",
       "  </tbody>\n",
       "</table>\n",
       "</div>"
      ],
      "text/plain": [
       "Empty DataFrame\n",
       "Columns: [PassengerId, Survived, Pclass, Name, Sex, Age, SibSp, Parch, Ticket, Fare, Cabin, Embarked]\n",
       "Index: []"
      ]
     },
     "execution_count": 802,
     "metadata": {},
     "output_type": "execute_result"
    }
   ],
   "source": [
    "# Missing?\n",
    "df[df.Fare.isnull()]"
   ]
  },
  {
   "cell_type": "markdown",
   "metadata": {
    "collapsed": false
   },
   "source": [
    "**Summary Fare**  \n",
    "Fare is continuous and ranges from min 0 to max ~512.33. The average fare was 32.20 and these fares had a huge variance with standard deviation of 49.69. It is very important to note here that these values are in **Pounds** which will need to be taken into consideration going forward for analysis on them, as I'm not sure how that currency system worked (yet). Perhaps in further analysis I will generate a new variable for the converted value in U.S. dollars. The histogram distribution reveals that most passengers paid between 0-50 pounds for their fare. Interesting things to note here, a handful of passengers paid 0 pounds (lucky) and some unfortunate souls paid as high as over 500 pounds. The reasons behind these fare prices as it relates to the individual passenger may very well tell an interesting story that could lead to some very useful data so I'll be sure to analyze this variable further. "
   ]
  },
  {
   "cell_type": "markdown",
   "metadata": {},
   "source": [
    "#### 2.2.5 PassengerId"
   ]
  },
  {
   "cell_type": "code",
   "execution_count": 803,
   "metadata": {
    "collapsed": false,
    "scrolled": true
   },
   "outputs": [
    {
     "data": {
      "text/plain": [
       "891    1\n",
       "293    1\n",
       "304    1\n",
       "303    1\n",
       "302    1\n",
       "301    1\n",
       "300    1\n",
       "299    1\n",
       "298    1\n",
       "297    1\n",
       "296    1\n",
       "295    1\n",
       "294    1\n",
       "292    1\n",
       "306    1\n",
       "291    1\n",
       "290    1\n",
       "289    1\n",
       "288    1\n",
       "287    1\n",
       "286    1\n",
       "285    1\n",
       "284    1\n",
       "283    1\n",
       "282    1\n",
       "281    1\n",
       "305    1\n",
       "307    1\n",
       "279    1\n",
       "321    1\n",
       "      ..\n",
       "561    1\n",
       "560    1\n",
       "584    1\n",
       "585    1\n",
       "586    1\n",
       "587    1\n",
       "610    1\n",
       "609    1\n",
       "608    1\n",
       "607    1\n",
       "606    1\n",
       "605    1\n",
       "604    1\n",
       "603    1\n",
       "602    1\n",
       "601    1\n",
       "600    1\n",
       "599    1\n",
       "598    1\n",
       "597    1\n",
       "596    1\n",
       "595    1\n",
       "594    1\n",
       "593    1\n",
       "592    1\n",
       "591    1\n",
       "590    1\n",
       "589    1\n",
       "588    1\n",
       "1      1\n",
       "Name: PassengerId, dtype: int64"
      ]
     },
     "execution_count": 803,
     "metadata": {},
     "output_type": "execute_result"
    }
   ],
   "source": [
    "# Displays the counts of each unique value for the feature \"PassengerId\"\n",
    "df.PassengerId.value_counts()"
   ]
  },
  {
   "cell_type": "markdown",
   "metadata": {},
   "source": [
    "As anticipated, we can see that this is definitely a continuous variable and probably does indeed only represent a unique identifier for each passenger. I also noticed that 'PassengerId' was not even included as a variable on the official description of the dataset provided by Kaggle above. Again just to be safe, I'll briefly take a look at the descriptive stats, distribution, and check for missing values next."
   ]
  },
  {
   "cell_type": "code",
   "execution_count": 804,
   "metadata": {
    "collapsed": false
   },
   "outputs": [
    {
     "data": {
      "text/plain": [
       "count    891.000000\n",
       "mean     446.000000\n",
       "std      257.353842\n",
       "min        1.000000\n",
       "25%      223.500000\n",
       "50%      446.000000\n",
       "75%      668.500000\n",
       "max      891.000000\n",
       "Name: PassengerId, dtype: float64"
      ]
     },
     "execution_count": 804,
     "metadata": {},
     "output_type": "execute_result"
    }
   ],
   "source": [
    "# Slice the id and perform stats\n",
    "df['PassengerId'].describe()"
   ]
  },
  {
   "cell_type": "code",
   "execution_count": 805,
   "metadata": {
    "collapsed": false
   },
   "outputs": [
    {
     "data": {
      "text/html": [
       "<div>\n",
       "<table border=\"1\" class=\"dataframe\">\n",
       "  <thead>\n",
       "    <tr style=\"text-align: right;\">\n",
       "      <th></th>\n",
       "      <th>PassengerId</th>\n",
       "      <th>Survived</th>\n",
       "      <th>Pclass</th>\n",
       "      <th>Name</th>\n",
       "      <th>Sex</th>\n",
       "      <th>Age</th>\n",
       "      <th>SibSp</th>\n",
       "      <th>Parch</th>\n",
       "      <th>Ticket</th>\n",
       "      <th>Fare</th>\n",
       "      <th>Cabin</th>\n",
       "      <th>Embarked</th>\n",
       "    </tr>\n",
       "  </thead>\n",
       "  <tbody>\n",
       "  </tbody>\n",
       "</table>\n",
       "</div>"
      ],
      "text/plain": [
       "Empty DataFrame\n",
       "Columns: [PassengerId, Survived, Pclass, Name, Sex, Age, SibSp, Parch, Ticket, Fare, Cabin, Embarked]\n",
       "Index: []"
      ]
     },
     "execution_count": 805,
     "metadata": {},
     "output_type": "execute_result"
    }
   ],
   "source": [
    "# Check if there are any missing values\n",
    "df[df.PassengerId.isnull()]"
   ]
  },
  {
   "cell_type": "markdown",
   "metadata": {},
   "source": [
    "**PassengerId Summary**  \n",
    "Based on the analysis above, it can be concluded that this is simply a sequence of unique ID's for each passenger. This attribute was probably added to the dataset as a formality and means of organization. A 'PassengerId' starts at 1 and just increments in sequence to 891 with no meaningful distribution. This data is going to be irrelevant to our study and I would consider this an independent variable with no relationship or value to any other variables in our dataset or study.\n",
    "\n",
    "However, If further research into this dataset shows that the PassengerID was assigned to a passenger in a particular order, perhaps by queue (in order they boarded) just for example, then maybe it could be valuable. Highly unlikely, but will verify that first!\n",
    "\n",
    "For obvious reasons, A plot was not created for this variable as it would reveal nothing.\n"
   ]
  },
  {
   "cell_type": "markdown",
   "metadata": {},
   "source": [
    "## 3 Missing Values\n",
    "---"
   ]
  },
  {
   "cell_type": "markdown",
   "metadata": {},
   "source": [
    "Missing values are a very important issue that must be handled with care. In particular the way that we choose to handle them can either make or break an entire model. The following are some possible strategies that can be applied in such situations:\n",
    "\n",
    "* Drop all observations with missing values (_worst case scenario, and only to be used as a last resort_)\n",
    "* For continuous variables: set all missing values to 0\n",
    "* For categorical variables: create a new category to represent the missing values\n",
    "* Set the missing values to the average value of all the non-missing values\n",
    "* Create a machine learning algorithm to predict the missing values (_best option when viable_)\n",
    "\n",
    "The choice of which strategy to take requires a thorough analysis of the variable and critical thinking, as the best solution for one variable may be the worst for another.\n",
    "\n",
    "At this point in time, I will not be replacing any missing values yet. Instead just discussing how many are present, what impact it may have, and which strategies would be viable. "
   ]
  },
  {
   "cell_type": "markdown",
   "metadata": {},
   "source": [
    "### 3.1 Variables Of Concern"
   ]
  },
  {
   "cell_type": "markdown",
   "metadata": {},
   "source": [
    "#### 3.1.1 Age"
   ]
  },
  {
   "cell_type": "code",
   "execution_count": 806,
   "metadata": {
    "collapsed": false
   },
   "outputs": [
    {
     "name": "stdout",
     "output_type": "stream",
     "text": [
      "Age Missing Values: 177\n"
     ]
    }
   ],
   "source": [
    "# Count missing\n",
    "print('Age Missing Values:',len(df[df.Age.isnull()]))"
   ]
  },
  {
   "cell_type": "markdown",
   "metadata": {},
   "source": [
    "We are dealing with a large number of missing values here (177/891), and this variable is important to our study. Given the above strategies available I see two viable options for handling the NaN values of Age. The first and best option would surely be to write a machine learning algorithm which would analyze all observations and predict the missing age values for us. The second option which would also work, but would introduce inaccuracy to our model would be to use the mean age of passengers for all the missing values."
   ]
  },
  {
   "cell_type": "code",
   "execution_count": 807,
   "metadata": {
    "collapsed": false
   },
   "outputs": [
    {
     "name": "stdout",
     "output_type": "stream",
     "text": [
      "Mean Age: 29.69911764705882 \n",
      "\n",
      "Standard Deviation: 14.526497332334044\n"
     ]
    }
   ],
   "source": [
    "print('Mean Age:',df.Age.mean(),'\\n')\n",
    "\n",
    "print('Standard Deviation:', df.Age.std())"
   ]
  },
  {
   "cell_type": "markdown",
   "metadata": {},
   "source": [
    "My concern with using the mean age would be that the variance of ages is decently high at std dev ~14.53. I feel that this strategy for missing values would be most successfuly in situations with very minimal variance."
   ]
  },
  {
   "cell_type": "markdown",
   "metadata": {},
   "source": [
    "#### 3.1.2 Cabin"
   ]
  },
  {
   "cell_type": "code",
   "execution_count": 808,
   "metadata": {
    "collapsed": false
   },
   "outputs": [
    {
     "name": "stdout",
     "output_type": "stream",
     "text": [
      "Cabin Missing Values: 687\n"
     ]
    }
   ],
   "source": [
    "# Count missing\n",
    "print('Cabin Missing Values:',len(df[df.Cabin.isnull()]))"
   ]
  },
  {
   "cell_type": "markdown",
   "metadata": {
    "collapsed": false
   },
   "source": [
    "Now this is bad. 687/891 observations are missing the value for cabin. Especially because I've noticed that Cabin could be a very interesting and useful feature with many insights to be extracted. In this situation, with so many missing values, and the randomness of a cabin number value, I doubt even an ML algorithm would have much success at accurately predicting the values. \n",
    "\n",
    "This leaves me to the following two options: either drop all the missing observations with missing values for Cabin or create a new category for the missing values.\n",
    "\n",
    "This is an obvious one, clearly dropping 687 of our 891 observations would be insane, so I would opt for the latter. This variable could most likely be used in conjunction with Ticket, SibSp, Parch, and perhaps others to engineer new interesting and exciting features about our data due to the relationships that I've discovered between them thus far.  "
   ]
  },
  {
   "cell_type": "markdown",
   "metadata": {},
   "source": [
    "#### 3.1.3 Embarked"
   ]
  },
  {
   "cell_type": "code",
   "execution_count": 809,
   "metadata": {
    "collapsed": false
   },
   "outputs": [
    {
     "name": "stdout",
     "output_type": "stream",
     "text": [
      "Embarked Missing Values: 2\n"
     ]
    }
   ],
   "source": [
    "# Count missing\n",
    "print('Embarked Missing Values:',len(df[df.Embarked.isnull()]))"
   ]
  },
  {
   "cell_type": "code",
   "execution_count": 810,
   "metadata": {
    "collapsed": false
   },
   "outputs": [
    {
     "data": {
      "text/html": [
       "<div>\n",
       "<table border=\"1\" class=\"dataframe\">\n",
       "  <thead>\n",
       "    <tr style=\"text-align: right;\">\n",
       "      <th></th>\n",
       "      <th>PassengerId</th>\n",
       "      <th>Survived</th>\n",
       "      <th>Pclass</th>\n",
       "      <th>Name</th>\n",
       "      <th>Sex</th>\n",
       "      <th>Age</th>\n",
       "      <th>SibSp</th>\n",
       "      <th>Parch</th>\n",
       "      <th>Ticket</th>\n",
       "      <th>Fare</th>\n",
       "      <th>Cabin</th>\n",
       "      <th>Embarked</th>\n",
       "    </tr>\n",
       "  </thead>\n",
       "  <tbody>\n",
       "    <tr>\n",
       "      <th>61</th>\n",
       "      <td>62</td>\n",
       "      <td>1</td>\n",
       "      <td>1</td>\n",
       "      <td>Icard, Miss. Amelie</td>\n",
       "      <td>female</td>\n",
       "      <td>38.0</td>\n",
       "      <td>0</td>\n",
       "      <td>0</td>\n",
       "      <td>113572</td>\n",
       "      <td>80.0</td>\n",
       "      <td>B28</td>\n",
       "      <td>NaN</td>\n",
       "    </tr>\n",
       "    <tr>\n",
       "      <th>829</th>\n",
       "      <td>830</td>\n",
       "      <td>1</td>\n",
       "      <td>1</td>\n",
       "      <td>Stone, Mrs. George Nelson (Martha Evelyn)</td>\n",
       "      <td>female</td>\n",
       "      <td>62.0</td>\n",
       "      <td>0</td>\n",
       "      <td>0</td>\n",
       "      <td>113572</td>\n",
       "      <td>80.0</td>\n",
       "      <td>B28</td>\n",
       "      <td>NaN</td>\n",
       "    </tr>\n",
       "  </tbody>\n",
       "</table>\n",
       "</div>"
      ],
      "text/plain": [
       "     PassengerId  Survived  Pclass                                       Name  \\\n",
       "61            62         1       1                        Icard, Miss. Amelie   \n",
       "829          830         1       1  Stone, Mrs. George Nelson (Martha Evelyn)   \n",
       "\n",
       "        Sex   Age  SibSp  Parch  Ticket  Fare Cabin Embarked  \n",
       "61   female  38.0      0      0  113572  80.0   B28      NaN  \n",
       "829  female  62.0      0      0  113572  80.0   B28      NaN  "
      ]
     },
     "execution_count": 810,
     "metadata": {},
     "output_type": "execute_result"
    }
   ],
   "source": [
    "df[df.Embarked.isnull()]"
   ]
  },
  {
   "cell_type": "markdown",
   "metadata": {},
   "source": [
    "This was the most interesting observation that I made throughout this EDA. These two passengers share a relationship, such that Amelie Icard was Mrs. Stone's nanny. Through research via the [Encyclopedia Titanica](https://www.encyclopedia-titanica.org/titanic-survivor/amelia-icard.html), I was able to verify that both passengers did in fact Embark from Southampton.\n",
    "\n",
    "I feel the best solution in this case, due to the limited number of values missing, and the verifiable source providing their port of embarkment, would be to simply manually set their values to the correct port 'S'. "
   ]
  },
  {
   "cell_type": "markdown",
   "metadata": {},
   "source": [
    "## 4 Insights, Observations, & Questions\n",
    "---"
   ]
  },
  {
   "cell_type": "markdown",
   "metadata": {},
   "source": [
    "### 4.1 Women & Children"
   ]
  },
  {
   "cell_type": "markdown",
   "metadata": {},
   "source": [
    "Everyone remembers the the 1997 movie \"Titanic\", where they portrayed the crew shouting \"Women and children only please!!\" as they began filling the very limited number of lifeboats they had on the ship. Now a good portion of this movie was fictional ofcourse, however this particular scene did portray the truth in how the tragedy was handled at that time. Let's take a deeper look at some of the relationships between women and children to survival outcome."
   ]
  },
  {
   "cell_type": "code",
   "execution_count": 811,
   "metadata": {
    "collapsed": false
   },
   "outputs": [
    {
     "name": "stdout",
     "output_type": "stream",
     "text": [
      "Males: 0.6475869809203143 \n",
      "\n",
      "Females: 0.35241301907968575\n"
     ]
    }
   ],
   "source": [
    "# Recall passenger sex distribution\n",
    "# Percent of male passengers\n",
    "males_percent = 577 / 891\n",
    "print('Males:', males_percent, '\\n')\n",
    "\n",
    "# Percent of female passengers\n",
    "females_percent = 314/891\n",
    "print('Females:', females_percent)"
   ]
  },
  {
   "cell_type": "code",
   "execution_count": 812,
   "metadata": {
    "collapsed": false
   },
   "outputs": [
    {
     "name": "stdout",
     "output_type": "stream",
     "text": [
      "Percent Males Survived:  0.188908145581 \n",
      "\n",
      "Percent Females Survived:  0.742038216561 \n",
      "\n"
     ]
    }
   ],
   "source": [
    "# Determine survival percent based on sex (total males 577, females 314)\n",
    "print('Percent Males Survived: ', df[df.Sex=='male'].Survived.value_counts()[1] / 577, '\\n')\n",
    "print('Percent Females Survived: ', df[df.Sex=='female'].Survived.value_counts()[1] / 314, '\\n')"
   ]
  },
  {
   "cell_type": "code",
   "execution_count": null,
   "metadata": {
    "collapsed": false
   },
   "outputs": [
    {
     "data": {
      "text/plain": [
       "<matplotlib.axes._subplots.AxesSubplot at 0x13a8610f0>"
      ]
     },
     "execution_count": 813,
     "metadata": {},
     "output_type": "execute_result"
    },
    {
     "data": {
      "image/png": "[encoded data removed]",
      "text/plain": [
       "<matplotlib.figure.Figure at 0x13a59f780>"
      ]
     },
     "metadata": {},
     "output_type": "display_data"
    }
   ],
   "source": [
    "# Plotting male vs female survival outcome\n",
    "rcParams['figure.figsize'] = 20,8\n",
    "fig, axs=plt.subplots(1,2)\n",
    "df[df.Sex=='male'].Survived.value_counts().plot('barh', ax=axs[0], title='Male Survivorship')\n",
    "df[df.Sex=='female'].Survived.value_counts().plot('barh', ax=axs[1], title = 'Female Survivorship')"
   ]
  },
  {
   "cell_type": "markdown",
   "metadata": {},
   "source": [
    "In regard to Sex = female, the impact to survival outcome is staggering as suspected. Only ~18.9% males vs ~74.2% of females survived the sinking. This tells me that Sex is going to be a very important feature for the ML algorithm in the coming analysis.\n",
    "\n",
    "Now I will inspect children. When I performed my EDA on the Age variable it revealed quite an effect on survival, but only for a limited range of ages which appeared to be most profound somewhere between the minimum age and 5 years old. Let's take a closer look now."
   ]
  },
  {
   "cell_type": "code",
   "execution_count": null,
   "metadata": {
    "collapsed": false
   },
   "outputs": [],
   "source": [
    "# Plotting for age to find the sweet spot, where survial was most impacted\n",
    "rcParams['figure.figsize'] = 10,5\n",
    "fig, axs=plt.subplots(1,2)\n",
    "df[df.Age < 15].Survived.value_counts().plot('barh', ax=axs[0], title='Age < 15 Survivorship')\n",
    "df[df.Age < 10].Survived.value_counts().plot('barh', ax=axs[1], title = 'Age < 10 Survivorship')"
   ]
  },
  {
   "cell_type": "code",
   "execution_count": null,
   "metadata": {
    "collapsed": false
   },
   "outputs": [],
   "source": [
    "# The above show some impact, but not what was discovered previously, its for much younger children.\n",
    "# Plot survival for age < 5 vs age < 2\n",
    "rcParams['figure.figsize'] = 10,5\n",
    "fig, axs=plt.subplots(1,2)\n",
    "df[df.Age < 5].Survived.value_counts().plot('barh', ax=axs[0], title='Age < 5 Survivorship')\n",
    "df[df.Age < 2].Survived.value_counts().plot('barh', ax=axs[1], title = 'Age < 2 Survivorship')"
   ]
  },
  {
   "cell_type": "markdown",
   "metadata": {},
   "source": [
    "It appears that young age definitely overall has an impact on survival starting for children as young as 15, however it's not quite significant until you look closely at the age group of babies (age < 2). It's very interesting seeing the above graph comparison of how different the impact is on survival between age < 5 and age < 2 as a filter. Clearly for children less than 2 years old, their chance of survival was much higher. Let's take a look at who they were, I'm curious. "
   ]
  },
  {
   "cell_type": "code",
   "execution_count": null,
   "metadata": {
    "collapsed": false
   },
   "outputs": [],
   "source": [
    "# query for df of age less than 2 and survived only\n",
    "under2survivors = df.query('Age < 2 & Survived != 0')\n",
    "under2survivors"
   ]
  },
  {
   "cell_type": "markdown",
   "metadata": {},
   "source": [
    "Couple of observations can be made here, first is that there's not much data. Second a good portion of these lucky suvivors were actually 3rd class which is quite shocking given that 3rd class was much more likely not to survive. Out of curiousity want to see what effect bot sex and class had on the survival for these kids."
   ]
  },
  {
   "cell_type": "code",
   "execution_count": null,
   "metadata": {
    "collapsed": false
   },
   "outputs": [],
   "source": [
    "# Select just the females of the under 2 survivors\n",
    "under2survivors[(under2survivors.Sex=='female')]"
   ]
  },
  {
   "cell_type": "markdown",
   "metadata": {},
   "source": [
    "Wow, wasn't expecting to see them all be 3rd class that's for sure. Does this perhaps mean something? I'm unsure yet. But I do find it quite ironic that that all 4 of the female children under the age of 2 that survived were in 3rd class given that 3rd class had a very negative impact on survival outcome..."
   ]
  },
  {
   "cell_type": "markdown",
   "metadata": {
    "collapsed": true
   },
   "source": [
    "### 4.2 Wealth vs Poverty"
   ]
  },
  {
   "cell_type": "markdown",
   "metadata": {},
   "source": [
    "Did the economic status of a passenger have an impact on survival? Absolutely. In regard to the 4 female children above who were all 3rd class and survived, let's see what their probability was of survival as a 3rd class passengers ignoring everything else."
   ]
  },
  {
   "cell_type": "code",
   "execution_count": null,
   "metadata": {
    "collapsed": false
   },
   "outputs": [],
   "source": [
    "# If a 3rd class passenger, whats the chance you'd survive ignoring all other variables\n",
    "print(df[df.Pclass == 3].Survived.value_counts())\n",
    "print('\\n')\n",
    "print('Sum PClass3 = ',len(df[df.Pclass==3]))"
   ]
  },
  {
   "cell_type": "code",
   "execution_count": null,
   "metadata": {
    "collapsed": false
   },
   "outputs": [],
   "source": [
    "print('Survival of Pclass 3 = ', 119/491 * 100,'%')"
   ]
  },
  {
   "cell_type": "markdown",
   "metadata": {},
   "source": [
    "So it appears of all the 3rd class passengers on board the ship, <b>only ~24.24% of them survived</b>. Recall the distribution of passengers by class, <b>3rd class passengers accounted for more than both 1st and 2nd class passengers COMBINED.</b> \n",
    "\n",
    "Why is this? After a bit of research I came up with a few reasons:\n",
    "* 1st and 2nd class were given higher priority during the crisis\n",
    "* Communication of the seriousness of the matter at hand was not communicated well to the 3rd class. 1st and 2nd class received clearer communication of urgency, and also received it sooner. \n",
    "* During panic, some 3rd class gates actually remained locked trapping many of them for death\n",
    "* Many 3rd class passengers weren't as educated as 1st and 2nd class, and therefore understanding English was a factor."
   ]
  },
  {
   "cell_type": "markdown",
   "metadata": {},
   "source": [
    "### 4.3 Name Data Analysis (Titles & Ethnicities)"
   ]
  },
  {
   "cell_type": "markdown",
   "metadata": {},
   "source": [
    "For now this is simply an observation for future research. While performing EDA on the Name variable I discovered two possible opportunities for further analysis and feature engineering:\n",
    "\n",
    "* Titles: Mrs., Miss., Master, etc\n",
    " * Potential Value: If extracted properly this could be a major resource of information related to women and children which is directly influencing survival impact. By scraping these titles, we can perhaps discover new married couples from the 'Mrs.' title. By combining analysis of those with the 'Miss.' or 'Ms.' titles with the cabin feature, specifically filtering for those passengers who share one or more cabins, we can possibly detect couples in general unmarried that is. \n",
    "\n",
    "* Ethnicities from surnames\n",
    " * I thought it may be a valuable effort to attempt classification of passenger ethnicity from surnames perhaps by a ML algorithm that references historical European census data on surnames and ethnic origins. I feel this could be of value as it may help reveal valuable information in regard to native languages spoken, and language could potentially have had an impact on survival outcome especially for those who lacked English comprehension ability."
   ]
  },
  {
   "cell_type": "markdown",
   "metadata": {},
   "source": [
    "### 4.4 Repeated Ticket Values"
   ]
  },
  {
   "cell_type": "markdown",
   "metadata": {},
   "source": [
    "This observation intrigued me the most, especially when I discovered something very valuable while performing EDA on Embarked. Many ticket numbers/values are repeated. When I first dicovered this it puzzled me because why would this be? 134 of the total values for Ticket were ones which repeated. A repeating value for a ticket repeated anywhere from 2-7 repetitions amongst all passengers. 7 passengers sharing the same ticket?? \n",
    "\n",
    "While performing my EDA on Embarked for missing values, I found two. Which just happened to be two passengers who survived. Luckily I had a curiousity to Google one of their names because it lead me to the discovery that one of them was simply the other's nanny and that she traveled under her employer's ticket number.\n",
    "\n",
    "So one reason was uncovered via EDA, nannies and their employers would have repeating ticket values. Other reasons I suspect may include young children under their parents tickets and married couples on one ticket. To start, I want to find 7 passengers sharing the same ticket number and see what kind of relationship I can find. "
   ]
  },
  {
   "cell_type": "code",
   "execution_count": null,
   "metadata": {
    "collapsed": false
   },
   "outputs": [],
   "source": [
    "# Tickets that repeated 7 times amongst passengers (I know the slice is 3 from previous EDA)\n",
    "df.Ticket.value_counts()[:3]"
   ]
  },
  {
   "cell_type": "code",
   "execution_count": null,
   "metadata": {
    "collapsed": false
   },
   "outputs": [],
   "source": [
    "# Passengers who shared ticket 347082\n",
    "df[df.Ticket=='347082']"
   ]
  },
  {
   "cell_type": "markdown",
   "metadata": {},
   "source": [
    "Ok, this makes a bit more sense now. This is a large that was traveling together. Thus families traveled under the same ticket numbers, at least some of the time. What's really sad here is noticing that the entire family died. I did a quick search and found this [here](https://alookthrutime.wordpress.com/2012/04/13/third-class-life-on-the-titanic/):\n",
    "\n",
    ">\"The Andersson Family was from Sweden. Johan and Alfrida had five children. Traveling to Stanton, Iowa. The family was traveling with Alfrida’s sister, Anna Danbom and her family. A traveling companion, Anna Nysten, was the only survivor of the group of eleven.\""
   ]
  },
  {
   "cell_type": "code",
   "execution_count": null,
   "metadata": {
    "collapsed": false
   },
   "outputs": [],
   "source": [
    "# Passengers who shared ticket CA. 2343\n",
    "df[df.Ticket=='CA. 2343']"
   ]
  },
  {
   "cell_type": "markdown",
   "metadata": {},
   "source": [
    "Too ironic... another 7 person family, all of whom died. However it is worth noting both of the last two families were in 3rd class."
   ]
  },
  {
   "cell_type": "code",
   "execution_count": null,
   "metadata": {
    "collapsed": false
   },
   "outputs": [],
   "source": [
    "# Passengers who shared ticket 1601\n",
    "df[df.Ticket=='1601']"
   ]
  },
  {
   "cell_type": "markdown",
   "metadata": {},
   "source": [
    "Well, the names are interesting! I found [this](https://www.encyclopedia-titanica.org/titanic-survivor/fang-lang.html) resource explaining the background of these passengers. Essentially they were friends who all boarded together under the same ticket number. \n",
    "\n",
    "So now we know nannies could board under employers, families could board together, and even large groups of friends/colleagues could share a ticket number. Interesting. I plan to do do more research in this area going further for sure and especially to try and detect patterns for relationships between ticket repetitions, cabin sharing, and name titles!"
   ]
  },
  {
   "cell_type": "markdown",
   "metadata": {},
   "source": [
    "### 4.5 Classifying Accomodation Classes From Cabin Distribution"
   ]
  },
  {
   "cell_type": "markdown",
   "metadata": {},
   "source": [
    "For now, just an idea that I thought of during EDA. I found it may prove to be valuable to combine knowledge and analysis of variables Ticket, Parch, SibSp, Name, and Cabin to engineer a feature which could classify passengers by their accomodation status. By this I mean a categorical varable which could serve the following categories:\n",
    "* Traveling alone\n",
    "* Not Traveling Alone\n",
    "\n",
    "Perhaps as I reveal more insights the categories could even become more detailed such as traveling with friends vs traveling with family etc. "
   ]
  }
 ],
 "metadata": {
  "anaconda-cloud": {},
  "kernelspec": {
   "display_name": "Python [conda root]",
   "language": "python",
   "name": "conda-root-py"
  },
  "language_info": {
   "codemirror_mode": {
    "name": "ipython",
    "version": 3
   },
   "file_extension": ".py",
   "mimetype": "text/x-python",
   "name": "python",
   "nbconvert_exporter": "python",
   "pygments_lexer": "ipython3",
   "version": "3.5.2"
  }
 },
 "nbformat": 4,
 "nbformat_minor": 2
}
