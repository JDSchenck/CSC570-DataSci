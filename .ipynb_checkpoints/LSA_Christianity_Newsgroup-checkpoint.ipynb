{
 "cells": [
  {
   "cell_type": "markdown",
   "metadata": {},
   "source": [
    "# Latent Semantic Analysis:\n",
    "## _A Conceputal Extraction From Newsgroup Data On Christian Religion_\n",
    "---\n",
    "\n",
    "Prepared By: Jason Schenck  \n",
    "Date: February 6th 2017  \n",
    "CSC-570 Data Science Essentials\n",
    "\n",
    "\n",
    "<br>\n",
    "<big>Table Of Contents</big>\n",
    "\n",
    "---\n",
    "* **[1 Introduction][Introduction]**\n",
    "   * [1.1][1.1] _Purpose & Data Source_\n",
    "   * [1.2][1.2] _What is a \"Latent Semantic Analysis\"(LSA)?_\n",
    "   * [1.3][1.3] _Terminology Defined_\n",
    "   * [1.4][1.4] _Extracting Conceptualization From Language_\n",
    "   * [1.5][1.5] _Process/Procedure & Methodology_\n",
    "\n",
    "\n",
    "* **[2 Data: Retrieval, Parsing, & Cleansing][Data: Retrieval, Parsing, & Cleansing]**\n",
    "   * [2.1][2.1] _Retrieval_\n",
    "     * [2.1.1][2.1.1] Retrieving the dataset\n",
    "     * [2.1.2][2.1.2] Parsing with BeautifulSoup\n",
    "   * [2.2][2.2] _Inspection_\n",
    "     * [2.2.1][2.2.1] Overview\n",
    "     * [2.2.2][2.2.2] Word Analysis\n",
    "     * [2.2.3][2.2.3] Cleansing via \"stopset\" definition\n",
    "\n",
    "\n",
    "* **[3 TF-IDF Vectorization][TF-IDF Vectorization]**\n",
    "   * [3.1][3.1] _Overview: Vectorizing_\n",
    "   * [3.2][3.2] _TF-IDF Vectorization with Scikit-Learn_\n",
    "     * [3.2.1][3.2.1] Function & Syntax Documentation\n",
    "     * [3.2.2][3.2.2] Parameters\n",
    "\n",
    "\n",
    "* **[4 Lexical Semantic Analysis (LSA)][Lexical Semantic Analysis (LSA)]**\n",
    "   * [4.1][4.1] _Overview: Theory & Practice_\n",
    "   * [4.2][4.2] _Mathematics: Singular Value Decomposition (SVD)_\n",
    "   * [4.3][4.3] _SVD Modeling with Scikit-Learn_\n",
    "     * [4.3.1][4.3.1] Function & Syntax Documentation\n",
    "     * [4.3.2][4.3.2] Parameters\n",
    "   * [4.4][4.4] _Producing A Meaningful Output Of Concepts_\n",
    "     * [4.4.1][4.4.1] TruncatedSVD() Output\n",
    "     * [4.4.2][4.4.2] Converting Document Matrices to Concepts\n",
    "\n",
    "\n",
    "* **[5 Results: Interpration Of Extracted Concepts][Results: Interpration Of Extracted Concepts]**\n",
    "    * [5.1][5.1] _Output_\n",
    "    * [5.2][5.2] _Observations & Opinions_\n",
    "\n",
    "\n",
    "     \n",
    "[Introduction]: #1-Introduction\n",
    "[1.1]: #1.1-Purpose-&-Data-Source\n",
    "[1.2]: #1.2-What-is-a-\"Latent-Semantic-Analysis\"(LSA)?\n",
    "[1.3]: #1.3-Terminology-Defined\n",
    "[1.4]: #1.4-Extracting-Conceptualization-From-Language\n",
    "[1.5]: #1.5-Process/Procedure-&-Methodology\n",
    "[Data: Retrieval, Parsing, & Cleansing]: #2-Data:-Retrieval,-Parsing,-&-Cleansing\n",
    "[2.1]: #2.1-Retrieval\n",
    "[2.1.1]: #2.1.1-Retrieving-the-dataset\n",
    "[2.1.2]: #2.1.2-Parsing-with-BeautifulSoup\n",
    "[2.2]: #2.2-Inspection\n",
    "[2.2.1]: #2.2.1-Overview\n",
    "[2.2.2]: #2.2.2-Word-Analysis\n",
    "[2.2.3]: #2.2.3-Cleansing-via-\"stopset\"-definition\n",
    "[TF-IDF Vectorization]: #3-TF-IDF-Vectorization\n",
    "[3.1]: #3.1-Overiview:-Vectorizing\n",
    "[3.2]: #3.2-TF-IDF-Vectorization-with-Scikit-Learn\n",
    "[3.2.1]: #3.2.1-Function-&-Syntax-Documentation\n",
    "[3.2.2]: #3.2.2-Parameters\n",
    "[Lexical Semantic Analysis (LSA)]: #4-4-Lexical-Semantic-Analysis-(LSA)\n",
    "[4.1]: #4.1-Overview:-Theory-&-Practice\n",
    "[4.2]: #4.2-Mathematics:-Singular-Value-Decomposition-(SVD)\n",
    "[4.3]: #4.3-SVD-Modeling-with-Scikit-Learn\n",
    "\n",
    "[4.3.1]: #4.3.1-Function-&-Syntax-Documentation\n",
    "[4.3.2]: #4.3.2-Parameters\n",
    "\n",
    "[4.4]: #4.4-Producing-A-Meaningful-Output-Of-Concepts\n",
    "\n",
    "[4.4.1]: #4.4.1-TruncatedSVD()-Output\n",
    "[4.4.2]: #4.4.2-Converting-Document-Matrices-to-Concepts\n",
    "\n",
    "[Results: Interpration Of Extracted Concepts]: #5-Results:-Interpration-Of-Extracted-Concepts\n",
    "[5.1]: #5.1-Output\n",
    "[5.2]: #5.2-Observations-&-Opinions\n",
    "\n",
    "<br>\n",
    "\n",
    "\n",
    "<div class=\"alert alert-success\">\n",
    "<b>Data Source</b> [Kaggle: Titanic Machine Learning from Disaster](https://www.kaggle.com/c/titanic)\n",
    "</div>\n",
    "\n",
    "---"
   ]
  },
  {
   "cell_type": "markdown",
   "metadata": {},
   "source": [
    "### 1 Introduction"
   ]
  },
  {
   "cell_type": "markdown",
   "metadata": {},
   "source": [
    "#### 1.1 Purpose & Data Source"
   ]
  },
  {
   "cell_type": "markdown",
   "metadata": {},
   "source": [
    "#### 1.2 What is a \"Latent Semantic Analysis\"(LSA)?"
   ]
  },
  {
   "cell_type": "markdown",
   "metadata": {},
   "source": [
    "#### 1.3 Terminology Defined"
   ]
  },
  {
   "cell_type": "markdown",
   "metadata": {},
   "source": [
    "#### 1.4 Extracting Conceptualization From Language"
   ]
  },
  {
   "cell_type": "markdown",
   "metadata": {},
   "source": [
    "#### 1.5 Process/Procedure & Methodology"
   ]
  },
  {
   "cell_type": "markdown",
   "metadata": {},
   "source": [
    "### 2 Data: Retrieval, Parsing, & Cleansing"
   ]
  },
  {
   "cell_type": "markdown",
   "metadata": {},
   "source": [
    "#### 2.1 Retrieval"
   ]
  },
  {
   "cell_type": "markdown",
   "metadata": {},
   "source": [
    "##### 2.1.1 Retrieving the dataset"
   ]
  },
  {
   "cell_type": "markdown",
   "metadata": {},
   "source": [
    "##### 2.1.2 Parsing with BeautifulSoup"
   ]
  },
  {
   "cell_type": "markdown",
   "metadata": {},
   "source": [
    "#### 2.2 Inspection"
   ]
  },
  {
   "cell_type": "markdown",
   "metadata": {},
   "source": [
    "##### 2.2.1 Overview"
   ]
  },
  {
   "cell_type": "markdown",
   "metadata": {},
   "source": [
    "##### 2.2.2 Word Analysis"
   ]
  },
  {
   "cell_type": "markdown",
   "metadata": {},
   "source": [
    "##### 2.2.3 Cleansing via \"stopset\" definition"
   ]
  },
  {
   "cell_type": "markdown",
   "metadata": {},
   "source": [
    "### 3 TF-IDF Vectorization"
   ]
  },
  {
   "cell_type": "markdown",
   "metadata": {},
   "source": [
    "#### 3.1 Overiview: Vectorizing"
   ]
  },
  {
   "cell_type": "markdown",
   "metadata": {},
   "source": [
    "#### 3.2 TF-IDF Vectorization with Scikit-Learn"
   ]
  },
  {
   "cell_type": "markdown",
   "metadata": {},
   "source": [
    "##### 3.2.1 Function & Syntax Documentation"
   ]
  },
  {
   "cell_type": "markdown",
   "metadata": {},
   "source": [
    "##### 3.2.2 Parameters"
   ]
  },
  {
   "cell_type": "markdown",
   "metadata": {},
   "source": []
  },
  {
   "cell_type": "markdown",
   "metadata": {},
   "source": [
    "### 4 Lexical Semantic Analysis (LSA)"
   ]
  },
  {
   "cell_type": "markdown",
   "metadata": {},
   "source": [
    "#### 4.1 Overview: Theory & Practice"
   ]
  },
  {
   "cell_type": "markdown",
   "metadata": {},
   "source": [
    "#### 4.2 Mathematics: Singular Value Decomposition (SVD)"
   ]
  },
  {
   "cell_type": "markdown",
   "metadata": {},
   "source": [
    "#### 4.3 SVD Modeling with Scikit-Learn"
   ]
  },
  {
   "cell_type": "markdown",
   "metadata": {},
   "source": [
    "##### 4.3.1 Function & Syntax Documentation"
   ]
  },
  {
   "cell_type": "markdown",
   "metadata": {},
   "source": [
    "##### 4.3.2 Parameters"
   ]
  },
  {
   "cell_type": "markdown",
   "metadata": {},
   "source": [
    "#### 4.4 Producing A Meaningful Output Of Concepts"
   ]
  },
  {
   "cell_type": "markdown",
   "metadata": {},
   "source": [
    "##### 4.4.1 TruncatedSVD() Output"
   ]
  },
  {
   "cell_type": "markdown",
   "metadata": {},
   "source": [
    "##### 4.4.2 Converting Document Matrices to Concepts"
   ]
  },
  {
   "cell_type": "markdown",
   "metadata": {},
   "source": [
    "### 5 Results: Interpration Of Extracted Concepts"
   ]
  },
  {
   "cell_type": "markdown",
   "metadata": {},
   "source": [
    "#### 5.1 Output"
   ]
  },
  {
   "cell_type": "markdown",
   "metadata": {},
   "source": [
    "#### 5.2 Observations & Opinions"
   ]
  }
 ],
 "metadata": {
  "kernelspec": {
   "display_name": "Python [conda root]",
   "language": "python",
   "name": "conda-root-py"
  },
  "language_info": {
   "codemirror_mode": {
    "name": "ipython",
    "version": 3
   },
   "file_extension": ".py",
   "mimetype": "text/x-python",
   "name": "python",
   "nbconvert_exporter": "python",
   "pygments_lexer": "ipython3",
   "version": "3.5.2"
  }
 },
 "nbformat": 4,
 "nbformat_minor": 1
}
