{
 "cells": [
  {
   "cell_type": "code",
   "execution_count": 1,
   "metadata": {
    "collapsed": true
   },
   "outputs": [],
   "source": [
    "import pandas as pd\n",
    "import numpy as np"
   ]
  },
  {
   "cell_type": "code",
   "execution_count": 2,
   "metadata": {
    "collapsed": true
   },
   "outputs": [],
   "source": [
    "M = pd.read_csv('csc570_movie_reviews.csv', index_col='Name')"
   ]
  },
  {
   "cell_type": "code",
   "execution_count": 3,
   "metadata": {
    "collapsed": true
   },
   "outputs": [],
   "source": [
    "def pearson(s1, s2):\n",
    "    \"\"\"Take two pd.Series objects and return a pearson correlation.\"\"\"\n",
    "    s1_c = s1 - s1.mean()\n",
    "    s2_c = s2 - s2.mean()\n",
    "    return np.sum(s1_c * s2_c) / np.sqrt(np.sum(s1_c ** 2) * np.sum(s2_c ** 2))"
   ]
  },
  {
   "cell_type": "code",
   "execution_count": 4,
   "metadata": {
    "collapsed": true
   },
   "outputs": [],
   "source": [
    "def get_recs(movie_name, M, num):\n",
    "\n",
    "    import numpy as np\n",
    "    reviews = []\n",
    "    for title in M.columns:\n",
    "        if title == movie_name:\n",
    "            continue\n",
    "        cor = pearson(M[movie_name], M[title])\n",
    "        if np.isnan(cor):\n",
    "            continue\n",
    "        else:\n",
    "            reviews.append((title, cor))\n",
    "    \n",
    "    reviews.sort(key=lambda tup: tup[1], reverse=True)\n",
    "    return reviews[:num]"
   ]
  },
  {
   "cell_type": "markdown",
   "metadata": {},
   "source": [
    "## 1. What movie is most Similar to 'The fault in our stars'"
   ]
  },
  {
   "cell_type": "code",
   "execution_count": 5,
   "metadata": {},
   "outputs": [
    {
     "data": {
      "text/plain": [
       "[('Malificent', 0.20279670863265634)]"
      ]
     },
     "execution_count": 5,
     "metadata": {},
     "output_type": "execute_result"
    }
   ],
   "source": [
    "# Return the top recommendation for 'The Fault in Our Stars'\n",
    "get_recs('The Fault in Our Stars', M, 1)"
   ]
  },
  {
   "cell_type": "markdown",
   "metadata": {},
   "source": [
    "## 2. Which movie(s) would you most like to see, based on your classmates experience? "
   ]
  },
  {
   "cell_type": "code",
   "execution_count": 6,
   "metadata": {},
   "outputs": [
    {
     "name": "stderr",
     "output_type": "stream",
     "text": [
      "/Users/jsche4/anaconda/lib/python3.6/site-packages/ipykernel/__main__.py:7: FutureWarning: sort is deprecated, use sort_values(inplace=True) for INPLACE sorting\n"
     ]
    }
   ],
   "source": [
    "# My ratings\n",
    "\n",
    "# movies i've seen and rated\n",
    "jasons_ratings = M.ix['Jason Schenck'].dropna()\n",
    "\n",
    "# sorted descending (top rated first)\n",
    "jasons_ratings.sort(ascending=False)\n",
    "\n",
    "# movie i've rated the highest\n",
    "jasons_fav_movie = jasons_ratings.index[:3]"
   ]
  },
  {
   "cell_type": "code",
   "execution_count": 7,
   "metadata": {},
   "outputs": [
    {
     "name": "stdout",
     "output_type": "stream",
     "text": [
      "My Ratings:  \n",
      "\n",
      "Interstellar                             5.0\n",
      "Guardians of the Galaxy                  5.0\n",
      "The Hunger Games: Mockingjay - Part 1    5.0\n",
      "Gone Girl                                4.0\n",
      "The Hobbit                               3.0\n",
      "Godzilla                                 2.0\n",
      "Name: Jason Schenck, dtype: float64\n"
     ]
    }
   ],
   "source": [
    "print(\"My Ratings: \",'\\n')\n",
    "print(jasons_ratings)"
   ]
  },
  {
   "cell_type": "code",
   "execution_count": 8,
   "metadata": {},
   "outputs": [
    {
     "name": "stdout",
     "output_type": "stream",
     "text": [
      "My Favorite Movie(s):  \n",
      "\n",
      "Interstellar\n",
      "Guardians of the Galaxy\n",
      "The Hunger Games: Mockingjay - Part 1\n"
     ]
    }
   ],
   "source": [
    "# I rated three movies as 5's, print all of them.\n",
    "print(\"My Favorite Movie(s): \", '\\n')\n",
    "for movie in jasons_fav_movie:\n",
    "    print(movie)"
   ]
  },
  {
   "cell_type": "code",
   "execution_count": 9,
   "metadata": {},
   "outputs": [
    {
     "name": "stdout",
     "output_type": "stream",
     "text": [
      "- Recommendations Based On:  Interstellar\n",
      "\t 1.  ('Transformers', 0.20181889919646606)\n",
      "\t 2.  ('Godzilla', 0.20054679249349439)\n",
      "\t 3.  ('The Fault in Our Stars', 0.19769155875139621) \n",
      "\n",
      "- Recommendations Based On:  Guardians of the Galaxy\n",
      "\t 1.  ('The Lego Movie', 0.41032511141411654)\n",
      "\t 2.  ('The Hunger Games: Mockingjay - Part 1', 0.25212946724645247)\n",
      "\t 3.  ('The Hobbit', 0.21651006082213078) \n",
      "\n",
      "- Recommendations Based On:  The Hunger Games: Mockingjay - Part 1\n",
      "\t 1.  ('Guardians of the Galaxy', 0.25212946724645247)\n",
      "\t 2.  ('Transformers', 0.16854827108908074)\n",
      "\t 3.  ('The Hobbit', 0.13723236119514004) \n",
      "\n"
     ]
    }
   ],
   "source": [
    "# Movies that I should probably watch! (Top 3 recommendations per my 3 top rated seen movies)\n",
    "for movie in jasons_fav_movie:\n",
    "    print(\"- Recommendations Based On: \", movie)\n",
    "    recommendation = get_recs(movie, M, 3)\n",
    "    print('\\t',\"1. \", recommendation[0])\n",
    "    print('\\t',\"2. \", recommendation[1])\n",
    "    print('\\t',\"3. \", recommendation[2],'\\n')"
   ]
  },
  {
   "cell_type": "markdown",
   "metadata": {},
   "source": [
    "Hm.. I'm a little cautious here that the highest recommendation based 'Interstellar' is the movie 'Transformers'.. I guess I better get my Netflix on soon because 'Interstellar' is one of my all-time favorite movies!"
   ]
  }
 ],
 "metadata": {
  "kernelspec": {
   "display_name": "Python 3",
   "language": "python",
   "name": "python3"
  },
  "language_info": {
   "codemirror_mode": {
    "name": "ipython",
    "version": 3
   },
   "file_extension": ".py",
   "mimetype": "text/x-python",
   "name": "python",
   "nbconvert_exporter": "python",
   "pygments_lexer": "ipython3",
   "version": "3.6.0"
  }
 },
 "nbformat": 4,
 "nbformat_minor": 2
}
