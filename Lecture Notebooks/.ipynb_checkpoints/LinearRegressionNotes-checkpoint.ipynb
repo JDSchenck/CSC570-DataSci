{
 "cells": [
  {
   "cell_type": "markdown",
   "metadata": {},
   "source": [
    "# Linear Regression - Notes "
   ]
  },
  {
   "cell_type": "markdown",
   "metadata": {},
   "source": [
    "## 1. Define Z-Score function -- Scale the data"
   ]
  },
  {
   "cell_type": "markdown",
   "metadata": {},
   "source": [
    "$$z = \\frac{X - \\mu}{\\sigma}$$\n",
    "\n",
    "Where:  \n",
    "\n",
    "- z = standardized score, scaled value  \n",
    "\n",
    "- X = A single observation of independent variable X  \n",
    "\n",
    "- $\\mu$ = mean of all X values  \n",
    "\n",
    "- $ \\sigma $ = standard deviation of all X values  \n"
   ]
  },
  {
   "cell_type": "code",
   "execution_count": 1,
   "metadata": {
    "collapsed": true
   },
   "outputs": [],
   "source": [
    "from pylab import *\n",
    "import numpy as np\n",
    "%matplotlib inline"
   ]
  },
  {
   "cell_type": "code",
   "execution_count": 2,
   "metadata": {
    "collapsed": true
   },
   "outputs": [],
   "source": [
    "def scaleData(z):\n",
    "   mean = z.mean(axis=0)\n",
    "   stdDev = z.std(axis=0)\n",
    "   z = (z - mean)/stdDev\n",
    "   return z, mean, stdDev"
   ]
  },
  {
   "cell_type": "code",
   "execution_count": 3,
   "metadata": {
    "collapsed": true
   },
   "outputs": [],
   "source": [
    "# Data: Small example dataset (House price, # bedrooms, # squarefeet)\n",
    "# This is the sample data which will be used to train the model.\n",
    "\n",
    "trainData = np.array([[100000,2,1600],\n",
    "                     [200000,4,2500],\n",
    "                     [250000,4,3000],\n",
    "                     [150000,3,2000]])"
   ]
  },
  {
   "cell_type": "code",
   "execution_count": 4,
   "metadata": {
    "collapsed": true
   },
   "outputs": [],
   "source": [
    "# First thing we do, is convert the data into z-scores. This is called scaling the data.\n",
    "trainData, mean, stdDev = scaleData(trainData)"
   ]
  },
  {
   "cell_type": "markdown",
   "metadata": {},
   "source": [
    "## 2. Split the dataset -- y & X"
   ]
  },
  {
   "cell_type": "markdown",
   "metadata": {},
   "source": [
    "$$\\text{Linear Regression:}$$\n",
    "$$f(x) = \\theta_{0} + \\theta_{1}*X_{1} + \\theta_{2}*X_{2} + … + \\theta_{n}*X_{n}$$\n",
    "\n",
    "y = f(x) = the dependent variable that we intend to predict, in this case 'house price'  \n",
    "\n",
    "X = the array of independent variables that we will train on  \n",
    "\n",
    "$\\theta_{0}$ = a constant included in the linear regression formula, this must be added to our dataset and by convention these values are all set to '1'."
   ]
  },
  {
   "cell_type": "code",
   "execution_count": 5,
   "metadata": {
    "collapsed": true
   },
   "outputs": [],
   "source": [
    "# Slice the first column (house prices), and store appropriately as y\n",
    "y = np.matrix(trainData[:,0])\n",
    "\n",
    "# By default, y will be row vector above, we want to ensure it is a column vector instead\n",
    "y = y.T\n",
    "\n",
    "# Slice the rest of the columns (# bedrooms, # squarefeet), and store appropriatel as X\n",
    "X = np.matrix(trainData[:,1:])"
   ]
  },
  {
   "cell_type": "code",
   "execution_count": 6,
   "metadata": {
    "collapsed": false
   },
   "outputs": [],
   "source": [
    "# m = # of training samples in X ; Store this value \n",
    "m = y.size\n",
    "\n",
    "# Now append a new column, size 'm', of 1's to X. This represents the constant 'theta' as described above. \n",
    "constTheta = np.ones(shape=(m, 1))\n",
    "X = np.append(constTheta,X,1)"
   ]
  },
  {
   "cell_type": "code",
   "execution_count": 8,
   "metadata": {
    "collapsed": false
   },
   "outputs": [
    {
     "data": {
      "text/plain": [
       "matrix([[ 1.        , -1.50755672, -1.28280871],\n",
       "        [ 1.        ,  0.90453403,  0.4276029 ],\n",
       "        [ 1.        ,  0.90453403,  1.37783158],\n",
       "        [ 1.        , -0.30151134, -0.52262577]])"
      ]
     },
     "execution_count": 8,
     "metadata": {},
     "output_type": "execute_result"
    }
   ],
   "source": [
    "# Examine X for the appended theta column. We should see a matrix of (1, z-score # bedrooms, z-score # sq feet)\n",
    "X"
   ]
  },
  {
   "cell_type": "markdown",
   "metadata": {},
   "source": [
    "## 3. Cost Function"
   ]
  },
  {
   "cell_type": "markdown",
   "metadata": {},
   "source": [
    "The cost function calculates the accuracy of our $\\theta$s. Our goal is minimize this function. When our predicted value is very close to the actual value, our model is then considered to be accurate. When this occurs, 'J' becomes very small. \n",
    "\n",
    "$$J = \\frac{1}{2m} \\sum_{i=1}^{m}( \\hat{y} - y)^2 $$ \n",
    "\n",
    "Where:\n",
    "\n",
    "- J = cost function value, aka squared error function\n",
    "\n",
    "- y = actual value in our training set (house price)\n",
    "\n",
    "- $\\hat{y}$ = is the predicted value of y, based on the current $\\theta$s\n",
    "\n",
    "- m = number of training samples\n"
   ]
  },
  {
   "cell_type": "code",
   "execution_count": 11,
   "metadata": {
    "collapsed": true
   },
   "outputs": [],
   "source": [
    "# Define a function to calculate the cost function (J) \n",
    "# Note: For optimization, loops are avoided by matrix multiplication\n",
    "def compute_cost(X, y, theta):\n",
    "    m = y.size\n",
    "    y_hat = X.dot(theta)\n",
    "    J = (1.0/2*m)* (y_hat - y).T.dot((y_hat - y))  \n",
    "    return J"
   ]
  },
  {
   "cell_type": "markdown",
   "metadata": {},
   "source": [
    "## Gradient Descent"
   ]
  },
  {
   "cell_type": "markdown",
   "metadata": {},
   "source": [
    "This is the step of minimizing the cost function 'J', computed above. We use a specific algorithm for this minimization known as 'batch gradient descent'.\n",
    "\n",
    "The following is repeated, until converged:\n",
    "\n",
    "$$\\theta = \\theta-\\alpha\\frac{\\partial}{\\partial\\theta}J(\\theta)$$\n",
    "\n",
    "Where:\n",
    "\n",
    "- "
   ]
  },
  {
   "cell_type": "code",
   "execution_count": null,
   "metadata": {
    "collapsed": true
   },
   "outputs": [],
   "source": []
  }
 ],
 "metadata": {
  "anaconda-cloud": {},
  "kernelspec": {
   "display_name": "Python [conda root]",
   "language": "python",
   "name": "conda-root-py"
  },
  "language_info": {
   "codemirror_mode": {
    "name": "ipython",
    "version": 3
   },
   "file_extension": ".py",
   "mimetype": "text/x-python",
   "name": "python",
   "nbconvert_exporter": "python",
   "pygments_lexer": "ipython3",
   "version": "3.5.2"
  }
 },
 "nbformat": 4,
 "nbformat_minor": 1
}
